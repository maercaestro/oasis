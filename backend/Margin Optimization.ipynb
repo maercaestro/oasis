{
 "cells": [
  {
   "cell_type": "code",
   "execution_count": 1,
   "id": "900fe984-43d1-442c-9342-a5a404e190ea",
   "metadata": {
    "microsoft": {
     "language": "python",
     "language_group": "jupyter_python"
    }
   },
   "outputs": [
    {
     "data": {
      "application/vnd.jupyter.statement-meta+json": {
       "execution_finish_time": "2025-07-22T09:25:06.0009583Z",
       "execution_start_time": "2025-07-22T09:24:38.1197609Z",
       "normalized_state": "finished",
       "parent_msg_id": "4b6b2b07-fef5-479e-bb06-81e430b0cd4b",
       "queued_time": "2025-07-22T09:24:38.1178115Z",
       "session_id": "f4c9b725-e93b-42ed-a44f-72e20c985c4a",
       "session_start_time": null
      }
     },
     "metadata": {},
     "output_type": "display_data"
    }
   ],
   "source": [
    "%%capture\n",
    "!conda install -c conda-forge scip -y\n",
    "!pip install PySCIPOpt\n",
    "!pip install pyomo\n",
    "!pip install highspy\n",
    "!pip install mlflow"
   ]
  },
  {
   "cell_type": "code",
   "execution_count": 2,
   "id": "e4abbf5c-c631-4292-a128-bd302a8ebcae",
   "metadata": {
    "microsoft": {
     "language": "python",
     "language_group": "jupyter_python"
    }
   },
   "outputs": [
    {
     "data": {
      "application/vnd.jupyter.statement-meta+json": {
       "execution_finish_time": "2025-07-22T09:25:06.4723936Z",
       "execution_start_time": "2025-07-22T09:25:06.002901Z",
       "normalized_state": "finished",
       "parent_msg_id": "a67c8b62-1583-41a5-8e27-c91ff2f40d0c",
       "queued_time": "2025-07-22T09:24:38.2577455Z",
       "session_id": "f4c9b725-e93b-42ed-a44f-72e20c985c4a",
       "session_start_time": null
      }
     },
     "metadata": {},
     "output_type": "display_data"
    }
   ],
   "source": [
    "# # Pipeline parameters\n",
    "# scenario = \"Scenario Abu\"\n",
    "# vessel_count = 6\n",
    "# optimization_type = \"throughput\"\n",
    "# max_demurrage_limit = 10"
   ]
  },
  {
   "cell_type": "markdown",
   "id": "a946cf04-c53f-4592-a64d-80882bde4dec",
   "metadata": {
    "microsoft": {
     "language": "python",
     "language_group": "jupyter_python"
    },
    "nteract": {
     "transient": {
      "deleting": false
     }
    }
   },
   "source": [
    "## ML Flow Initiation"
   ]
  },
  {
   "cell_type": "code",
   "execution_count": 3,
   "id": "d33afdd0-7779-498d-810c-7886546fe9b8",
   "metadata": {
    "microsoft": {
     "language": "python",
     "language_group": "jupyter_python"
    }
   },
   "outputs": [
    {
     "data": {
      "application/vnd.jupyter.statement-meta+json": {
       "execution_finish_time": "2025-07-22T09:25:09.7494239Z",
       "execution_start_time": "2025-07-22T09:25:06.474257Z",
       "normalized_state": "finished",
       "parent_msg_id": "b7fec06d-a65f-46db-a8ea-b2583563fd84",
       "queued_time": "2025-07-22T09:24:38.4706082Z",
       "session_id": "f4c9b725-e93b-42ed-a44f-72e20c985c4a",
       "session_start_time": null
      }
     },
     "metadata": {},
     "output_type": "display_data"
    },
    {
     "data": {
      "text/plain": [
       "<ActiveRun: >"
      ]
     },
     "execution_count": 62,
     "metadata": {},
     "output_type": "execute_result"
    }
   ],
   "source": [
    "import mlflow\n",
    "mlflow.set_experiment(f\"vessel_routing_crude_blending_optimization_scenario_{scenario.replace(' ', '')}_experiment\")\n",
    "mlflow.start_run()"
   ]
  },
  {
   "cell_type": "markdown",
   "id": "af486879-400b-48ae-ad6a-718cde5ed8e2",
   "metadata": {
    "microsoft": {
     "language": "python",
     "language_group": "jupyter_python"
    },
    "nteract": {
     "transient": {
      "deleting": false
     }
    }
   },
   "source": [
    "### Load Data\n"
   ]
  },
  {
   "cell_type": "code",
   "execution_count": 4,
   "id": "192efa8e-95ee-4e2f-b06c-4f61bf3b426b",
   "metadata": {
    "microsoft": {
     "language": "python",
     "language_group": "jupyter_python"
    }
   },
   "outputs": [
    {
     "data": {
      "application/vnd.jupyter.statement-meta+json": {
       "execution_finish_time": "2025-07-22T09:25:10.2094181Z",
       "execution_start_time": "2025-07-22T09:25:09.7513663Z",
       "normalized_state": "finished",
       "parent_msg_id": "bfe34e00-2822-4c94-b03b-b5c1a0e2ebb6",
       "queued_time": "2025-07-22T09:24:39.0055793Z",
       "session_id": "f4c9b725-e93b-42ed-a44f-72e20c985c4a",
       "session_start_time": null
      }
     },
     "metadata": {},
     "output_type": "display_data"
    }
   ],
   "source": [
    "import pandas as pd\n",
    "import json\n",
    "# Scenario=\"Scenario-1\" # to be fetched by pipeline parameter\n",
    "\n",
    "\n",
    "def load_all_scenario_data(scenario):\n",
    "\n",
    "    base_path = f\"/lakehouse/default/Files/{scenario}/\"\n",
    "    with open(f\"{base_path}/config.json\", \"r\") as f:\n",
    "     config = json.load(f)\n",
    "\n",
    "    crude_availability_df = pd.read_csv(base_path + \"crude_availability.csv\")\n",
    "    crude_availability = {}\n",
    "    for _, row in crude_availability_df.iterrows():\n",
    "        crude_availability \\\n",
    "            .setdefault(row[\"date_range\"], {}) \\\n",
    "            .setdefault(row[\"location\"], {})[row[\"crude\"]] = {\n",
    "                \"volume\": int(row[\"volume\"]),\n",
    "                \"parcel_size\": int(row[\"parcel_size\"])\n",
    "            }\n",
    "    \n",
    "   \n",
    "    time_of_travel_df = pd.read_csv(base_path + \"time_of_travel.csv\")\n",
    "    \n",
    "   \n",
    "    time_of_travel = {\n",
    "        (row[\"from\"], row[\"to\"]): int(row[\"time_in_days\"])\n",
    "        for _, row in time_of_travel_df.iterrows()\n",
    "    }\n",
    "    products_info = pd.read_csv(base_path + \"products_info.csv\")\n",
    "    crudes_info_df = pd.read_csv(base_path + \"crudes_info.csv\")\n",
    "    crudes = crudes_info_df[\"crudes\"]\n",
    "    locations = set(time_of_travel_df[\"from\"]) | set(time_of_travel_df[\"to\"])\n",
    "    source_location = crudes_info_df[\"origin\"].to_list()\n",
    "    crude_margins = crudes_info_df['margin'].to_list()\n",
    "\n",
    "    opening_inventory = crudes_info_df['opening_inventory'].to_list()\n",
    "    opening_inventory_dict = dict(zip(crudes.to_list(), opening_inventory))\n",
    "\n",
    "    return config, list(crudes), list(locations), time_of_travel, crude_availability, source_location, products_info, crude_margins, opening_inventory_dict\n",
    "\n",
    "\n",
    "\n",
    "def extract_window_to_days(crude_availability):\n",
    "    window_to_days = {}\n",
    "\n",
    "    for window in crude_availability:\n",
    "        # Split the date range and take only the day parts (ignore month)\n",
    "        parts = window.split()[0]  # e.g., \"1-3\"\n",
    "        if '-' in parts:\n",
    "            start_day, end_day = map(int, parts.split('-'))\n",
    "            days = list(range(start_day, end_day + 1))\n",
    "        else:\n",
    "            days = [int(parts)]\n",
    "        window_to_days[window] = days\n",
    "\n",
    "    return window_to_days\n",
    "\n",
    "\n",
    "config, crudes, locations, time_of_travel, crude_availability, source_location, products_info, crude_margins, opening_inventory_dict = load_all_scenario_data(scenario)\n",
    "\n",
    "\n",
    "window_to_days = extract_window_to_days(crude_availability)"
   ]
  },
  {
   "cell_type": "code",
   "execution_count": 5,
   "id": "16b83b88-d06a-49eb-b1f4-c5570003826c",
   "metadata": {
    "microsoft": {
     "language": "python",
     "language_group": "jupyter_python"
    }
   },
   "outputs": [
    {
     "data": {
      "application/vnd.jupyter.statement-meta+json": {
       "execution_finish_time": "2025-07-22T09:25:10.6613483Z",
       "execution_start_time": "2025-07-22T09:25:10.211338Z",
       "normalized_state": "finished",
       "parent_msg_id": "78dd9068-fa4a-4e37-a679-628c1bd079da",
       "queued_time": "2025-07-22T09:24:39.2663188Z",
       "session_id": "f4c9b725-e93b-42ed-a44f-72e20c985c4a",
       "session_start_time": null
      }
     },
     "metadata": {},
     "output_type": "display_data"
    }
   ],
   "source": [
    "import ast\n",
    "def extract_products_ratio(df):\n",
    "    \"\"\"Convert DataFrame using dictionary comprehension\"\"\"\n",
    "    return {\n",
    "        (row['product'], crude): ratio\n",
    "        for _, row in df.iterrows()\n",
    "        for crude, ratio in zip(ast.literal_eval(row['crudes']), ast.literal_eval(row['ratios']))\n",
    "    }\n",
    "products_ratio=extract_products_ratio(products_info)"
   ]
  },
  {
   "cell_type": "markdown",
   "id": "9abc86ea-913c-4787-9d7d-ff1993b9eaf9",
   "metadata": {
    "microsoft": {
     "language": "python",
     "language_group": "jupyter_python"
    },
    "nteract": {
     "transient": {
      "deleting": false
     }
    }
   },
   "source": [
    "### Creating pyomo model"
   ]
  },
  {
   "cell_type": "code",
   "execution_count": 6,
   "id": "58da0369-cb6f-41fb-a8f3-31ed07c26872",
   "metadata": {
    "microsoft": {
     "language": "python",
     "language_group": "jupyter_python"
    }
   },
   "outputs": [
    {
     "data": {
      "application/vnd.jupyter.statement-meta+json": {
       "execution_finish_time": "2025-07-22T09:25:11.1118856Z",
       "execution_start_time": "2025-07-22T09:25:10.6628165Z",
       "normalized_state": "finished",
       "parent_msg_id": "d9f47ab6-6e88-4120-b032-e060e7d86771",
       "queued_time": "2025-07-22T09:24:39.5467666Z",
       "session_id": "f4c9b725-e93b-42ed-a44f-72e20c985c4a",
       "session_start_time": null
      }
     },
     "metadata": {},
     "output_type": "display_data"
    }
   ],
   "source": [
    "from pyomo.environ import *\n",
    "model = ConcreteModel()"
   ]
  },
  {
   "cell_type": "markdown",
   "id": "0792aa02-bb50-40b8-aa4c-c7f05c71a436",
   "metadata": {
    "microsoft": {
     "language": "python",
     "language_group": "jupyter_python"
    },
    "nteract": {
     "transient": {
      "deleting": false
     }
    }
   },
   "source": [
    "### Creating Sets"
   ]
  },
  {
   "cell_type": "markdown",
   "id": "8f7853a7-d58c-4456-a84a-91b31a4f7b2c",
   "metadata": {
    "microsoft": {
     "language": "python",
     "language_group": "jupyter_python"
    },
    "nteract": {
     "transient": {
      "deleting": false
     }
    }
   },
   "source": [
    "Travelling data"
   ]
  },
  {
   "cell_type": "code",
   "execution_count": 7,
   "id": "0070e91a-5b8e-4ad4-ab63-4c512ad784bb",
   "metadata": {
    "microsoft": {
     "language": "python",
     "language_group": "jupyter_python"
    }
   },
   "outputs": [
    {
     "data": {
      "application/vnd.jupyter.statement-meta+json": {
       "execution_finish_time": "2025-07-22T09:25:11.5548155Z",
       "execution_start_time": "2025-07-22T09:25:11.1139684Z",
       "normalized_state": "finished",
       "parent_msg_id": "9c3ba99b-1599-48fa-88d9-8929eeb9ffda",
       "queued_time": "2025-07-22T09:24:39.8023802Z",
       "session_id": "f4c9b725-e93b-42ed-a44f-72e20c985c4a",
       "session_start_time": null
      }
     },
     "metadata": {},
     "output_type": "display_data"
    }
   ],
   "source": [
    "INVENTORY_MAX_VOLUME = config[\"INVENTORY_MAX_VOLUME\"] \n",
    "# MaxTransitions = 8\n",
    "MaxTransitions=config[\"MaxTransitions\"] \n",
    "model.CRUDES = Set(initialize=crudes)\n",
    "model.LOCATIONS = Set(initialize=locations)\n",
    "model.SOURCE_LOCATIONS = Set(initialize=source_location)\n",
    "config[\"VESSELS\"] = list(range(1,vessel_count+1))\n",
    "model.VESSELS = Set(initialize=config[\"VESSELS\"])\n",
    "# model.VESSELS = Set(initialize=[1, 2, 3, 4, 5])\n",
    "model.DAYS = RangeSet(config[\"DAYS\"][\"start\"], config[\"DAYS\"][\"end\"])\n",
    "\n",
    "# product_list = ['F1', 'F2', 'F3', 'F4', 'F5', 'F6', 'F7']\n",
    "model.BLENDS = Set(initialize=products_info['product'].to_list(),dimen=None)\n",
    "# model.BLENDS = Set(initialize=product_list,dimen=None)\n",
    "model.SLOTS = RangeSet(config[\"DAYS\"][\"start\"],2*config[\"DAYS\"][\"end\"])"
   ]
  },
  {
   "cell_type": "markdown",
   "id": "d38db58c-d383-48fe-b9c6-fca1b8998462",
   "metadata": {
    "microsoft": {
     "language": "python",
     "language_group": "jupyter_python"
    },
    "nteract": {
     "transient": {
      "deleting": false
     }
    }
   },
   "source": [
    "Blending data"
   ]
  },
  {
   "cell_type": "code",
   "execution_count": null,
   "id": "4b87edc0-a23a-4139-96fd-fa8af5b37160",
   "metadata": {
    "microsoft": {
     "language": "python",
     "language_group": "jupyter_python"
    }
   },
   "outputs": [],
   "source": []
  },
  {
   "cell_type": "code",
   "execution_count": 8,
   "id": "5f929a90-418f-40ad-a689-9fcb1d2492c5",
   "metadata": {
    "microsoft": {
     "language": "python",
     "language_group": "jupyter_python"
    }
   },
   "outputs": [
    {
     "data": {
      "application/vnd.jupyter.statement-meta+json": {
       "execution_finish_time": "2025-07-22T09:25:11.9849565Z",
       "execution_start_time": "2025-07-22T09:25:11.5567345Z",
       "normalized_state": "finished",
       "parent_msg_id": "0bd58b72-3bc6-4da7-8664-c7c4e3a4f42e",
       "queued_time": "2025-07-22T09:24:40.1929885Z",
       "session_id": "f4c9b725-e93b-42ed-a44f-72e20c985c4a",
       "session_start_time": null
      }
     },
     "metadata": {},
     "output_type": "display_data"
    }
   ],
   "source": [
    "products_capacity = dict(zip(products_info['product'].to_list(), products_info['max_per_day']))\n",
    "crude_margins_dict = dict(zip(crudes, crude_margins))\n",
    "# products_ratio = {\n",
    "#     ('F1','Base'):1.0,\n",
    "#     ('F2','Base'):0.73,\n",
    "#     ('F2','A'):0.27,\n",
    "#     ('F3','Base'):0.73,\n",
    "#     ('F3','B'):0.27,\n",
    "#     ('F4','B'):0.6,\n",
    "#     ('F4','D'):0.4,\n",
    "#     ('F5','Base'):0.73,\n",
    "#     ('F5','C'):0.27,\n",
    "#     ('F6','E'):1.0,\n",
    "#     ('F7','F'):1.0,\n",
    "# }\n",
    "\n",
    "model.BCb = Param(model.BLENDS, initialize=products_capacity)\n",
    "model.BRcb = Param(model.BLENDS, model.CRUDES, initialize=products_ratio, default=0)\n",
    "model.MRc = Param(model.CRUDES, initialize=crude_margins_dict)"
   ]
  },
  {
   "cell_type": "markdown",
   "id": "c606aa67-2c0e-4ce2-a663-a5503e16ecbd",
   "metadata": {
    "microsoft": {
     "language": "python",
     "language_group": "jupyter_python"
    },
    "nteract": {
     "transient": {
      "deleting": false
     }
    }
   },
   "source": [
    "### LDR of the crudes"
   ]
  },
  {
   "cell_type": "code",
   "execution_count": 9,
   "id": "f093c607-c4bd-4980-b128-89c275a79476",
   "metadata": {
    "microsoft": {
     "language": "python",
     "language_group": "jupyter_python"
    }
   },
   "outputs": [
    {
     "data": {
      "application/vnd.jupyter.statement-meta+json": {
       "execution_finish_time": "2025-07-22T09:25:12.4189737Z",
       "execution_start_time": "2025-07-22T09:25:11.9864175Z",
       "normalized_state": "finished",
       "parent_msg_id": "358d0074-4e4c-4aaa-8b98-f772ee1c4b71",
       "queued_time": "2025-07-22T09:24:40.4186681Z",
       "session_id": "f4c9b725-e93b-42ed-a44f-72e20c985c4a",
       "session_start_time": null
      }
     },
     "metadata": {},
     "output_type": "display_data"
    }
   ],
   "source": [
    "parcel_set = set()\n",
    "for window, loc_data in crude_availability.items():\n",
    "    for location, crude_dict in loc_data.items():\n",
    "        for crude_type, info in crude_dict.items():\n",
    "            parcel_set.add((location, crude_type, window))\n",
    "model.PARCELS = Set(initialize=parcel_set, dimen=3)"
   ]
  },
  {
   "cell_type": "markdown",
   "id": "f7040a0b-7473-4fd8-8bb7-df055e541a45",
   "metadata": {
    "microsoft": {
     "language": "python",
     "language_group": "jupyter_python"
    },
    "nteract": {
     "transient": {
      "deleting": false
     }
    }
   },
   "source": [
    "### Creating Params"
   ]
  },
  {
   "cell_type": "markdown",
   "id": "139f7d91-1d15-4656-a6b5-fc293371e539",
   "metadata": {
    "microsoft": {
     "language": "python",
     "language_group": "jupyter_python"
    },
    "nteract": {
     "transient": {
      "deleting": false
     }
    }
   },
   "source": [
    "Parcel sizes"
   ]
  },
  {
   "cell_type": "code",
   "execution_count": null,
   "id": "0e961512-3791-4208-bce1-151e75337a02",
   "metadata": {
    "microsoft": {
     "language": "python",
     "language_group": "jupyter_python"
    }
   },
   "outputs": [],
   "source": []
  },
  {
   "cell_type": "code",
   "execution_count": 10,
   "id": "5fb3c36e-e94f-41ff-aafb-a44eeb7617ae",
   "metadata": {
    "microsoft": {
     "language": "python",
     "language_group": "jupyter_python"
    }
   },
   "outputs": [
    {
     "data": {
      "application/vnd.jupyter.statement-meta+json": {
       "execution_finish_time": "2025-07-22T09:25:12.9066677Z",
       "execution_start_time": "2025-07-22T09:25:12.4210267Z",
       "normalized_state": "finished",
       "parent_msg_id": "e70b8ed6-a02a-4d39-9d90-643bb20ef09d",
       "queued_time": "2025-07-22T09:24:40.8469828Z",
       "session_id": "f4c9b725-e93b-42ed-a44f-72e20c985c4a",
       "session_start_time": null
      }
     },
     "metadata": {},
     "output_type": "display_data"
    }
   ],
   "source": [
    "parcel_size = {}\n",
    "for window, loc_data in crude_availability.items():\n",
    "    for location, crude_dict in loc_data.items():\n",
    "        for crude_type, info in crude_dict.items():\n",
    "            key = (location, crude_type, window)\n",
    "            parcel_size[key] = info[\"parcel_size\"]\n",
    "            \n",
    "model.PVp = Param(model.PARCELS, initialize=parcel_size)"
   ]
  },
  {
   "cell_type": "markdown",
   "id": "8c08f4fd-91e4-4dba-8f21-2bc6856547b5",
   "metadata": {
    "microsoft": {
     "language": "python",
     "language_group": "jupyter_python"
    },
    "nteract": {
     "transient": {
      "deleting": false
     }
    }
   },
   "source": [
    "Crude grades in parcels"
   ]
  },
  {
   "cell_type": "code",
   "execution_count": 11,
   "id": "6524443b-ecbf-4a8d-a915-9ef8c4bc7aef",
   "metadata": {
    "microsoft": {
     "language": "python",
     "language_group": "jupyter_python"
    }
   },
   "outputs": [
    {
     "data": {
      "application/vnd.jupyter.statement-meta+json": {
       "execution_finish_time": "2025-07-22T09:25:13.3625469Z",
       "execution_start_time": "2025-07-22T09:25:12.9084221Z",
       "normalized_state": "finished",
       "parent_msg_id": "6e660da7-c418-434f-8ee7-4b4e0f520a6c",
       "queued_time": "2025-07-22T09:24:41.0986197Z",
       "session_id": "f4c9b725-e93b-42ed-a44f-72e20c985c4a",
       "session_start_time": null
      }
     },
     "metadata": {},
     "output_type": "display_data"
    }
   ],
   "source": [
    "def pc_init(model, *p):\n",
    "    return p[1]\n",
    "model.PCp = Param(model.PARCELS, initialize=pc_init, within=Any)"
   ]
  },
  {
   "cell_type": "markdown",
   "id": "77821213-7eb1-46d3-a30d-0f41bbb4c07e",
   "metadata": {
    "microsoft": {
     "language": "python",
     "language_group": "jupyter_python"
    },
    "nteract": {
     "transient": {
      "deleting": false
     }
    }
   },
   "source": [
    "Travel Time"
   ]
  },
  {
   "cell_type": "code",
   "execution_count": 12,
   "id": "67c6b4b4-bdac-4c01-a397-87beea255b2c",
   "metadata": {
    "microsoft": {
     "language": "python",
     "language_group": "jupyter_python"
    }
   },
   "outputs": [
    {
     "data": {
      "application/vnd.jupyter.statement-meta+json": {
       "execution_finish_time": "2025-07-22T09:25:13.7860954Z",
       "execution_start_time": "2025-07-22T09:25:13.364422Z",
       "normalized_state": "finished",
       "parent_msg_id": "416a02ab-1a3f-4ca4-a9b8-5113ce618c4b",
       "queued_time": "2025-07-22T09:24:41.32818Z",
       "session_id": "f4c9b725-e93b-42ed-a44f-72e20c985c4a",
       "session_start_time": null
      }
     },
     "metadata": {},
     "output_type": "display_data"
    }
   ],
   "source": [
    "model.Travel_Time = Param(model.LOCATIONS, model.LOCATIONS, initialize=time_of_travel)"
   ]
  },
  {
   "cell_type": "markdown",
   "id": "eaab5431-45e7-4d92-bf37-0bd0c6e3377d",
   "metadata": {
    "microsoft": {
     "language": "python",
     "language_group": "jupyter_python"
    },
    "nteract": {
     "transient": {
      "deleting": false
     }
    }
   },
   "source": [
    "Parcel pickup days"
   ]
  },
  {
   "cell_type": "code",
   "execution_count": 13,
   "id": "32522adb-13fc-4a4e-b84f-78c6dd54a2fa",
   "metadata": {
    "microsoft": {
     "language": "python",
     "language_group": "jupyter_python"
    }
   },
   "outputs": [
    {
     "data": {
      "application/vnd.jupyter.statement-meta+json": {
       "execution_finish_time": "2025-07-22T09:25:14.2256211Z",
       "execution_start_time": "2025-07-22T09:25:13.7877719Z",
       "normalized_state": "finished",
       "parent_msg_id": "67fc865c-a00c-428e-b497-c4201dd01d59",
       "queued_time": "2025-07-22T09:24:41.5778009Z",
       "session_id": "f4c9b725-e93b-42ed-a44f-72e20c985c4a",
       "session_start_time": null
      }
     },
     "metadata": {},
     "output_type": "display_data"
    }
   ],
   "source": [
    "def pdp_init(model, *p):\n",
    "    window = p[2]  \n",
    "    return window_to_days[window]\n",
    "model.PDp = Param(model.PARCELS, initialize=pdp_init)"
   ]
  },
  {
   "cell_type": "code",
   "execution_count": 14,
   "id": "38f7a145-f829-4a1d-adb0-33122996b32d",
   "metadata": {
    "microsoft": {
     "language": "python",
     "language_group": "jupyter_python"
    }
   },
   "outputs": [
    {
     "data": {
      "application/vnd.jupyter.statement-meta+json": {
       "execution_finish_time": "2025-07-22T09:25:14.6602103Z",
       "execution_start_time": "2025-07-22T09:25:14.2275094Z",
       "normalized_state": "finished",
       "parent_msg_id": "7d3e9844-81b4-4754-9b2c-cf9c2df54da5",
       "queued_time": "2025-07-22T09:24:41.8170487Z",
       "session_id": "f4c9b725-e93b-42ed-a44f-72e20c985c4a",
       "session_start_time": null
      }
     },
     "metadata": {},
     "output_type": "display_data"
    }
   ],
   "source": [
    "def plp_init(model, *p):\n",
    "    return p[0]\n",
    "model.PLp = Param(model.PARCELS, within=model.SOURCE_LOCATIONS, initialize=plp_init)"
   ]
  },
  {
   "cell_type": "markdown",
   "id": "ae075a60",
   "metadata": {},
   "source": [
    "Adding the inventory capactiy according to the day"
   ]
  },
  {
   "cell_type": "code",
   "execution_count": 15,
   "id": "c71345c8-f77c-4cb2-9298-2e2562e526b1",
   "metadata": {
    "microsoft": {
     "language": "python",
     "language_group": "jupyter_python"
    }
   },
   "outputs": [
    {
     "data": {
      "application/vnd.jupyter.statement-meta+json": {
       "execution_finish_time": "2025-07-22T09:25:15.0959101Z",
       "execution_start_time": "2025-07-22T09:25:14.6619945Z",
       "normalized_state": "finished",
       "parent_msg_id": "c0272d4f-5d1a-48a7-8277-2ae12b45818d",
       "queued_time": "2025-07-22T09:24:42.0991439Z",
       "session_id": "f4c9b725-e93b-42ed-a44f-72e20c985c4a",
       "session_start_time": null
      }
     },
     "metadata": {},
     "output_type": "display_data"
    }
   ],
   "source": [
    "days = list(range(config[\"DAYS\"][\"start\"], config[\"DAYS\"][\"end\"] + 1))\n",
    "capacity_dict = {}\n",
    "\n",
    "for entry in config['Range']:\n",
    "    cap = entry['capacity']\n",
    "    start = entry['start_date']\n",
    "    end = entry['end_date']\n",
    "    for day in range(start, end + 1):\n",
    "        capacity_dict[day] = cap\n",
    "\n",
    "default_capacity = config['default_capacity']\n",
    "for day in days:\n",
    "    capacity_dict.setdefault(day, default_capacity)\n",
    "\n"
   ]
  },
  {
   "cell_type": "code",
   "execution_count": 16,
   "id": "3186f6d6",
   "metadata": {
    "microsoft": {
     "language": "python",
     "language_group": "jupyter_python"
    }
   },
   "outputs": [
    {
     "data": {
      "application/vnd.jupyter.statement-meta+json": {
       "execution_finish_time": "2025-07-22T09:25:15.5117095Z",
       "execution_start_time": "2025-07-22T09:25:15.0977571Z",
       "normalized_state": "finished",
       "parent_msg_id": "e43d0343-a6e2-4adf-900c-f627f34fb06c",
       "queued_time": "2025-07-22T09:24:42.313434Z",
       "session_id": "f4c9b725-e93b-42ed-a44f-72e20c985c4a",
       "session_start_time": null
      }
     },
     "metadata": {},
     "output_type": "display_data"
    }
   ],
   "source": [
    "# days = list(range(1, 32))\n",
    "# capacities = [80000 if 18 <= d <= 27 else 960000 for d in days]\n",
    "# capacity_dict = dict(zip(days, capacities))\n",
    "model.RCd = Param(model.DAYS, initialize=capacity_dict)"
   ]
  },
  {
   "cell_type": "markdown",
   "id": "cf085136-34ce-4ac0-9b87-9d704a26956a",
   "metadata": {
    "microsoft": {
     "language": "python",
     "language_group": "jupyter_python"
    },
    "nteract": {
     "transient": {
      "deleting": false
     }
    }
   },
   "source": [
    "### Decision variables"
   ]
  },
  {
   "cell_type": "code",
   "execution_count": 17,
   "id": "ef8cad30-07c0-41f7-a4a7-5e9dc4bc712f",
   "metadata": {
    "microsoft": {
     "language": "python",
     "language_group": "jupyter_python"
    }
   },
   "outputs": [
    {
     "data": {
      "application/vnd.jupyter.statement-meta+json": {
       "execution_finish_time": "2025-07-22T09:25:15.9397531Z",
       "execution_start_time": "2025-07-22T09:25:15.5133214Z",
       "normalized_state": "finished",
       "parent_msg_id": "587907d6-94c3-4b52-b306-418b4a5961f6",
       "queued_time": "2025-07-22T09:24:42.5340424Z",
       "session_id": "f4c9b725-e93b-42ed-a44f-72e20c985c4a",
       "session_start_time": null
      }
     },
     "metadata": {},
     "output_type": "display_data"
    }
   ],
   "source": [
    "model.AtLocation = Var(model.VESSELS, model.LOCATIONS, model.DAYS, domain=Binary)\n",
    "model.Discharge = Var(model.VESSELS, model.DAYS, domain=Binary)\n",
    "model.Pickup = Var(model.VESSELS, model.PARCELS, model.DAYS, domain=Binary)\n",
    "model.Inventory = Var(model.CRUDES, model.DAYS, domain=NonNegativeReals)\n",
    "model.BlendFraction = Var(model.BLENDS, model.SLOTS, domain=NonNegativeReals)\n",
    "model.DischargeDay = Var(model.VESSELS, domain=PositiveIntegers)\n",
    "model.Ullage = Var(model.DAYS, domain=NonNegativeReals)"
   ]
  },
  {
   "cell_type": "markdown",
   "id": "7aa97a23-0674-4f79-96d5-03dd05dbec39",
   "metadata": {
    "microsoft": {
     "language": "python",
     "language_group": "jupyter_python"
    },
    "nteract": {
     "transient": {
      "deleting": false
     }
    }
   },
   "source": [
    "## Auxilary variables"
   ]
  },
  {
   "cell_type": "code",
   "execution_count": 18,
   "id": "87713640-0f2f-446c-9103-137acd21dd49",
   "metadata": {
    "microsoft": {
     "language": "python",
     "language_group": "jupyter_python"
    }
   },
   "outputs": [
    {
     "data": {
      "application/vnd.jupyter.statement-meta+json": {
       "execution_finish_time": "2025-07-22T09:25:16.3860235Z",
       "execution_start_time": "2025-07-22T09:25:15.941662Z",
       "normalized_state": "finished",
       "parent_msg_id": "6a20907e-5ce2-4c4b-a886-7d819bca1b6b",
       "queued_time": "2025-07-22T09:24:42.772339Z",
       "session_id": "f4c9b725-e93b-42ed-a44f-72e20c985c4a",
       "session_start_time": null
      }
     },
     "metadata": {},
     "output_type": "display_data"
    }
   ],
   "source": [
    "model.LocationVisited = Var(model.VESSELS, model.LOCATIONS, domain=Binary)\n",
    "model.CrudeInVessel = Var(model.VESSELS, model.CRUDES, domain=Binary)\n",
    "\n",
    "model.NumGrades12 = Var(model.VESSELS, domain=Binary)\n",
    "model.NumGrades3 = Var(model.VESSELS, domain=Binary)\n",
    "\n",
    "model.VolumeDischarged = Var(model.VESSELS, model.CRUDES, model.DAYS, domain=NonNegativeReals)\n",
    "model.VolumeOnboard = Var(model.VESSELS, model.CRUDES, domain=NonNegativeReals)\n",
    "\n",
    "model.IsBlendConsumed = Var(model.BLENDS, model.SLOTS, domain=Binary)\n",
    "\n",
    "model.IsTransition = Var(model.BLENDS, model.SLOTS, domain=Binary)\n",
    "model.Departure = Var(model.VESSELS, model.LOCATIONS, model.DAYS, domain=Binary)"
   ]
  },
  {
   "cell_type": "markdown",
   "id": "d9535ca0-0f5c-485d-b5da-b0979268b0ee",
   "metadata": {
    "microsoft": {
     "language": "python",
     "language_group": "jupyter_python"
    },
    "nteract": {
     "transient": {
      "deleting": false
     }
    }
   },
   "source": [
    "## Constraints"
   ]
  },
  {
   "cell_type": "markdown",
   "id": "715bc890-3a14-4afb-8e8b-0505c8bd7278",
   "metadata": {
    "microsoft": {
     "language": "python",
     "language_group": "jupyter_python"
    },
    "nteract": {
     "transient": {
      "deleting": false
     }
    }
   },
   "source": [
    "### 1. Vessel Travel Constraints"
   ]
  },
  {
   "cell_type": "code",
   "execution_count": 19,
   "id": "4c08464d-5a70-43d0-8fa7-145655e84406",
   "metadata": {
    "microsoft": {
     "language": "python",
     "language_group": "jupyter_python"
    }
   },
   "outputs": [
    {
     "data": {
      "application/vnd.jupyter.statement-meta+json": {
       "execution_finish_time": "2025-07-22T09:25:27.5274717Z",
       "execution_start_time": "2025-07-22T09:25:16.3878986Z",
       "normalized_state": "finished",
       "parent_msg_id": "2118d153-1f18-46b8-a4d4-0c5e60f39619",
       "queued_time": "2025-07-22T09:24:42.9890213Z",
       "session_id": "f4c9b725-e93b-42ed-a44f-72e20c985c4a",
       "session_start_time": null
      }
     },
     "metadata": {},
     "output_type": "display_data"
    }
   ],
   "source": [
    "# Constraint 1\n",
    "\n",
    "# equation - 1\n",
    "# 1. A vessel can only be at one location on a given day\n",
    "def vessel_single_location_rule(model, v, d):\n",
    "    return sum(model.AtLocation[v, l, d] for l in model.LOCATIONS) <= 1\n",
    "model.VesselSingleLocation = Constraint(model.VESSELS, model.DAYS, rule=vessel_single_location_rule)\n",
    "\n",
    "# Constraint 2\n",
    "\n",
    "# equation - 2\n",
    "# 2. A vessel cannot visit a location twice. This can be modeled by putting a constraint that for a given vessel and a location, a 1 turning to 0 from day d to d + 1 can only happen once in the whole schedule.\n",
    "def departure_lower_bound_rule(model, v, l, d):\n",
    "    if d == model.DAYS[-1]:  # Ensure d+1 is within bounds\n",
    "        return Constraint.Skip\n",
    "    else:\n",
    "        return model.Departure[v, l, d] >= model.AtLocation[v, l, d] - model.AtLocation[v, l, d + 1]\n",
    "model.DepartureLowerBound = Constraint(model.VESSELS, model.LOCATIONS, model.DAYS, rule=departure_lower_bound_rule)\n",
    "\n",
    "\n",
    "# equation - 3\n",
    "def departure_upper_bound1_rule(model, v, l, d):\n",
    "    return model.Departure[v, l, d] <= model.AtLocation[v, l, d]\n",
    "model.DepartureUpperBound1 = Constraint(model.VESSELS, model.LOCATIONS, model.DAYS, rule=departure_upper_bound1_rule)\n",
    "\n",
    "\n",
    "# equation - 4\n",
    "def departure_upper_bound2_rule(model, v, l, d):\n",
    "    if d == model.DAYS[-1]:\n",
    "        return Constraint.Skip\n",
    "    else:\n",
    "        return model.Departure[v, l, d] <= 1 - model.AtLocation[v, l, d + 1]\n",
    "model.DepartureUpperBound2 = Constraint(model.VESSELS, model.LOCATIONS, model.DAYS, rule=departure_upper_bound2_rule)\n",
    "\n",
    "\n",
    "# equation - 5\n",
    "def single_departure_per_location_rule(model, v, l):\n",
    "    return sum(model.Departure[v, l, d] for d in model.DAYS) <= 1\n",
    "model.SingleDeparturePerLocation = Constraint(model.VESSELS, model.LOCATIONS, rule=single_departure_per_location_rule)\n",
    "\n",
    "\n",
    "# Constraint 3\n",
    "#  After departure from a source location the vessel should reach destination location according to the vessel travel time.\n",
    "\n",
    "# equation - 6\n",
    "def enforce_travel_time_rule(model, v, l, d):\n",
    "    valid_destinations = []\n",
    "    for l2 in model.LOCATIONS:\n",
    "        if (l,l2) in time_of_travel:\n",
    "            travel_time = model.Travel_Time[l, l2]\n",
    "            arrival_day = d + travel_time\n",
    "            if arrival_day in model.DAYS:\n",
    "                valid_destinations.append(model.AtLocation[v, l2, arrival_day])\n",
    "    if valid_destinations:\n",
    "        return model.Departure[v, l, d] <= sum(valid_destinations)\n",
    "    else:\n",
    "        return Constraint.Skip\n",
    "model.EnforceTravelTime = Constraint(model.VESSELS, model.SOURCE_LOCATIONS, model.DAYS, rule=enforce_travel_time_rule)\n",
    "\n",
    "# Constraint 4\n",
    "\n",
    "# equation - 7\n",
    "# Vessel can’t reach the destination location before the travel time between the locations.\n",
    "def no_early_arrival_rule(model, vessel, source_location, destination_location, start_day, end_day):\n",
    "    if source_location == destination_location:\n",
    "        return Constraint.Skip\n",
    "        \n",
    "    if (source_location,destination_location) not in time_of_travel:\n",
    "        return Constraint.Skip\n",
    "\n",
    "    if end_day-start_day>=model.Travel_Time[source_location, destination_location]:\n",
    "        return Constraint.Skip\n",
    "    \n",
    "    if end_day<=start_day:\n",
    "        return Constraint.Skip\n",
    "    \n",
    "    return model.AtLocation[vessel, source_location, start_day] + model.AtLocation[vessel, destination_location, end_day] <= 1\n",
    "model.NoEarlyArrival = Constraint(model.VESSELS, model.LOCATIONS, \n",
    "                                model.LOCATIONS, model.DAYS, model.DAYS, rule=no_early_arrival_rule)"
   ]
  },
  {
   "cell_type": "markdown",
   "id": "5a964d8e-7f2f-46f7-bd15-64d526ab9be4",
   "metadata": {
    "microsoft": {
     "language": "python",
     "language_group": "jupyter_python"
    },
    "nteract": {
     "transient": {
      "deleting": false
     }
    }
   },
   "source": [
    "### 2. Vessel loading Constraints"
   ]
  },
  {
   "cell_type": "code",
   "execution_count": 20,
   "id": "37d95a0a-6e1e-488e-88ac-ff5815852088",
   "metadata": {
    "microsoft": {
     "language": "python",
     "language_group": "jupyter_python"
    }
   },
   "outputs": [
    {
     "data": {
      "application/vnd.jupyter.statement-meta+json": {
       "execution_finish_time": "2025-07-22T09:25:27.995969Z",
       "execution_start_time": "2025-07-22T09:25:27.5292983Z",
       "normalized_state": "finished",
       "parent_msg_id": "a570dc3f-0b2b-4f68-b445-914eb4c980c5",
       "queued_time": "2025-07-22T09:24:43.217398Z",
       "session_id": "f4c9b725-e93b-42ed-a44f-72e20c985c4a",
       "session_start_time": null
      }
     },
     "metadata": {},
     "output_type": "display_data"
    }
   ],
   "source": [
    "# Constraint\n",
    "\n",
    "# equation - 8\n",
    "# 1. Every vessel has to at least pick one parcel.\n",
    "def atleast_one_parcel_per_vessel(model, vessel):\n",
    "    return sum(\n",
    "        model.Pickup[vessel, parcel, day] \n",
    "        for parcel in model.PARCELS\n",
    "        for day in model.DAYS\n",
    "    ) >= 1\n",
    "model.AtleastOneParcelPerVessel = Constraint(model.VESSELS, rule=atleast_one_parcel_per_vessel)"
   ]
  },
  {
   "cell_type": "code",
   "execution_count": 21,
   "id": "976f50c1-99c7-4c7e-ba60-6246c4c0ce08",
   "metadata": {
    "microsoft": {
     "language": "python",
     "language_group": "jupyter_python"
    }
   },
   "outputs": [
    {
     "data": {
      "application/vnd.jupyter.statement-meta+json": {
       "execution_finish_time": "2025-07-22T09:25:28.4240704Z",
       "execution_start_time": "2025-07-22T09:25:27.9978328Z",
       "normalized_state": "finished",
       "parent_msg_id": "4061ef81-97c4-46a0-885d-1cea7cf90782",
       "queued_time": "2025-07-22T09:24:43.4611902Z",
       "session_id": "f4c9b725-e93b-42ed-a44f-72e20c985c4a",
       "session_start_time": null
      }
     },
     "metadata": {},
     "output_type": "display_data"
    }
   ],
   "source": [
    "# equation - 9\n",
    "# 2. A parcel can only be picked up by one vessel.\n",
    "def one_ship_for_one_parcel_pickup(model, *parcel):\n",
    "    return sum(\n",
    "        model.Pickup[vessel, parcel, day] \n",
    "        for vessel in model.VESSELS\n",
    "        for day in model.DAYS\n",
    "    ) <= 1\n",
    "model.OneVesselParcel = Constraint(model.PARCELS, rule=one_ship_for_one_parcel_pickup)"
   ]
  },
  {
   "cell_type": "code",
   "execution_count": 22,
   "id": "3e05271c-1eb7-4909-88ce-503828e90af7",
   "metadata": {
    "microsoft": {
     "language": "python",
     "language_group": "jupyter_python"
    }
   },
   "outputs": [
    {
     "data": {
      "application/vnd.jupyter.statement-meta+json": {
       "execution_finish_time": "2025-07-22T09:25:28.8858233Z",
       "execution_start_time": "2025-07-22T09:25:28.4259454Z",
       "normalized_state": "finished",
       "parent_msg_id": "cc3b2f24-0fc4-43af-a885-4a386c39972a",
       "queued_time": "2025-07-22T09:24:43.6645695Z",
       "session_id": "f4c9b725-e93b-42ed-a44f-72e20c985c4a",
       "session_start_time": null
      }
     },
     "metadata": {},
     "output_type": "display_data"
    }
   ],
   "source": [
    "# equation - 10\n",
    "# 3 only one pickup a day for a vessel\n",
    "def one_pickup_per_day(model, v, d):\n",
    "    return sum(\n",
    "        model.Pickup[v, parcel, d] \n",
    "        for parcel in model.PARCELS\n",
    "    ) <= 1\n",
    "model.OnePickupDayVessel = Constraint(model.VESSELS, model.DAYS, rule=one_pickup_per_day)"
   ]
  },
  {
   "cell_type": "code",
   "execution_count": 23,
   "id": "ea33e10e-1e4b-46a6-8474-b83aecf2e72f",
   "metadata": {
    "microsoft": {
     "language": "python",
     "language_group": "jupyter_python"
    }
   },
   "outputs": [
    {
     "data": {
      "application/vnd.jupyter.statement-meta+json": {
       "execution_finish_time": "2025-07-22T09:25:29.3562686Z",
       "execution_start_time": "2025-07-22T09:25:28.8876771Z",
       "normalized_state": "finished",
       "parent_msg_id": "3b65e315-6bd3-4155-a1c9-0e1114da15ae",
       "queued_time": "2025-07-22T09:24:43.8955618Z",
       "session_id": "f4c9b725-e93b-42ed-a44f-72e20c985c4a",
       "session_start_time": null
      }
     },
     "metadata": {},
     "output_type": "display_data"
    }
   ],
   "source": [
    "# equation - 11\n",
    "# 3. A pickup can only happen on the day the parcel is available.\n",
    "\n",
    "def pickup_day_limit(model, vessel, *parcel):\n",
    "    return sum(\n",
    "        model.Pickup[vessel, parcel, day]\n",
    "        for day in model.DAYS\n",
    "        if day not in model.PDp[parcel]\n",
    "    ) == 0\n",
    "model.PickupDayLimit = Constraint(model.VESSELS, model.PARCELS, rule=pickup_day_limit)"
   ]
  },
  {
   "cell_type": "code",
   "execution_count": 24,
   "id": "dff57cf4-32ba-4edc-bacf-e5c21f529fda",
   "metadata": {
    "microsoft": {
     "language": "python",
     "language_group": "jupyter_python"
    }
   },
   "outputs": [
    {
     "data": {
      "application/vnd.jupyter.statement-meta+json": {
       "execution_finish_time": "2025-07-22T09:25:29.7874491Z",
       "execution_start_time": "2025-07-22T09:25:29.3581608Z",
       "normalized_state": "finished",
       "parent_msg_id": "64d90819-3398-4dda-b643-92747cc66705",
       "queued_time": "2025-07-22T09:24:44.1312596Z",
       "session_id": "f4c9b725-e93b-42ed-a44f-72e20c985c4a",
       "session_start_time": null
      }
     },
     "metadata": {},
     "output_type": "display_data"
    }
   ],
   "source": [
    "# equation - 12\n",
    "# 4. A vessel can only pickup a parcel if that vessel is in the location where parcel is present.\n",
    "def parcel_location_bound(model, vessel, day, *parcel):\n",
    "    return model.Pickup[vessel, parcel, day] <= model.AtLocation[vessel, model.PLp[parcel], day]\n",
    "\n",
    "model.ParcelLocationBound = Constraint(model.VESSELS, model.DAYS, model.PARCELS, rule=parcel_location_bound)"
   ]
  },
  {
   "cell_type": "code",
   "execution_count": 25,
   "id": "b64b9964-cc5b-4417-9afb-b75c29bc5033",
   "metadata": {
    "microsoft": {
     "language": "python",
     "language_group": "jupyter_python"
    }
   },
   "outputs": [
    {
     "data": {
      "application/vnd.jupyter.statement-meta+json": {
       "execution_finish_time": "2025-07-22T09:25:30.2136822Z",
       "execution_start_time": "2025-07-22T09:25:29.7891594Z",
       "normalized_state": "finished",
       "parent_msg_id": "9fa59071-18c0-4f29-b8b9-a4a9bdde8e65",
       "queued_time": "2025-07-22T09:24:44.731131Z",
       "session_id": "f4c9b725-e93b-42ed-a44f-72e20c985c4a",
       "session_start_time": null
      }
     },
     "metadata": {},
     "output_type": "display_data"
    }
   ],
   "source": [
    "# 4. If a vessel is visiting a location, it should at least pick one parcel from there. We introduce an auxiliary variable \n",
    "# LocationVisited(v, l) ∈ {0, 1} which is 1 when vessel v visited location l, 0 otherwise.\n",
    "\n",
    "M = 30\n",
    "# equation - 13\n",
    "def location_visited_constraint_1(model, vessel, location):\n",
    "    return sum(\n",
    "        model.AtLocation[vessel, location, day]\n",
    "        for day in model.DAYS\n",
    "    ) >= model.LocationVisited[vessel, location]\n",
    "model.LocationConstraint1 = Constraint(model.VESSELS, model.SOURCE_LOCATIONS, rule=location_visited_constraint_1)\n",
    "\n",
    "# equation - 14\n",
    "def location_visited_constraint_2(model, vessel, location):\n",
    "    return sum(\n",
    "        model.AtLocation[vessel, location, day]\n",
    "        for day in model.DAYS\n",
    "    ) <= M*model.LocationVisited[vessel, location]\n",
    "model.LocationConstraint2 = Constraint(model.VESSELS, model.SOURCE_LOCATIONS, rule=location_visited_constraint_2)\n",
    "\n",
    "# equation - 15\n",
    "def location_visited_constraint_3(model, vessel, location):\n",
    "    return sum(\n",
    "        sum(\n",
    "            model.Pickup[vessel, parcel, day]\n",
    "            for day in model.DAYS\n",
    "        )\n",
    "        for parcel in model.PARCELS if model.PLp[parcel] == location\n",
    "    ) >= model.LocationVisited[vessel, location]\n",
    "model.LocationConstraint3 = Constraint(model.VESSELS, model.SOURCE_LOCATIONS, rule=location_visited_constraint_3)\n"
   ]
  },
  {
   "cell_type": "code",
   "execution_count": 26,
   "id": "222957c8-ac50-4525-9888-2a96e255b2b0",
   "metadata": {
    "microsoft": {
     "language": "python",
     "language_group": "jupyter_python"
    }
   },
   "outputs": [
    {
     "data": {
      "application/vnd.jupyter.statement-meta+json": {
       "execution_finish_time": "2025-07-22T09:25:30.6854223Z",
       "execution_start_time": "2025-07-22T09:25:30.2156262Z",
       "normalized_state": "finished",
       "parent_msg_id": "fdb4da0a-904b-4e79-8b26-56fd948bbed6",
       "queued_time": "2025-07-22T09:24:44.9487504Z",
       "session_id": "f4c9b725-e93b-42ed-a44f-72e20c985c4a",
       "session_start_time": null
      }
     },
     "metadata": {},
     "output_type": "display_data"
    }
   ],
   "source": [
    "# 5. A vessel can carry at max 3 different types of crude. For this we will need to introduce \n",
    "# an auxiliary variable CrudeInVessel(v, c) ∈ {0, 1} which is 1 if vessel v is carrying crude c, otherwise 0.\n",
    "\n",
    "M = 30\n",
    "\n",
    "# equation - 16\n",
    "def crude_in_vessel_bound_with_pickup(model, vessel, crude):\n",
    "    return sum(\n",
    "        sum(\n",
    "            model.Pickup[vessel, parcel, day]\n",
    "            for day in model.DAYS\n",
    "        )\n",
    "        for parcel in model.PARCELS if model.PCp[parcel] == crude\n",
    "    ) >= model.CrudeInVessel[vessel, crude]\n",
    "model.CrudeInVesselBoundWithPickup = Constraint(model.VESSELS, model.CRUDES, rule=crude_in_vessel_bound_with_pickup)\n",
    "\n",
    "# equation - 17\n",
    "def crude_in_vessel_lower_bound(model, vessel, crude):\n",
    "    return sum(\n",
    "        sum(\n",
    "            model.Pickup[vessel, parcel, day]\n",
    "            for day in model.DAYS\n",
    "        )\n",
    "        for parcel in model.PARCELS if model.PCp[parcel] == crude\n",
    "    ) <= model.CrudeInVessel[vessel, crude]*M\n",
    "model.CrudeInVesselLowerBound = Constraint(model.VESSELS, model.CRUDES, rule=crude_in_vessel_lower_bound)\n",
    "\n",
    "# equation - 18\n",
    "def max_3_crudes_limit(model, vessel):\n",
    "    return sum(\n",
    "        model.CrudeInVessel[vessel, crude]\n",
    "        for crude in model.CRUDES\n",
    "    ) <= 3\n",
    "model.Max3CrudesLimit = Constraint(model.VESSELS, rule=max_3_crudes_limit)"
   ]
  },
  {
   "cell_type": "code",
   "execution_count": 27,
   "id": "b4f1c7cf-67e6-4c4b-9e03-5c2637cf9f93",
   "metadata": {
    "microsoft": {
     "language": "python",
     "language_group": "jupyter_python"
    }
   },
   "outputs": [
    {
     "data": {
      "application/vnd.jupyter.statement-meta+json": {
       "execution_finish_time": "2025-07-22T09:25:31.135608Z",
       "execution_start_time": "2025-07-22T09:25:30.6871837Z",
       "normalized_state": "finished",
       "parent_msg_id": "80f74b5f-de29-4894-94a6-6c15f3648fa3",
       "queued_time": "2025-07-22T09:24:45.2217652Z",
       "session_id": "f4c9b725-e93b-42ed-a44f-72e20c985c4a",
       "session_start_time": null
      }
     },
     "metadata": {},
     "output_type": "display_data"
    }
   ],
   "source": [
    "# 6. The max crude volume which a vessel can carry depends on number of types of crude grades on\n",
    "# that vessel. If the vessel is carrying 1 or 2 grades it can carry 700 Kb and if it is carrying 3 grades\n",
    "# which is the upper limit, then that is 650 Kb.\n",
    "\n",
    "# equation - 19\n",
    "def crude_group_limit(model, vessel):\n",
    "    return model.NumGrades12[vessel] + model.NumGrades3[vessel] == 1\n",
    "model.CrudeGroupLimit = Constraint(model.VESSELS, rule=crude_group_limit)\n",
    "\n",
    "# equation - 20\n",
    "def total_crude_upper_limit(model, vessel, crude):\n",
    "    return 2*model.NumGrades12[vessel] + 3*model.NumGrades3[vessel] >= sum(\n",
    "        model.CrudeInVessel[vessel, crude]\n",
    "        for crude in model.CRUDES\n",
    "    )\n",
    "model.TotalCrudeUpperLimit = Constraint(model.VESSELS, model.CRUDES, rule=total_crude_upper_limit)\n",
    "\n",
    "# equation - 21\n",
    "def total_crude_lower_limit(model, vessel, crude):\n",
    "    return model.NumGrades12[vessel] + 3*model.NumGrades3[vessel] <= sum(\n",
    "        model.CrudeInVessel[vessel, crude]\n",
    "        for crude in model.CRUDES\n",
    "    )\n",
    "model.TotalCrudeLowerLimit = Constraint(model.VESSELS, model.CRUDES, rule=total_crude_lower_limit)\n",
    "\n",
    "# equation - 22\n",
    "def crude_count_wise_vessel_volume_limit(model, vessel):\n",
    "    return sum(\n",
    "        model.PVp[parcel]*sum(\n",
    "            model.Pickup[vessel, parcel, day]\n",
    "            for day in model.DAYS\n",
    "        )\n",
    "        for parcel in model.PARCELS\n",
    "    ) <= config['Two_crude']*model.NumGrades12[vessel] + config['Three_crude']*model.NumGrades3[vessel]\n",
    "model.CrudeCountWiseVesselVolume = Constraint(model.VESSELS, rule=crude_count_wise_vessel_volume_limit)"
   ]
  },
  {
   "cell_type": "markdown",
   "id": "d229349d-d0c3-4b6c-b8e6-65c9a9692adf",
   "metadata": {
    "microsoft": {
     "language": "python",
     "language_group": "jupyter_python"
    },
    "nteract": {
     "transient": {
      "deleting": false
     }
    }
   },
   "source": [
    "### 3. Vessel Discharge Constraints"
   ]
  },
  {
   "cell_type": "code",
   "execution_count": 28,
   "id": "e3f86ae5-dece-43e4-89b4-0efae6b2aea2",
   "metadata": {
    "microsoft": {
     "language": "python",
     "language_group": "jupyter_python"
    }
   },
   "outputs": [
    {
     "data": {
      "application/vnd.jupyter.statement-meta+json": {
       "execution_finish_time": "2025-07-22T09:25:33.3972209Z",
       "execution_start_time": "2025-07-22T09:25:31.1375333Z",
       "normalized_state": "finished",
       "parent_msg_id": "ef04f693-5754-4094-822c-cd87b8dfd336",
       "queued_time": "2025-07-22T09:24:45.4274494Z",
       "session_id": "f4c9b725-e93b-42ed-a44f-72e20c985c4a",
       "session_start_time": null
      }
     },
     "metadata": {},
     "output_type": "display_data"
    }
   ],
   "source": [
    "# constraint 1\n",
    "# vessel discharge start day\n",
    "\n",
    "# equation - 23\n",
    "def unique_vessel_discharge_day(model, v):\n",
    "    return sum(model.Discharge[v, d] for d in model.DAYS) == 1\n",
    "model.UniqueVesselDischargeDay = Constraint(model.VESSELS, rule=unique_vessel_discharge_day)\n",
    "\n",
    "# constraint 5\n",
    "# discharge should happen in Melaka and should take two days\n",
    "\n",
    "# equation - 24\n",
    "def discharge_at_melaka_rule(model, v, d):\n",
    "    if d == model.DAYS[-1]: \n",
    "        # return model.Discharge[v, d] == 0\n",
    "        return 2 * model.Discharge[v, d] <= model.AtLocation[v, \"Melaka\", d]\n",
    "    else:\n",
    "        return 2 * model.Discharge[v, d] <= model.AtLocation[v, \"Melaka\", d] + model.AtLocation[v, \"Melaka\", d + 1]\n",
    "model.DischargeAtMelaka = Constraint(model.VESSELS, model.DAYS, rule=discharge_at_melaka_rule)\n",
    "\n",
    "# constraint 3 \n",
    "# no 2 vessels could discharge on the range of given consecutive days \n",
    "\n",
    "# equation - 25\n",
    "def no_two_vessels_discharge_same_or_adjacent_day_rule(model, d):\n",
    "    if d == model.DAYS[-1]:  \n",
    "        # return Constraint.Skip\n",
    "        return sum(model.Discharge[v, d] for v in model.VESSELS) <= 1\n",
    "    else:\n",
    "        return sum(model.Discharge[v, d] + model.Discharge[v, d + 1] for v in model.VESSELS) <= 1\n",
    "model.NoTwoDischargeSameOrAdjacent = Constraint(model.DAYS, rule=no_two_vessels_discharge_same_or_adjacent_day_rule)\n",
    "\n",
    "# constraint 4\n",
    "# if a vessel discharge completely it cannot be at any other location after discharging\n",
    "\n",
    "# equation - 26\n",
    "def vessel_stops_after_discharge_rule(model, v, l, d1, d2):\n",
    "    if d2 <= d1 + 1:\n",
    "        return Constraint.Skip\n",
    "    return model.AtLocation[v, l, d2] <= 1 - model.Discharge[v, d1]\n",
    "model.VesselStopsAfterDischarge = Constraint(model.VESSELS, model.LOCATIONS, model.DAYS, model.DAYS, rule=vessel_stops_after_discharge_rule)\n",
    "\n",
    "# constraint 5\n",
    "# creating auxiliary variables to handle the volume unboard & discharged\n",
    "\n",
    "\n",
    "# equation - 27\n",
    "def volume_onboard_rule(model, v, c):\n",
    "    return model.VolumeOnboard[v, c] == sum(\n",
    "        model.PVp[p] * sum(model.Pickup[v, p, d] for d in model.DAYS)\n",
    "        for p in model.PARCELS\n",
    "        if model.PCp[p] == c\n",
    "    )\n",
    "model.VolumeOnboardDef = Constraint(model.VESSELS, model.CRUDES, rule=volume_onboard_rule)\n",
    "\n",
    "\n",
    "\n",
    "# equation - 28\n",
    "def discharge_upper_limit_rule(model, v, c, d):\n",
    "    return model.VolumeDischarged[v, c, d] <= config['Vessel_max_limit'] * model.Discharge[v, d]\n",
    "model.DischargeUpperLimit = Constraint(model.VESSELS, model.CRUDES, model.DAYS, rule=discharge_upper_limit_rule)\n",
    "\n",
    "\n",
    "# equation - 29\n",
    "def discharge_no_more_than_onboard_rule(model, v, c, d):\n",
    "    return model.VolumeDischarged[v, c, d] <= model.VolumeOnboard[v, c]\n",
    "model.DischargeNoMoreThanOnboard = Constraint(model.VESSELS, model.CRUDES, model.DAYS, rule=discharge_no_more_than_onboard_rule)\n",
    "\n",
    "\n",
    "# equation - 30\n",
    "def discharge_lower_bound_rule(model, v, c, d):\n",
    "    return model.VolumeDischarged[v, c, d] >= model.VolumeOnboard[v, c] - config['Vessel_max_limit'] * (1 - model.Discharge[v, d])\n",
    "model.DischargeLowerBound = Constraint(model.VESSELS, model.CRUDES, model.DAYS, rule=discharge_lower_bound_rule)\n"
   ]
  },
  {
   "cell_type": "markdown",
   "id": "f7bba9ea-4688-44fd-851b-c70c034426f8",
   "metadata": {
    "microsoft": {
     "language": "python",
     "language_group": "jupyter_python"
    },
    "nteract": {
     "transient": {
      "deleting": false
     }
    }
   },
   "source": [
    "### Crude blending constraints"
   ]
  },
  {
   "cell_type": "code",
   "execution_count": 29,
   "id": "e57f480a-945b-4688-aeb5-e71d92ef9910",
   "metadata": {
    "microsoft": {
     "language": "python",
     "language_group": "jupyter_python"
    }
   },
   "outputs": [
    {
     "data": {
      "application/vnd.jupyter.statement-meta+json": {
       "execution_finish_time": "2025-07-22T09:25:33.8641567Z",
       "execution_start_time": "2025-07-22T09:25:33.3987224Z",
       "normalized_state": "finished",
       "parent_msg_id": "1a60eb3a-c2ab-4dbe-a17c-0be812acd67c",
       "queued_time": "2025-07-22T09:24:45.6432533Z",
       "session_id": "f4c9b725-e93b-42ed-a44f-72e20c985c4a",
       "session_start_time": null
      }
     },
     "metadata": {},
     "output_type": "display_data"
    }
   ],
   "source": [
    "# constraint - 1\n",
    "# Consume only one blend per slot\n",
    "\n",
    "\n",
    "# equation - 31\n",
    "def is_blend_greater_than_fraction_rule(model, s, *b):\n",
    "    return model.IsBlendConsumed[b, s] >= model.BlendFraction[b, s]\n",
    "model.IsBlendVsFraction = Constraint(model.SLOTS, model.BLENDS, rule=is_blend_greater_than_fraction_rule)\n",
    "\n",
    "# equation - 32\n",
    "def one_blend_per_slot_rule(model, s):\n",
    "    return sum(model.IsBlendConsumed[b, s] for b in model.BLENDS) == 1\n",
    "model.OneBlendPerSlot = Constraint(model.SLOTS, rule=one_blend_per_slot_rule)\n",
    "\n",
    "# constraint - 2\n",
    "# sum of two fraction of blends should sum up to 1 for a given day on 2 slots\n",
    "\n",
    "# equatioon - 33\n",
    "def blend_fraction_daily_upper_bound_rule(model, s):\n",
    "    if s % 2 == 1 and s + 1 in model.SLOTS:\n",
    "        return sum(model.BlendFraction[b, s] + model.BlendFraction[b, s + 1] for b in model.BLENDS) <= 1\n",
    "    else:\n",
    "        return Constraint.Skip\n",
    "model.BlendFractionDailyBound = Constraint(model.SLOTS, rule=blend_fraction_daily_upper_bound_rule)\n",
    "\n",
    "# constraint - 3\n",
    "# we have to lower down as many transitions as possible \n",
    "\n",
    "# equation - 34\n",
    "def transition_lower_bound_rule(model, s, *b):\n",
    "    if s + 1 in model.SLOTS:\n",
    "        return model.IsTransition[b, s] >= model.IsBlendConsumed[b, s] - model.IsBlendConsumed[b, s + 1]\n",
    "    else:\n",
    "        return Constraint.Skip\n",
    "model.TransitionLowerBound = Constraint(model.SLOTS, model.BLENDS, rule=transition_lower_bound_rule)\n",
    "\n",
    "# equation - 35\n",
    "def transition_upper_bound1_rule(model, s, *b):\n",
    "    return model.IsTransition[b, s] <= model.IsBlendConsumed[b, s]\n",
    "model.TransitionUpperBound1 = Constraint(model.SLOTS, model.BLENDS, rule=transition_upper_bound1_rule)\n",
    "\n",
    "# equation - 36\n",
    "def transition_upper_bound2_rule(model, s, *b):\n",
    "    if s + 1 in model.SLOTS:\n",
    "        return model.IsTransition[b, s] <= 1 - model.IsBlendConsumed[b, s + 1]\n",
    "    else:\n",
    "        return Constraint.Skip\n",
    "model.TransitionUpperBound2 = Constraint(model.SLOTS, model.BLENDS, rule=transition_upper_bound2_rule)\n",
    "\n",
    "\n",
    "# equation - 37\n",
    "def max_transitions_rule(model):\n",
    "    return sum(model.IsTransition[b, s] for b in model.BLENDS for s in model.SLOTS) <= MaxTransitions\n",
    "model.MaxTransitionsConstraint = Constraint(rule=max_transitions_rule)\n",
    "\n",
    "\n",
    "# equation 38\n",
    "# constraint - 4\n",
    "# refinery capactiy should be in check accoridng to the scnearios\n",
    "def plant_capacity_rule(model, d):\n",
    "    return sum(\n",
    "        model.BCb[b] * (model.BlendFraction[b, 2*d - 1] + model.BlendFraction[b, 2*d])\n",
    "        for b in model.BLENDS\n",
    "    ) <= model.RCd[d]\n",
    "\n",
    "model.PlantCapacityConstraint = Constraint(model.DAYS, rule=plant_capacity_rule)\n"
   ]
  },
  {
   "cell_type": "code",
   "execution_count": 30,
   "id": "e0f76c14-2dd0-4a50-8bbf-5568f5551847",
   "metadata": {
    "microsoft": {
     "language": "python",
     "language_group": "jupyter_python"
    }
   },
   "outputs": [
    {
     "data": {
      "application/vnd.jupyter.statement-meta+json": {
       "execution_finish_time": "2025-07-22T09:25:34.3002161Z",
       "execution_start_time": "2025-07-22T09:25:33.866101Z",
       "normalized_state": "finished",
       "parent_msg_id": "e2d5ca56-2e3a-48bf-989f-4aaacd824675",
       "queued_time": "2025-07-22T09:24:45.8534291Z",
       "session_id": "f4c9b725-e93b-42ed-a44f-72e20c985c4a",
       "session_start_time": null
      }
     },
     "metadata": {},
     "output_type": "display_data"
    }
   ],
   "source": [
    "# Symmetry constraints\n",
    "def discharge_day_rule(model, v):\n",
    "    return model.DischargeDay[v] == sum(d * model.Discharge[v, d] for d in model.DAYS)\n",
    "model.CalcDischargeDay = Constraint(model.VESSELS, rule=discharge_day_rule)\n",
    " \n",
    "def symmetry_breaking_rule(model, v):\n",
    "    if v < len(model.VESSELS):\n",
    "        return model.DischargeDay[v] + 1 <= model.DischargeDay[v + 1]\n",
    "    return Constraint.Skip\n",
    "model.SymmetryBreak = Constraint(model.VESSELS, rule=symmetry_breaking_rule)"
   ]
  },
  {
   "cell_type": "markdown",
   "id": "5d2fda62",
   "metadata": {},
   "source": [
    "Inventory related constraints "
   ]
  },
  {
   "cell_type": "code",
   "execution_count": 31,
   "id": "c7333245",
   "metadata": {
    "microsoft": {
     "language": "python",
     "language_group": "jupyter_python"
    }
   },
   "outputs": [
    {
     "data": {
      "application/vnd.jupyter.statement-meta+json": {
       "execution_finish_time": "2025-07-22T09:25:34.7356554Z",
       "execution_start_time": "2025-07-22T09:25:34.302122Z",
       "normalized_state": "finished",
       "parent_msg_id": "aa337dd4-3480-4590-8527-554eef06bfa1",
       "queued_time": "2025-07-22T09:24:46.0576519Z",
       "session_id": "f4c9b725-e93b-42ed-a44f-72e20c985c4a",
       "session_start_time": null
      }
     },
     "metadata": {},
     "output_type": "display_data"
    }
   ],
   "source": [
    "# equation 29 & 40\n",
    "# constraint 1 & 2 \n",
    "\n",
    "# updating the inventory for the each day use and consume \n",
    "def inventory_update_rule(model, c, d):\n",
    "    discharged = 0\n",
    "    if d <= 5:  \n",
    "        discharged = 0\n",
    "    else:\n",
    "        discharged = sum(model.VolumeDischarged[v, c, d-5] for v in model.VESSELS)\n",
    "\n",
    "    consumed = sum(\n",
    "        model.BCb[blend]*model.BRcb[blend,c]*(model.BlendFraction[blend, 2*d-1] + model.BlendFraction[blend, 2*d])\n",
    "        for blend in model.BLENDS\n",
    "    )\n",
    "    if d==1:\n",
    "        return model.Inventory[c, d] == opening_inventory_dict[c] + discharged - consumed    \n",
    "    else:\n",
    "        return model.Inventory[c, d] == model.Inventory[c, d-1] + discharged - consumed\n",
    "model.InventoryUpdate = Constraint(model.CRUDES, model.DAYS, rule=inventory_update_rule)\n",
    "\n",
    "\n",
    "# equation - 41\n",
    "def max_inventory_limit(model, day):\n",
    "    return sum(\n",
    "        model.Inventory[crude, day]\n",
    "        for crude in model.CRUDES\n",
    "    ) <= INVENTORY_MAX_VOLUME\n",
    "\n",
    "model.MaxInventoryLimit = Constraint(model.DAYS, rule=max_inventory_limit)"
   ]
  },
  {
   "cell_type": "code",
   "execution_count": 32,
   "id": "bdda05bb-1919-4e09-9d0b-798f6919a44f",
   "metadata": {
    "microsoft": {
     "language": "python",
     "language_group": "jupyter_python"
    }
   },
   "outputs": [
    {
     "data": {
      "application/vnd.jupyter.statement-meta+json": {
       "execution_finish_time": "2025-07-22T09:25:35.1591509Z",
       "execution_start_time": "2025-07-22T09:25:34.7375753Z",
       "normalized_state": "finished",
       "parent_msg_id": "07425de7-b957-4a9c-82c7-a4e6c81cc017",
       "queued_time": "2025-07-22T09:24:46.2456835Z",
       "session_id": "f4c9b725-e93b-42ed-a44f-72e20c985c4a",
       "session_start_time": null
      }
     },
     "metadata": {},
     "output_type": "display_data"
    }
   ],
   "source": [
    "# Ullage constraints\n",
    "\n",
    "def ullage_update_rule(model, d):\n",
    "    consumed = sum(\n",
    "        model.BCb[b] * (model.BlendFraction[b, 2*d - 1] + model.BlendFraction[b, 2*d])\n",
    "        for b in model.BLENDS\n",
    "    )\n",
    "    if d == 1:\n",
    "        return model.Ullage[d] == INVENTORY_MAX_VOLUME - sum(opening_inventory_dict[c] for c in model.CRUDES) + consumed\n",
    "\n",
    "    # Only compute discharge if d-2 is in model.DAYS\n",
    "    discharged = 0\n",
    "    if (d - 1) in model.DAYS:\n",
    "        discharged = sum(\n",
    "            model.VolumeDischarged[v, c, d - 1]\n",
    "            for v in model.VESSELS\n",
    "            for c in model.CRUDES\n",
    "        )\n",
    "\n",
    "    return model.Ullage[d] == model.Ullage[d - 1] - discharged + consumed\n",
    "model.UllageUpdate = Constraint(model.DAYS, rule=ullage_update_rule)"
   ]
  },
  {
   "cell_type": "code",
   "execution_count": null,
   "id": "52e86c07-cc3d-4b9f-b89b-ce7881b97f64",
   "metadata": {
    "microsoft": {
     "language": "python",
     "language_group": "jupyter_python"
    }
   },
   "outputs": [
    {
     "data": {
      "application/vnd.jupyter.statement-meta+json": {
       "execution_finish_time": "2025-07-22T09:25:35.7653578Z",
       "execution_start_time": "2025-07-22T09:25:35.1610481Z",
       "normalized_state": "finished",
       "parent_msg_id": "1627da77-465e-44c6-ac2e-d83dee48dc21",
       "queued_time": "2025-07-22T09:24:46.4476799Z",
       "session_id": "f4c9b725-e93b-42ed-a44f-72e20c985c4a",
       "session_start_time": null
      }
     },
     "metadata": {},
     "output_type": "display_data"
    }
   ],
   "source": [
    "# vessel should not stay at source location after loading activity\n",
    "def depart_after_load_rule(model, v, l, d):\n",
    "    return model.Departure[v,l,d] <= sum(\n",
    "        model.Pickup[v, p, d]\n",
    "        for p in model.PARCELS\n",
    "        if model.PLp[p] == l\n",
    "    )\n",
    "model.DepartAfterLoad = Constraint(model.VESSELS, model.SOURCE_LOCATIONS, model.DAYS, rule=depart_after_load_rule)"
   ]
  },
  {
   "cell_type": "markdown",
   "id": "d361c7c8-681a-4699-9641-43e95feab8e3",
   "metadata": {
    "microsoft": {
     "language": "python",
     "language_group": "jupyter_python"
    },
    "nteract": {
     "transient": {
      "deleting": false
     }
    }
   },
   "source": [
    "## Objective Function"
   ]
  },
  {
   "cell_type": "code",
   "execution_count": 33,
   "id": "f3297de0-0091-4844-bc43-281931d0c781",
   "metadata": {
    "microsoft": {
     "language": "python",
     "language_group": "jupyter_python"
    }
   },
   "outputs": [
    {
     "data": {
      "application/vnd.jupyter.statement-meta+json": {
       "execution_finish_time": "2025-07-22T09:25:36.1982212Z",
       "execution_start_time": "2025-07-22T09:25:35.7671576Z",
       "normalized_state": "finished",
       "parent_msg_id": "57f15a9c-d293-4480-910c-3a731bfe1f42",
       "queued_time": "2025-07-22T09:24:46.6342582Z",
       "session_id": "f4c9b725-e93b-42ed-a44f-72e20c985c4a",
       "session_start_time": null
      }
     },
     "metadata": {},
     "output_type": "display_data"
    }
   ],
   "source": [
    "# 1. Demurrage from vessels staying at the source locations. If the vessel is not picking up any crude while\n",
    "# at source location then that day gets counted for demurrage.\n",
    "\n",
    "def demurrage_at_source_expr(model):\n",
    "    return config['Demurrage'] * (\n",
    "            sum(\n",
    "                model.AtLocation[vessel,location,day] \n",
    "                for vessel in model.VESSELS\n",
    "                for location in model.LOCATIONS\n",
    "                for day in model.DAYS\n",
    "                if location != 'Melaka'\n",
    "        ) - sum(\n",
    "            model.Pickup[vessel, parcel, day]\n",
    "            for vessel in model.VESSELS\n",
    "            for parcel in model.PARCELS\n",
    "            for day in model.DAYS\n",
    "        )\n",
    "    )\n",
    "model.DeumrrageAtSource = Expression(rule=demurrage_at_source_expr)\n",
    "\n",
    "def demurrage_at_melaka_expr(model):\n",
    "    return config['Demurrage'] * (sum(\n",
    "        sum(\n",
    "            model.AtLocation[vessel,'Melaka', day]\n",
    "            for day in model.DAYS\n",
    "        ) - 2\n",
    "        for vessel in model.VESSELS\n",
    "    ))\n",
    "model.DemurrageAtMelaka = Expression(rule=demurrage_at_melaka_expr)\n",
    "\n",
    "def total_profit_expr(model):\n",
    "    return sum(\n",
    "        model.MRc[crude]*model.BRcb[blend,crude]*model.BCb[blend]*model.BlendFraction[blend,slot]\n",
    "        for crude in model.CRUDES\n",
    "        for blend in model.BLENDS\n",
    "        for slot in model.SLOTS\n",
    "    )\n",
    "model.TotalProfit = Expression(rule=total_profit_expr)\n",
    "\n",
    "def total_throughput_expr(model):\n",
    "    return sum(\n",
    "        model.BCb[blend]*model.BlendFraction[blend,slot]\n",
    "        for blend in model.BLENDS\n",
    "        for slot in model.SLOTS\n",
    "    )\n",
    "model.Throughput = Expression(rule=total_throughput_expr)\n"
   ]
  },
  {
   "cell_type": "code",
   "execution_count": 34,
   "id": "41d66dbd-687d-469a-a8b9-5a0386f0391b",
   "metadata": {
    "microsoft": {
     "language": "python",
     "language_group": "jupyter_python"
    }
   },
   "outputs": [
    {
     "data": {
      "application/vnd.jupyter.statement-meta+json": {
       "execution_finish_time": "2025-07-22T09:25:36.6405271Z",
       "execution_start_time": "2025-07-22T09:25:36.2002149Z",
       "normalized_state": "finished",
       "parent_msg_id": "e622a352-7188-44bb-a96c-9cce2af49e1f",
       "queued_time": "2025-07-22T09:24:46.8444147Z",
       "session_id": "f4c9b725-e93b-42ed-a44f-72e20c985c4a",
       "session_start_time": null
      }
     },
     "metadata": {},
     "output_type": "display_data"
    }
   ],
   "source": [
    "def net_profit_objective_rule(model):\n",
    "    # transition_penalty = config['Panelty'] * sum(model.IsTransition[b, s] for b in model.BLENDS for s in model.SLOTS)\n",
    "    return model.TotalProfit - (\n",
    "        model.DeumrrageAtSource + model.DemurrageAtMelaka\n",
    "    )\n",
    "\n",
    "def total_throughput_objective_rule(model):\n",
    "    return model.Throughput\n",
    "\n",
    "if optimization_type == 'margin':\n",
    "    model.objective = Objective(rule=net_profit_objective_rule, sense=maximize)\n",
    "elif optimization_type == 'throughput':\n",
    "    # apply demurrage day limit constraint\n",
    "    model.DemurrageLimitConstraint = Constraint(expr=model.DeumrrageAtSource + model.DemurrageAtMelaka<=max_demurrage_limit*config[\"Demurrage\"])\n",
    "    model.objective = Objective(rule=total_throughput_objective_rule, sense=maximize)\n",
    "else:\n",
    "    raise NotImplemented"
   ]
  },
  {
   "cell_type": "code",
   "execution_count": 35,
   "id": "046c1a75-ee4a-4372-b4a3-6ad438d28dc1",
   "metadata": {
    "microsoft": {
     "language": "python",
     "language_group": "jupyter_python"
    }
   },
   "outputs": [
    {
     "data": {
      "application/vnd.jupyter.statement-meta+json": {
       "execution_finish_time": "2025-07-22T09:25:37.1367839Z",
       "execution_start_time": "2025-07-22T09:25:36.6423554Z",
       "normalized_state": "finished",
       "parent_msg_id": "18775814-950a-45b3-bbb0-e9b60ecb00dd",
       "queued_time": "2025-07-22T09:24:47.0690605Z",
       "session_id": "f4c9b725-e93b-42ed-a44f-72e20c985c4a",
       "session_start_time": null
      }
     },
     "metadata": {},
     "output_type": "display_data"
    }
   ],
   "source": [
    "def get_enabled_solver(config):\n",
    "    \"\"\"Get the first enabled solver from config and apply all options directly.\"\"\"\n",
    "    for solver_cfg in config.get(\"solver\", []):\n",
    "        if solver_cfg.get(\"use\", False):\n",
    "            solver_name = solver_cfg.get(\"name\")\n",
    "            if not solver_name:\n",
    "                continue\n",
    "\n",
    "            solver = SolverFactory(solver_name)\n",
    "            if not solver.available():\n",
    "                continue\n",
    "\n",
    "            print(f\"Using solver: {solver_name}\")\n",
    "            if \"time_limit\" in solver_cfg:\n",
    "                solver.options[\"time_limit\"] = solver_cfg[\"time_limit\"]\n",
    "\n",
    "            for key, value in solver_cfg.get(\"options\", {}).items():\n",
    "                solver.options[key] = value\n",
    "\n",
    "            print(f\"Solver options: {solver.options}\")\n",
    "            return solver\n",
    "\n",
    "    raise RuntimeError(\"No enabled solver found in config.\")"
   ]
  },
  {
   "cell_type": "code",
   "execution_count": 36,
   "id": "a00c6bff-3610-4943-8e7d-e1768a280675",
   "metadata": {
    "microsoft": {
     "language": "python",
     "language_group": "jupyter_python"
    }
   },
   "outputs": [
    {
     "data": {
      "application/vnd.jupyter.statement-meta+json": {
       "execution_finish_time": "2025-07-22T09:25:37.5594526Z",
       "execution_start_time": "2025-07-22T09:25:37.1389689Z",
       "normalized_state": "finished",
       "parent_msg_id": "97a2d3d4-96e8-4d50-98d4-115f82b6393f",
       "queued_time": "2025-07-22T09:24:47.2823123Z",
       "session_id": "f4c9b725-e93b-42ed-a44f-72e20c985c4a",
       "session_start_time": null
      }
     },
     "metadata": {},
     "output_type": "display_data"
    },
    {
     "name": "stdout",
     "output_type": "stream",
     "text": [
      "Using solver: highs\n",
      "Solver options: <pyomo.common.config.ConfigDict object at 0x7f5c1d755360>\n"
     ]
    }
   ],
   "source": [
    "solver = get_enabled_solver(config)"
   ]
  },
  {
   "cell_type": "code",
   "execution_count": 37,
   "id": "ffdb43a8-3126-446c-bb57-289308ee22fe",
   "metadata": {
    "microsoft": {
     "language": "python",
     "language_group": "jupyter_python"
    }
   },
   "outputs": [
    {
     "data": {
      "application/vnd.jupyter.statement-meta+json": {
       "execution_finish_time": "2025-07-22T09:30:40.8326001Z",
       "execution_start_time": "2025-07-22T09:25:37.5611163Z",
       "normalized_state": "finished",
       "parent_msg_id": "421aecc5-ae6c-4dca-b7a3-538cabaf996c",
       "queued_time": "2025-07-22T09:24:47.495659Z",
       "session_id": "f4c9b725-e93b-42ed-a44f-72e20c985c4a",
       "session_start_time": null
      }
     },
     "metadata": {},
     "output_type": "display_data"
    }
   ],
   "source": [
    "import sys\n",
    "dir_path = f\"/lakehouse/default/Files/Dev/{scenario}/\"\n",
    "os.makedirs(dir_path, exist_ok=True)\n",
    "if optimization_type == 'throughput':\n",
    "    model_log_file_path = f'/lakehouse/default/Files/Dev/{scenario}/{optimization_type}_Optimization_log_{vessel_count}_vessels_{config[\"DAYS\"][\"end\"]}_days_{MaxTransitions}_transitions_{max_demurrage_limit}_demurrages.txt'\n",
    "else:\n",
    "    model_log_file_path = f'/lakehouse/default/Files/Dev/{scenario}/{optimization_type}_Optimization_log_{vessel_count}_vessels_{config[\"DAYS\"][\"end\"]}_days_{MaxTransitions}_transitions.txt'\n",
    "with open(model_log_file_path, \"w\") as f:\n",
    "    sys_stdout = sys.stdout\n",
    "    sys.stdout = f\n",
    "    solver.solve(model, tee=True)\n",
    "    sys.stdout = sys_stdout"
   ]
  },
  {
   "cell_type": "markdown",
   "id": "6338dae1-9a16-4de6-ba0b-9fa5884d7dbd",
   "metadata": {
    "microsoft": {
     "language": "python",
     "language_group": "jupyter_python"
    },
    "nteract": {
     "transient": {
      "deleting": false
     }
    }
   },
   "source": [
    "### Printing Basic Data"
   ]
  },
  {
   "cell_type": "code",
   "execution_count": 38,
   "id": "e7fed109-425d-4a0c-aaa1-ab435d19dd55",
   "metadata": {
    "microsoft": {
     "language": "python",
     "language_group": "jupyter_python"
    }
   },
   "outputs": [
    {
     "data": {
      "application/vnd.jupyter.statement-meta+json": {
       "execution_finish_time": "2025-07-22T09:30:41.300394Z",
       "execution_start_time": "2025-07-22T09:30:40.8345245Z",
       "normalized_state": "finished",
       "parent_msg_id": "3cb5a04a-0de7-48bc-b641-521e96fcace1",
       "queued_time": "2025-07-22T09:24:47.7213051Z",
       "session_id": "f4c9b725-e93b-42ed-a44f-72e20c985c4a",
       "session_start_time": null
      }
     },
     "metadata": {},
     "output_type": "display_data"
    },
    {
     "name": "stdout",
     "output_type": "stream",
     "text": [
      "Total Margin: 42594563.55555555\n",
      "Total Demurrage at melaka: 280000.0\n",
      "Total Demurrage at source: 40000.0\n",
      "Total Profit: 3224905.555555556\n"
     ]
    }
   ],
   "source": [
    "from pyomo.environ import value\n",
    "\n",
    "print(\"Total Margin:\", value(model.TotalProfit)) \n",
    "\n",
    "print(f\"Total Demurrage at melaka: {value(model.DemurrageAtMelaka)}\")\n",
    "print(f\"Total Demurrage at source: {value(model.DeumrrageAtSource)}\")\n",
    "print(\"Total Profit:\", value(model.objective))"
   ]
  },
  {
   "cell_type": "code",
   "execution_count": 39,
   "id": "a776c0e3",
   "metadata": {
    "microsoft": {
     "language": "python",
     "language_group": "jupyter_python"
    }
   },
   "outputs": [
    {
     "data": {
      "application/vnd.jupyter.statement-meta+json": {
       "execution_finish_time": "2025-07-22T09:30:42.2343109Z",
       "execution_start_time": "2025-07-22T09:30:41.3023054Z",
       "normalized_state": "finished",
       "parent_msg_id": "37a3a259-cb4c-44ea-9247-9ecb4da0fcd8",
       "queued_time": "2025-07-22T09:24:47.930537Z",
       "session_id": "f4c9b725-e93b-42ed-a44f-72e20c985c4a",
       "session_start_time": null
      }
     },
     "metadata": {},
     "output_type": "display_data"
    },
    {
     "name": "stdout",
     "output_type": "stream",
     "text": [
      "         Date  Slot Final Product  Quantity Produced  Crude Base Available  \\\n",
      "0  2024-10-01     1            F1               13.8                 277.9   \n",
      "1  2024-10-01     2            F5               79.9                 277.9   \n",
      "\n",
      "   Crude A Available  Crude B Available  Crude C Available  Crude D Available  \\\n",
      "0                0.0              150.0              128.4              100.0   \n",
      "1                0.0              150.0              128.4              100.0   \n",
      "\n",
      "   Crude E Available  ...  Crude A Blended  Crude B Blended  Crude C Blended  \\\n",
      "0                0.0  ...              0.0              0.0              0.0   \n",
      "1                0.0  ...              0.0              0.0             21.6   \n",
      "\n",
      "   Crude D Blended  Crude E Blended  Crude F Blended  Inventory Available  \\\n",
      "0              0.0              0.0              0.0                956.3   \n",
      "1              0.0              0.0              0.0                956.3   \n",
      "\n",
      "   Ullage        Profit                 Flag  \n",
      "0   223.7  2.186419e+05  Margin_Optimization  \n",
      "1   223.7  1.340169e+06  Margin_Optimization  \n",
      "\n",
      "[2 rows x 22 columns]\n",
      "         Date  Slot Final Product  Quantity Produced  Crude Base Available  \\\n",
      "2  2024-10-02     1            F5                0.0                 208.5   \n",
      "3  2024-10-02     2            F5               95.0                 208.5   \n",
      "\n",
      "   Crude A Available  Crude B Available  Crude C Available  Crude D Available  \\\n",
      "2                0.0              150.0              102.8              100.0   \n",
      "3                0.0              150.0              102.8              100.0   \n",
      "\n",
      "   Crude E Available  ...  Crude A Blended  Crude B Blended  Crude C Blended  \\\n",
      "2                0.0  ...              0.0              0.0              0.0   \n",
      "3                0.0  ...              0.0              0.0             25.6   \n",
      "\n",
      "   Crude D Blended  Crude E Blended  Crude F Blended  Inventory Available  \\\n",
      "2              0.0              0.0              0.0                861.3   \n",
      "3              0.0              0.0              0.0                861.3   \n",
      "\n",
      "   Ullage     Profit                 Flag  \n",
      "2   318.7        0.0  Margin_Optimization  \n",
      "3   318.7  1592703.5  Margin_Optimization  \n",
      "\n",
      "[2 rows x 22 columns]\n",
      "yes ['2024-10-02', '2024-10-02']\n",
      "         Date  Slot Final Product  Quantity Produced  Crude Base Available  \\\n",
      "4  2024-10-03     1            F5                0.0                 197.1   \n",
      "5  2024-10-03     2            F5               15.6                 197.1   \n",
      "\n",
      "   Crude A Available  Crude B Available  Crude C Available  Crude D Available  \\\n",
      "4                0.0              150.0               98.5              100.0   \n",
      "5                0.0              150.0               98.5              100.0   \n",
      "\n",
      "   Crude E Available  ...  Crude A Blended  Crude B Blended  Crude C Blended  \\\n",
      "4                0.0  ...              0.0              0.0              0.0   \n",
      "5                0.0  ...              0.0              0.0              4.2   \n",
      "\n",
      "   Crude D Blended  Crude E Blended  Crude F Blended  Inventory Available  \\\n",
      "4              0.0              0.0              0.0                845.6   \n",
      "5              0.0              0.0              0.0                845.6   \n",
      "\n",
      "   Ullage         Profit                 Flag  \n",
      "4   334.4       0.000000  Margin_Optimization  \n",
      "5   334.4  261848.077937  Margin_Optimization  \n",
      "\n",
      "[2 rows x 22 columns]\n",
      "yes ['2024-10-03', '2024-10-03']\n",
      "         Date  Slot Final Product  Quantity Produced  Crude Base Available  \\\n",
      "6  2024-10-04     1            F5                0.0                 127.7   \n",
      "7  2024-10-04     2            F5               95.0                 127.7   \n",
      "\n",
      "   Crude A Available  Crude B Available  Crude C Available  Crude D Available  \\\n",
      "6                0.0              150.0               72.9              100.0   \n",
      "7                0.0              150.0               72.9              100.0   \n",
      "\n",
      "   Crude E Available  ...  Crude A Blended  Crude B Blended  Crude C Blended  \\\n",
      "6                0.0  ...              0.0              0.0              0.0   \n",
      "7                0.0  ...              0.0              0.0             25.6   \n",
      "\n",
      "   Crude D Blended  Crude E Blended  Crude F Blended  Inventory Available  \\\n",
      "6              0.0              0.0              0.0                750.6   \n",
      "7              0.0              0.0              0.0                750.6   \n",
      "\n",
      "   Ullage     Profit                 Flag  \n",
      "6   429.4        0.0  Margin_Optimization  \n",
      "7   429.4  1592703.5  Margin_Optimization  \n",
      "\n",
      "[2 rows x 22 columns]\n",
      "yes ['2024-10-04', '2024-10-04']\n",
      "         Date  Slot Final Product  Quantity Produced  Crude Base Available  \\\n",
      "8  2024-10-05     1            F5               95.0                  58.4   \n",
      "9  2024-10-05     2            F5                0.0                  58.4   \n",
      "\n",
      "   Crude A Available  Crude B Available  Crude C Available  Crude D Available  \\\n",
      "8                0.0              150.0               47.2              100.0   \n",
      "9                0.0              150.0               47.2              100.0   \n",
      "\n",
      "   Crude E Available  ...  Crude A Blended  Crude B Blended  Crude C Blended  \\\n",
      "8                0.0  ...              0.0              0.0             25.6   \n",
      "9                0.0  ...              0.0              0.0              0.0   \n",
      "\n",
      "   Crude D Blended  Crude E Blended  Crude F Blended  Inventory Available  \\\n",
      "8              0.0              0.0              0.0                655.6   \n",
      "9              0.0              0.0              0.0                655.6   \n",
      "\n",
      "   Ullage     Profit                 Flag  \n",
      "8   524.4  1592703.5  Margin_Optimization  \n",
      "9   524.4        0.0  Margin_Optimization  \n",
      "\n",
      "[2 rows x 22 columns]\n",
      "yes ['2024-10-05', '2024-10-05']\n",
      "          Date  Slot Final Product  Quantity Produced  Crude Base Available  \\\n",
      "10  2024-10-06     1            F5               80.0                   0.0   \n",
      "11  2024-10-06     2            F7               15.0                   0.0   \n",
      "\n",
      "    Crude A Available  Crude B Available  Crude C Available  \\\n",
      "10                0.0              150.0               25.6   \n",
      "11                0.0              150.0               25.6   \n",
      "\n",
      "    Crude D Available  Crude E Available  ...  Crude A Blended  \\\n",
      "10              100.0                0.0  ...              0.0   \n",
      "11              100.0                0.0  ...              0.0   \n",
      "\n",
      "    Crude B Blended  Crude C Blended  Crude D Blended  Crude E Blended  \\\n",
      "10              0.0             21.6              0.0              0.0   \n",
      "11              0.0              0.0              0.0              0.0   \n",
      "\n",
      "    Crude F Blended  Inventory Available  Ullage     Profit  \\\n",
      "10              0.0                560.6   619.4  1341224.0   \n",
      "11             15.0                560.6   619.4   149550.0   \n",
      "\n",
      "                   Flag  \n",
      "10  Margin_Optimization  \n",
      "11  Margin_Optimization  \n",
      "\n",
      "[2 rows x 22 columns]\n",
      "          Date  Slot Final Product  Quantity Produced  Crude Base Available  \\\n",
      "12  2024-10-07     1            F7                0.0                   0.0   \n",
      "13  2024-10-07     2            F7               95.0                   0.0   \n",
      "\n",
      "    Crude A Available  Crude B Available  Crude C Available  \\\n",
      "12                0.0              150.0               25.6   \n",
      "13                0.0              150.0               25.6   \n",
      "\n",
      "    Crude D Available  Crude E Available  ...  Crude A Blended  \\\n",
      "12              100.0                0.0  ...              0.0   \n",
      "13              100.0                0.0  ...              0.0   \n",
      "\n",
      "    Crude B Blended  Crude C Blended  Crude D Blended  Crude E Blended  \\\n",
      "12              0.0              0.0              0.0              0.0   \n",
      "13              0.0              0.0              0.0              0.0   \n",
      "\n",
      "    Crude F Blended  Inventory Available  Ullage    Profit  \\\n",
      "12              0.0                465.6   714.4       0.0   \n",
      "13             95.0                465.6   714.4  947150.0   \n",
      "\n",
      "                   Flag  \n",
      "12  Margin_Optimization  \n",
      "13  Margin_Optimization  \n",
      "\n",
      "[2 rows x 22 columns]\n",
      "yes ['2024-10-07', '2024-10-07']\n",
      "          Date  Slot Final Product  Quantity Produced  Crude Base Available  \\\n",
      "14  2024-10-08     1            F7               95.0                   0.0   \n",
      "15  2024-10-08     2            F7                0.0                   0.0   \n",
      "\n",
      "    Crude A Available  Crude B Available  Crude C Available  \\\n",
      "14                0.0              150.0               25.6   \n",
      "15                0.0              150.0               25.6   \n",
      "\n",
      "    Crude D Available  Crude E Available  ...  Crude A Blended  \\\n",
      "14              100.0                0.0  ...              0.0   \n",
      "15              100.0                0.0  ...              0.0   \n",
      "\n",
      "    Crude B Blended  Crude C Blended  Crude D Blended  Crude E Blended  \\\n",
      "14              0.0              0.0              0.0              0.0   \n",
      "15              0.0              0.0              0.0              0.0   \n",
      "\n",
      "    Crude F Blended  Inventory Available  Ullage    Profit  \\\n",
      "14             95.0                370.6   809.4  947150.0   \n",
      "15              0.0                370.6   809.4       0.0   \n",
      "\n",
      "                   Flag  \n",
      "14  Margin_Optimization  \n",
      "15  Margin_Optimization  \n",
      "\n",
      "[2 rows x 22 columns]\n",
      "yes ['2024-10-08', '2024-10-08']\n",
      "          Date  Slot Final Product  Quantity Produced  Crude Base Available  \\\n",
      "16  2024-10-09     1            F7               95.0                  -0.0   \n",
      "17  2024-10-09     2            F7                0.0                  -0.0   \n",
      "\n",
      "    Crude A Available  Crude B Available  Crude C Available  \\\n",
      "16               -0.0              150.0               25.6   \n",
      "17               -0.0              150.0               25.6   \n",
      "\n",
      "    Crude D Available  Crude E Available  ...  Crude A Blended  \\\n",
      "16              100.0                0.0  ...              0.0   \n",
      "17              100.0                0.0  ...              0.0   \n",
      "\n",
      "    Crude B Blended  Crude C Blended  Crude D Blended  Crude E Blended  \\\n",
      "16              0.0              0.0              0.0              0.0   \n",
      "17              0.0              0.0              0.0              0.0   \n",
      "\n",
      "    Crude F Blended  Inventory Available  Ullage    Profit  \\\n",
      "16             95.0                275.6   354.4  947150.0   \n",
      "17              0.0                275.6   354.4       0.0   \n",
      "\n",
      "                   Flag  \n",
      "16  Margin_Optimization  \n",
      "17  Margin_Optimization  \n",
      "\n",
      "[2 rows x 22 columns]\n",
      "yes ['2024-10-09', '2024-10-09']\n",
      "          Date  Slot Final Product  Quantity Produced  Crude Base Available  \\\n",
      "18  2024-10-10     1            F7                0.0                   0.0   \n",
      "19  2024-10-10     2            F4               96.0                   0.0   \n",
      "\n",
      "    Crude A Available  Crude B Available  Crude C Available  \\\n",
      "18                0.0               92.4               25.6   \n",
      "19                0.0               92.4               25.6   \n",
      "\n",
      "    Crude D Available  Crude E Available  ...  Crude A Blended  \\\n",
      "18               61.6                0.0  ...              0.0   \n",
      "19               61.6                0.0  ...              0.0   \n",
      "\n",
      "    Crude B Blended  Crude C Blended  Crude D Blended  Crude E Blended  \\\n",
      "18              0.0              0.0              0.0              0.0   \n",
      "19             57.6              0.0             38.4              0.0   \n",
      "\n",
      "    Crude F Blended  Inventory Available  Ullage     Profit  \\\n",
      "18              0.0                179.7   450.4        0.0   \n",
      "19              0.0                179.7   450.4  1334592.0   \n",
      "\n",
      "                   Flag  \n",
      "18  Margin_Optimization  \n",
      "19  Margin_Optimization  \n",
      "\n",
      "[2 rows x 22 columns]\n",
      "yes ['2024-10-10', '2024-10-10']\n",
      "          Date  Slot Final Product  Quantity Produced  Crude Base Available  \\\n",
      "20  2024-10-11     1            F4               -0.0                   0.0   \n",
      "21  2024-10-11     2            F4               96.0                   0.0   \n",
      "\n",
      "    Crude A Available  Crude B Available  Crude C Available  \\\n",
      "20                0.0               34.8               25.6   \n",
      "21                0.0               34.8               25.6   \n",
      "\n",
      "    Crude D Available  Crude E Available  ...  Crude A Blended  \\\n",
      "20               23.2                0.0  ...             -0.0   \n",
      "21               23.2                0.0  ...              0.0   \n",
      "\n",
      "    Crude B Blended  Crude C Blended  Crude D Blended  Crude E Blended  \\\n",
      "20             -0.0             -0.0             -0.0             -0.0   \n",
      "21             57.6              0.0             38.4              0.0   \n",
      "\n",
      "    Crude F Blended  Inventory Available  Ullage     Profit  \\\n",
      "20             -0.0                 83.7   546.4        0.0   \n",
      "21              0.0                 83.7   546.4  1334592.0   \n",
      "\n",
      "                   Flag  \n",
      "20  Margin_Optimization  \n",
      "21  Margin_Optimization  \n",
      "\n",
      "[2 rows x 22 columns]\n",
      "yes ['2024-10-11', '2024-10-11']\n",
      "          Date  Slot Final Product  Quantity Produced  Crude Base Available  \\\n",
      "22  2024-10-12     1            F2                0.0                 329.9   \n",
      "23  2024-10-12     2            F2               96.0                 329.9   \n",
      "\n",
      "    Crude A Available  Crude B Available  Crude C Available  \\\n",
      "22              124.1               34.8               25.6   \n",
      "23              124.1               34.8               25.6   \n",
      "\n",
      "    Crude D Available  Crude E Available  ...  Crude A Blended  \\\n",
      "22               23.2                0.0  ...              0.0   \n",
      "23               23.2                0.0  ...             25.9   \n",
      "\n",
      "    Crude B Blended  Crude C Blended  Crude D Blended  Crude E Blended  \\\n",
      "22              0.0              0.0              0.0              0.0   \n",
      "23              0.0              0.0              0.0              0.0   \n",
      "\n",
      "    Crude F Blended  Inventory Available  Ullage     Profit  \\\n",
      "22              0.0                537.6   642.4        0.0   \n",
      "23              0.0                537.6   642.4  1589510.4   \n",
      "\n",
      "                   Flag  \n",
      "22  Margin_Optimization  \n",
      "23  Margin_Optimization  \n",
      "\n",
      "[2 rows x 22 columns]\n",
      "yes ['2024-10-12', '2024-10-12']\n",
      "          Date  Slot Final Product  Quantity Produced  Crude Base Available  \\\n",
      "24  2024-10-13     1            F2               96.0                 259.8   \n",
      "25  2024-10-13     2            F2                0.0                 259.8   \n",
      "\n",
      "    Crude A Available  Crude B Available  Crude C Available  \\\n",
      "24               98.2               34.8               25.6   \n",
      "25               98.2               34.8               25.6   \n",
      "\n",
      "    Crude D Available  Crude E Available  ...  Crude A Blended  \\\n",
      "24               23.2                0.0  ...             25.9   \n",
      "25               23.2                0.0  ...              0.0   \n",
      "\n",
      "    Crude B Blended  Crude C Blended  Crude D Blended  Crude E Blended  \\\n",
      "24              0.0              0.0              0.0              0.0   \n",
      "25              0.0              0.0              0.0              0.0   \n",
      "\n",
      "    Crude F Blended  Inventory Available  Ullage     Profit  \\\n",
      "24              0.0                441.7   168.3  1589510.4   \n",
      "25              0.0                441.7   168.3        0.0   \n",
      "\n",
      "                   Flag  \n",
      "24  Margin_Optimization  \n",
      "25  Margin_Optimization  \n",
      "\n",
      "[2 rows x 22 columns]\n",
      "yes ['2024-10-13', '2024-10-13']\n",
      "          Date  Slot Final Product  Quantity Produced  Crude Base Available  \\\n",
      "26  2024-10-14     1            F2                0.0                 189.8   \n",
      "27  2024-10-14     2            F2               96.0                 189.8   \n",
      "\n",
      "    Crude A Available  Crude B Available  Crude C Available  \\\n",
      "26               72.2               34.8               25.6   \n",
      "27               72.2               34.8               25.6   \n",
      "\n",
      "    Crude D Available  Crude E Available  ...  Crude A Blended  \\\n",
      "26               23.2                0.0  ...              0.0   \n",
      "27               23.2                0.0  ...             25.9   \n",
      "\n",
      "    Crude B Blended  Crude C Blended  Crude D Blended  Crude E Blended  \\\n",
      "26              0.0              0.0              0.0              0.0   \n",
      "27              0.0              0.0              0.0              0.0   \n",
      "\n",
      "    Crude F Blended  Inventory Available  Ullage     Profit  \\\n",
      "26              0.0                345.7   264.4        0.0   \n",
      "27              0.0                345.7   264.4  1589510.4   \n",
      "\n",
      "                   Flag  \n",
      "26  Margin_Optimization  \n",
      "27  Margin_Optimization  \n",
      "\n",
      "[2 rows x 22 columns]\n",
      "yes ['2024-10-14', '2024-10-14']\n",
      "          Date  Slot Final Product  Quantity Produced  Crude Base Available  \\\n",
      "28  2024-10-15     1            F2               96.0                 119.7   \n",
      "29  2024-10-15     2            F2                0.0                 119.7   \n",
      "\n",
      "    Crude A Available  Crude B Available  Crude C Available  \\\n",
      "28               46.3               34.8               25.6   \n",
      "29               46.3               34.8               25.6   \n",
      "\n",
      "    Crude D Available  Crude E Available  ...  Crude A Blended  \\\n",
      "28               23.2                0.0  ...             25.9   \n",
      "29               23.2                0.0  ...              0.0   \n",
      "\n",
      "    Crude B Blended  Crude C Blended  Crude D Blended  Crude E Blended  \\\n",
      "28              0.0              0.0              0.0              0.0   \n",
      "29              0.0              0.0              0.0              0.0   \n",
      "\n",
      "    Crude F Blended  Inventory Available  Ullage     Profit  \\\n",
      "28              0.0                249.7   360.4  1589510.4   \n",
      "29              0.0                249.7   360.4        0.0   \n",
      "\n",
      "                   Flag  \n",
      "28  Margin_Optimization  \n",
      "29  Margin_Optimization  \n",
      "\n",
      "[2 rows x 22 columns]\n",
      "yes ['2024-10-15', '2024-10-15']\n",
      "          Date  Slot Final Product  Quantity Produced  Crude Base Available  \\\n",
      "30  2024-10-16     1            F2                0.0                  49.6   \n",
      "31  2024-10-16     2            F2               96.0                  49.6   \n",
      "\n",
      "    Crude A Available  Crude B Available  Crude C Available  \\\n",
      "30               20.4               34.8               25.6   \n",
      "31               20.4               34.8               25.6   \n",
      "\n",
      "    Crude D Available  Crude E Available  ...  Crude A Blended  \\\n",
      "30               23.2              250.0  ...              0.0   \n",
      "31               23.2              250.0  ...             25.9   \n",
      "\n",
      "    Crude B Blended  Crude C Blended  Crude D Blended  Crude E Blended  \\\n",
      "30              0.0              0.0              0.0              0.0   \n",
      "31              0.0              0.0              0.0              0.0   \n",
      "\n",
      "    Crude F Blended  Inventory Available  Ullage     Profit  \\\n",
      "30              0.0                723.7   456.3        0.0   \n",
      "31              0.0                723.7   456.3  1589510.4   \n",
      "\n",
      "                   Flag  \n",
      "30  Margin_Optimization  \n",
      "31  Margin_Optimization  \n",
      "\n",
      "[2 rows x 22 columns]\n",
      "yes ['2024-10-16', '2024-10-16']\n",
      "          Date  Slot Final Product  Quantity Produced  Crude Base Available  \\\n",
      "32  2024-10-17     1            F7               93.7                  49.6   \n",
      "33  2024-10-17     2            F7                0.0                  49.6   \n",
      "\n",
      "    Crude A Available  Crude B Available  Crude C Available  \\\n",
      "32               20.4               34.8               25.6   \n",
      "33               20.4               34.8               25.6   \n",
      "\n",
      "    Crude D Available  Crude E Available  ...  Crude A Blended  \\\n",
      "32               23.2              250.0  ...              0.0   \n",
      "33               23.2              250.0  ...              0.0   \n",
      "\n",
      "    Crude B Blended  Crude C Blended  Crude D Blended  Crude E Blended  \\\n",
      "32              0.0              0.0              0.0              0.0   \n",
      "33              0.0              0.0              0.0              0.0   \n",
      "\n",
      "    Crude F Blended  Inventory Available  Ullage    Profit  \\\n",
      "32             93.7                630.0     0.0  933690.5   \n",
      "33              0.0                630.0     0.0       0.0   \n",
      "\n",
      "                   Flag  \n",
      "32  Margin_Optimization  \n",
      "33  Margin_Optimization  \n",
      "\n",
      "[2 rows x 22 columns]\n",
      "yes ['2024-10-17', '2024-10-17']\n",
      "          Date  Slot Final Product  Quantity Produced  Crude Base Available  \\\n",
      "34  2024-10-18     1            F7                0.0                  49.6   \n",
      "35  2024-10-18     2            F7               95.0                  49.6   \n",
      "\n",
      "    Crude A Available  Crude B Available  Crude C Available  \\\n",
      "34               20.4               34.8               25.6   \n",
      "35               20.4               34.8               25.6   \n",
      "\n",
      "    Crude D Available  Crude E Available  ...  Crude A Blended  \\\n",
      "34               23.2              250.0  ...              0.0   \n",
      "35               23.2              250.0  ...              0.0   \n",
      "\n",
      "    Crude B Blended  Crude C Blended  Crude D Blended  Crude E Blended  \\\n",
      "34              0.0              0.0              0.0              0.0   \n",
      "35              0.0              0.0              0.0              0.0   \n",
      "\n",
      "    Crude F Blended  Inventory Available  Ullage    Profit  \\\n",
      "34              0.0                535.0    95.0       0.0   \n",
      "35             95.0                535.0    95.0  947150.0   \n",
      "\n",
      "                   Flag  \n",
      "34  Margin_Optimization  \n",
      "35  Margin_Optimization  \n",
      "\n",
      "[2 rows x 22 columns]\n",
      "yes ['2024-10-18', '2024-10-18']\n",
      "          Date  Slot Final Product  Quantity Produced  Crude Base Available  \\\n",
      "36  2024-10-19     1            F7               36.4                  49.6   \n",
      "37  2024-10-19     2            F7                0.0                  49.6   \n",
      "\n",
      "    Crude A Available  Crude B Available  Crude C Available  \\\n",
      "36               20.4               34.8               25.6   \n",
      "37               20.4               34.8               25.6   \n",
      "\n",
      "    Crude D Available  Crude E Available  ...  Crude A Blended  \\\n",
      "36               23.2              250.0  ...              0.0   \n",
      "37               23.2              250.0  ...              0.0   \n",
      "\n",
      "    Crude B Blended  Crude C Blended  Crude D Blended  Crude E Blended  \\\n",
      "36              0.0              0.0              0.0              0.0   \n",
      "37              0.0              0.0              0.0              0.0   \n",
      "\n",
      "    Crude F Blended  Inventory Available  Ullage    Profit  \\\n",
      "36             36.4                498.7   131.4  362409.5   \n",
      "37              0.0                498.7   131.4       0.0   \n",
      "\n",
      "                   Flag  \n",
      "36  Margin_Optimization  \n",
      "37  Margin_Optimization  \n",
      "\n",
      "[2 rows x 22 columns]\n",
      "yes ['2024-10-19', '2024-10-19']\n",
      "          Date  Slot Final Product  Quantity Produced  Crude Base Available  \\\n",
      "38  2024-10-20     1            F7               95.0                  49.6   \n",
      "39  2024-10-20     2            F7               -0.0                  49.6   \n",
      "\n",
      "    Crude A Available  Crude B Available  Crude C Available  \\\n",
      "38               20.4               34.8               25.6   \n",
      "39               20.4               34.8               25.6   \n",
      "\n",
      "    Crude D Available  Crude E Available  ...  Crude A Blended  \\\n",
      "38               23.2              800.0  ...              0.0   \n",
      "39               23.2              800.0  ...             -0.0   \n",
      "\n",
      "    Crude B Blended  Crude C Blended  Crude D Blended  Crude E Blended  \\\n",
      "38              0.0              0.0              0.0              0.0   \n",
      "39             -0.0             -0.0             -0.0             -0.0   \n",
      "\n",
      "    Crude F Blended  Inventory Available  Ullage    Profit  \\\n",
      "38             95.0                953.7   226.4  947150.0   \n",
      "39             -0.0                953.7   226.4       0.0   \n",
      "\n",
      "                   Flag  \n",
      "38  Margin_Optimization  \n",
      "39  Margin_Optimization  \n",
      "\n",
      "[2 rows x 22 columns]\n",
      "yes ['2024-10-20', '2024-10-20']\n",
      "          Date  Slot Final Product  Quantity Produced  Crude Base Available  \\\n",
      "40  2024-10-21     1            F7                0.0                  49.6   \n",
      "41  2024-10-21     2            F6               95.0                  49.6   \n",
      "\n",
      "    Crude A Available  Crude B Available  Crude C Available  \\\n",
      "40               20.4               34.8               25.6   \n",
      "41               20.4               34.8               25.6   \n",
      "\n",
      "    Crude D Available  Crude E Available  ...  Crude A Blended  \\\n",
      "40               23.2              705.0  ...              0.0   \n",
      "41               23.2              705.0  ...              0.0   \n",
      "\n",
      "    Crude B Blended  Crude C Blended  Crude D Blended  Crude E Blended  \\\n",
      "40              0.0              0.0              0.0              0.0   \n",
      "41              0.0              0.0              0.0             95.0   \n",
      "\n",
      "    Crude F Blended  Inventory Available  Ullage    Profit  \\\n",
      "40              0.0                858.7   321.4       0.0   \n",
      "41              0.0                858.7   321.4  948100.0   \n",
      "\n",
      "                   Flag  \n",
      "40  Margin_Optimization  \n",
      "41  Margin_Optimization  \n",
      "\n",
      "[2 rows x 22 columns]\n",
      "yes ['2024-10-21', '2024-10-21']\n",
      "          Date  Slot Final Product  Quantity Produced  Crude Base Available  \\\n",
      "42  2024-10-22     1            F6               -0.0                  49.6   \n",
      "43  2024-10-22     2            F6               95.0                  49.6   \n",
      "\n",
      "    Crude A Available  Crude B Available  Crude C Available  \\\n",
      "42               20.4               34.8               25.6   \n",
      "43               20.4               34.8               25.6   \n",
      "\n",
      "    Crude D Available  Crude E Available  ...  Crude A Blended  \\\n",
      "42               23.2              610.0  ...             -0.0   \n",
      "43               23.2              610.0  ...              0.0   \n",
      "\n",
      "    Crude B Blended  Crude C Blended  Crude D Blended  Crude E Blended  \\\n",
      "42             -0.0             -0.0             -0.0             -0.0   \n",
      "43              0.0              0.0              0.0             95.0   \n",
      "\n",
      "    Crude F Blended  Inventory Available  Ullage    Profit  \\\n",
      "42             -0.0                763.7   416.4       0.0   \n",
      "43              0.0                763.7   416.4  948100.0   \n",
      "\n",
      "                   Flag  \n",
      "42  Margin_Optimization  \n",
      "43  Margin_Optimization  \n",
      "\n",
      "[2 rows x 22 columns]\n",
      "yes ['2024-10-22', '2024-10-22']\n",
      "          Date  Slot Final Product  Quantity Produced  Crude Base Available  \\\n",
      "44  2024-10-23     1            F6               95.0                  49.6   \n",
      "45  2024-10-23     2            F6               -0.0                  49.6   \n",
      "\n",
      "    Crude A Available  Crude B Available  Crude C Available  \\\n",
      "44               20.4               34.8               25.6   \n",
      "45               20.4               34.8               25.6   \n",
      "\n",
      "    Crude D Available  Crude E Available  ...  Crude A Blended  \\\n",
      "44               23.2              515.0  ...              0.0   \n",
      "45               23.2              515.0  ...             -0.0   \n",
      "\n",
      "    Crude B Blended  Crude C Blended  Crude D Blended  Crude E Blended  \\\n",
      "44              0.0              0.0              0.0             95.0   \n",
      "45             -0.0             -0.0             -0.0             -0.0   \n",
      "\n",
      "    Crude F Blended  Inventory Available  Ullage    Profit  \\\n",
      "44              0.0                668.7   511.4  948100.0   \n",
      "45             -0.0                668.7   511.4       0.0   \n",
      "\n",
      "                   Flag  \n",
      "44  Margin_Optimization  \n",
      "45  Margin_Optimization  \n",
      "\n",
      "[2 rows x 22 columns]\n",
      "yes ['2024-10-23', '2024-10-23']\n",
      "          Date  Slot Final Product  Quantity Produced  Crude Base Available  \\\n",
      "46  2024-10-24     1            F6               -0.0                  49.6   \n",
      "47  2024-10-24     2            F6               95.0                  49.6   \n",
      "\n",
      "    Crude A Available  Crude B Available  Crude C Available  \\\n",
      "46               20.4               34.8               25.6   \n",
      "47               20.4               34.8               25.6   \n",
      "\n",
      "    Crude D Available  Crude E Available  ...  Crude A Blended  \\\n",
      "46               23.2              420.0  ...             -0.0   \n",
      "47               23.2              420.0  ...              0.0   \n",
      "\n",
      "    Crude B Blended  Crude C Blended  Crude D Blended  Crude E Blended  \\\n",
      "46             -0.0             -0.0             -0.0             -0.0   \n",
      "47              0.0              0.0              0.0             95.0   \n",
      "\n",
      "    Crude F Blended  Inventory Available  Ullage    Profit  \\\n",
      "46             -0.0                573.7   246.4       0.0   \n",
      "47              0.0                573.7   246.4  948100.0   \n",
      "\n",
      "                   Flag  \n",
      "46  Margin_Optimization  \n",
      "47  Margin_Optimization  \n",
      "\n",
      "[2 rows x 22 columns]\n",
      "yes ['2024-10-24', '2024-10-24']\n",
      "          Date  Slot Final Product  Quantity Produced  Crude Base Available  \\\n",
      "48  2024-10-25     1            F6               -0.0                  49.6   \n",
      "49  2024-10-25     2            F6               95.0                  49.6   \n",
      "\n",
      "    Crude A Available  Crude B Available  Crude C Available  \\\n",
      "48               20.4               34.8               25.6   \n",
      "49               20.4               34.8               25.6   \n",
      "\n",
      "    Crude D Available  Crude E Available  ...  Crude A Blended  \\\n",
      "48               23.2              325.0  ...             -0.0   \n",
      "49               23.2              325.0  ...              0.0   \n",
      "\n",
      "    Crude B Blended  Crude C Blended  Crude D Blended  Crude E Blended  \\\n",
      "48             -0.0             -0.0             -0.0             -0.0   \n",
      "49              0.0              0.0              0.0             95.0   \n",
      "\n",
      "    Crude F Blended  Inventory Available  Ullage    Profit  \\\n",
      "48             -0.0                478.7   341.4       0.0   \n",
      "49              0.0                478.7   341.4  948100.0   \n",
      "\n",
      "                   Flag  \n",
      "48  Margin_Optimization  \n",
      "49  Margin_Optimization  \n",
      "\n",
      "[2 rows x 22 columns]\n",
      "yes ['2024-10-25', '2024-10-25']\n",
      "          Date  Slot Final Product  Quantity Produced  Crude Base Available  \\\n",
      "50  2024-10-26     1            F6               -0.0                  49.6   \n",
      "51  2024-10-26     2            F6               95.0                  49.6   \n",
      "\n",
      "    Crude A Available  Crude B Available  Crude C Available  \\\n",
      "50               20.4               34.8               25.6   \n",
      "51               20.4               34.8               25.6   \n",
      "\n",
      "    Crude D Available  Crude E Available  ...  Crude A Blended  \\\n",
      "50               23.2              230.0  ...             -0.0   \n",
      "51               23.2              230.0  ...              0.0   \n",
      "\n",
      "    Crude B Blended  Crude C Blended  Crude D Blended  Crude E Blended  \\\n",
      "50             -0.0             -0.0             -0.0             -0.0   \n",
      "51              0.0              0.0              0.0             95.0   \n",
      "\n",
      "    Crude F Blended  Inventory Available  Ullage    Profit  \\\n",
      "50             -0.0                383.7   436.4       0.0   \n",
      "51              0.0                383.7   436.4  948100.0   \n",
      "\n",
      "                   Flag  \n",
      "50  Margin_Optimization  \n",
      "51  Margin_Optimization  \n",
      "\n",
      "[2 rows x 22 columns]\n",
      "yes ['2024-10-26', '2024-10-26']\n",
      "          Date  Slot Final Product  Quantity Produced  Crude Base Available  \\\n",
      "52  2024-10-27     1            F6               95.0                 409.6   \n",
      "53  2024-10-27     2            F2                0.0                 409.6   \n",
      "\n",
      "    Crude A Available  Crude B Available  Crude C Available  \\\n",
      "52               20.4               34.8               25.6   \n",
      "53               20.4               34.8               25.6   \n",
      "\n",
      "    Crude D Available  Crude E Available  ...  Crude A Blended  \\\n",
      "52               23.2              135.0  ...              0.0   \n",
      "53               23.2              135.0  ...              0.0   \n",
      "\n",
      "    Crude B Blended  Crude C Blended  Crude D Blended  Crude E Blended  \\\n",
      "52              0.0              0.0              0.0             95.0   \n",
      "53              0.0              0.0              0.0              0.0   \n",
      "\n",
      "    Crude F Blended  Inventory Available  Ullage    Profit  \\\n",
      "52              0.0                648.7   531.4  948100.0   \n",
      "53              0.0                648.7   531.4       0.0   \n",
      "\n",
      "                   Flag  \n",
      "52  Margin_Optimization  \n",
      "53  Margin_Optimization  \n",
      "\n",
      "[2 rows x 22 columns]\n",
      "yes ['2024-10-27', '2024-10-27']\n",
      "          Date  Slot Final Product  Quantity Produced  Crude Base Available  \\\n",
      "54  2024-10-28     1            F2                0.0                 409.6   \n",
      "55  2024-10-28     2            F2                0.0                 409.6   \n",
      "\n",
      "    Crude A Available  Crude B Available  Crude C Available  \\\n",
      "54               20.4               34.8               25.6   \n",
      "55               20.4               34.8               25.6   \n",
      "\n",
      "    Crude D Available  Crude E Available  ...  Crude A Blended  \\\n",
      "54               23.2              135.0  ...              0.0   \n",
      "55               23.2              135.0  ...              0.0   \n",
      "\n",
      "    Crude B Blended  Crude C Blended  Crude D Blended  Crude E Blended  \\\n",
      "54              0.0              0.0              0.0              0.0   \n",
      "55              0.0              0.0              0.0              0.0   \n",
      "\n",
      "    Crude F Blended  Inventory Available  Ullage  Profit                 Flag  \n",
      "54              0.0                648.7   531.4     0.0  Margin_Optimization  \n",
      "55              0.0                648.7   531.4     0.0  Margin_Optimization  \n",
      "\n",
      "[2 rows x 22 columns]\n",
      "          Date  Slot Final Product  Quantity Produced  Crude Base Available  \\\n",
      "56  2024-10-29     1            F2                0.0                 409.6   \n",
      "57  2024-10-29     2            F2                0.0                 409.6   \n",
      "\n",
      "    Crude A Available  Crude B Available  Crude C Available  \\\n",
      "56               20.4               34.8               25.6   \n",
      "57               20.4               34.8               25.6   \n",
      "\n",
      "    Crude D Available  Crude E Available  ...  Crude A Blended  \\\n",
      "56               23.2              135.0  ...              0.0   \n",
      "57               23.2              135.0  ...              0.0   \n",
      "\n",
      "    Crude B Blended  Crude C Blended  Crude D Blended  Crude E Blended  \\\n",
      "56              0.0              0.0              0.0              0.0   \n",
      "57              0.0              0.0              0.0              0.0   \n",
      "\n",
      "    Crude F Blended  Inventory Available  Ullage  Profit                 Flag  \n",
      "56              0.0                648.7   331.4     0.0  Margin_Optimization  \n",
      "57              0.0                648.7   331.4     0.0  Margin_Optimization  \n",
      "\n",
      "[2 rows x 22 columns]\n",
      "          Date  Slot Final Product  Quantity Produced  Crude Base Available  \\\n",
      "58  2024-10-30     1            F2                0.0                 354.4   \n",
      "59  2024-10-30     2            F2               75.6                 354.4   \n",
      "\n",
      "    Crude A Available  Crude B Available  Crude C Available  \\\n",
      "58                0.0               34.8               25.6   \n",
      "59                0.0               34.8               25.6   \n",
      "\n",
      "    Crude D Available  Crude E Available  ...  Crude A Blended  \\\n",
      "58               23.2              135.0  ...              0.0   \n",
      "59               23.2              135.0  ...             20.4   \n",
      "\n",
      "    Crude B Blended  Crude C Blended  Crude D Blended  Crude E Blended  \\\n",
      "58              0.0              0.0              0.0              0.0   \n",
      "59              0.0              0.0              0.0              0.0   \n",
      "\n",
      "    Crude F Blended  Inventory Available  Ullage        Profit  \\\n",
      "58              0.0                573.1   406.9  0.000000e+00   \n",
      "59              0.0                573.1   406.9  1.251004e+06   \n",
      "\n",
      "                   Flag  \n",
      "58  Margin_Optimization  \n",
      "59  Margin_Optimization  \n",
      "\n",
      "[2 rows x 22 columns]\n",
      "yes ['2024-10-30', '2024-10-30']\n",
      "          Date  Slot Final Product  Quantity Produced  Crude Base Available  \\\n",
      "60  2024-10-31     1            F2                0.0                 285.1   \n",
      "61  2024-10-31     2            F5               95.0                 285.1   \n",
      "\n",
      "    Crude A Available  Crude B Available  Crude C Available  \\\n",
      "60                0.0               34.8                0.0   \n",
      "61                0.0               34.8                0.0   \n",
      "\n",
      "    Crude D Available  Crude E Available  ...  Crude A Blended  \\\n",
      "60               23.2              135.0  ...              0.0   \n",
      "61               23.2              135.0  ...              0.0   \n",
      "\n",
      "    Crude B Blended  Crude C Blended  Crude D Blended  Crude E Blended  \\\n",
      "60              0.0              0.0              0.0              0.0   \n",
      "61              0.0             25.6              0.0              0.0   \n",
      "\n",
      "    Crude F Blended  Inventory Available  Ullage     Profit  \\\n",
      "60              0.0                478.1   501.9        0.0   \n",
      "61              0.0                478.1   501.9  1592703.5   \n",
      "\n",
      "                   Flag  \n",
      "60  Margin_Optimization  \n",
      "61  Margin_Optimization  \n",
      "\n",
      "[2 rows x 22 columns]\n",
      "yes ['2024-10-31', '2024-10-31']\n",
      "          Date  Slot Final Product  Quantity Produced  Crude Base Available  \\\n",
      "62  2024-11-01     1            F5               -0.0                 215.7   \n",
      "63  2024-11-01     2            F5               95.0                 215.7   \n",
      "\n",
      "    Crude A Available  Crude B Available  Crude C Available  \\\n",
      "62                0.0               34.8              174.3   \n",
      "63                0.0               34.8              174.3   \n",
      "\n",
      "    Crude D Available  Crude E Available  ...  Crude A Blended  \\\n",
      "62               23.2              135.0  ...             -0.0   \n",
      "63               23.2              135.0  ...              0.0   \n",
      "\n",
      "    Crude B Blended  Crude C Blended  Crude D Blended  Crude E Blended  \\\n",
      "62             -0.0             -0.0             -0.0             -0.0   \n",
      "63              0.0             25.6              0.0              0.0   \n",
      "\n",
      "    Crude F Blended  Inventory Available  Ullage     Profit  \\\n",
      "62             -0.0                583.1   166.9        0.0   \n",
      "63              0.0                583.1   166.9  1592703.5   \n",
      "\n",
      "                   Flag  \n",
      "62  Margin_Optimization  \n",
      "63  Margin_Optimization  \n",
      "\n",
      "[2 rows x 22 columns]\n",
      "yes ['2024-11-01', '2024-11-01']\n",
      "          Date  Slot Final Product  Quantity Produced  Crude Base Available  \\\n",
      "64  2024-11-02     1            F5               95.0                 146.4   \n",
      "65  2024-11-02     2            F4                0.0                 146.4   \n",
      "\n",
      "    Crude A Available  Crude B Available  Crude C Available  \\\n",
      "64               -0.0               34.8              148.7   \n",
      "65               -0.0               34.8              148.7   \n",
      "\n",
      "    Crude D Available  Crude E Available  ...  Crude A Blended  \\\n",
      "64               23.2              135.0  ...              0.0   \n",
      "65               23.2              135.0  ...              0.0   \n",
      "\n",
      "    Crude B Blended  Crude C Blended  Crude D Blended  Crude E Blended  \\\n",
      "64              0.0             25.6              0.0              0.0   \n",
      "65              0.0              0.0              0.0              0.0   \n",
      "\n",
      "    Crude F Blended  Inventory Available  Ullage     Profit  \\\n",
      "64              0.0                488.1   261.9  1592703.5   \n",
      "65              0.0                488.1   261.9        0.0   \n",
      "\n",
      "                   Flag  \n",
      "64  Margin_Optimization  \n",
      "65  Margin_Optimization  \n",
      "\n",
      "[2 rows x 22 columns]\n",
      "yes ['2024-11-02', '2024-11-02']\n",
      "          Date  Slot Final Product  Quantity Produced  Crude Base Available  \\\n",
      "66  2024-11-03     1            F4               58.0                 146.4   \n",
      "67  2024-11-03     2            F4                0.0                 146.4   \n",
      "\n",
      "    Crude A Available  Crude B Available  Crude C Available  \\\n",
      "66                0.0               -0.0              148.7   \n",
      "67                0.0               -0.0              148.7   \n",
      "\n",
      "    Crude D Available  Crude E Available  ...  Crude A Blended  \\\n",
      "66               -0.0              135.0  ...              0.0   \n",
      "67               -0.0              135.0  ...              0.0   \n",
      "\n",
      "    Crude B Blended  Crude C Blended  Crude D Blended  Crude E Blended  \\\n",
      "66             34.8              0.0             23.2              0.0   \n",
      "67              0.0              0.0              0.0              0.0   \n",
      "\n",
      "    Crude F Blended  Inventory Available  Ullage    Profit  \\\n",
      "66              0.0                430.1   319.9  806316.0   \n",
      "67              0.0                430.1   319.9       0.0   \n",
      "\n",
      "                   Flag  \n",
      "66  Margin_Optimization  \n",
      "67  Margin_Optimization  \n",
      "\n",
      "[2 rows x 22 columns]\n",
      "yes ['2024-11-03', '2024-11-03']\n",
      "          Date  Slot Final Product  Quantity Produced  Crude Base Available  \\\n",
      "68  2024-11-04     1            F4                0.0                 146.4   \n",
      "69  2024-11-04     2            F4                0.0                 146.4   \n",
      "\n",
      "    Crude A Available  Crude B Available  Crude C Available  \\\n",
      "68                0.0               -0.0              148.7   \n",
      "69                0.0               -0.0              148.7   \n",
      "\n",
      "    Crude D Available  Crude E Available  ...  Crude A Blended  \\\n",
      "68              150.0              135.0  ...              0.0   \n",
      "69              150.0              135.0  ...              0.0   \n",
      "\n",
      "    Crude B Blended  Crude C Blended  Crude D Blended  Crude E Blended  \\\n",
      "68              0.0              0.0              0.0              0.0   \n",
      "69              0.0              0.0              0.0              0.0   \n",
      "\n",
      "    Crude F Blended  Inventory Available  Ullage  Profit                 Flag  \n",
      "68              0.0                860.1   319.9     0.0  Margin_Optimization  \n",
      "69              0.0                860.1   319.9     0.0  Margin_Optimization  \n",
      "\n",
      "[2 rows x 22 columns]\n",
      "          Date  Slot Final Product  Quantity Produced  Crude Base Available  \\\n",
      "70  2024-11-05     1            F4                0.0                 146.4   \n",
      "71  2024-11-05     2            F4                0.0                 146.4   \n",
      "\n",
      "    Crude A Available  Crude B Available  Crude C Available  \\\n",
      "70                0.0               -0.0              148.7   \n",
      "71                0.0               -0.0              148.7   \n",
      "\n",
      "    Crude D Available  Crude E Available  ...  Crude A Blended  \\\n",
      "70              150.0              135.0  ...              0.0   \n",
      "71              150.0              135.0  ...              0.0   \n",
      "\n",
      "    Crude B Blended  Crude C Blended  Crude D Blended  Crude E Blended  \\\n",
      "70              0.0              0.0              0.0              0.0   \n",
      "71              0.0              0.0              0.0              0.0   \n",
      "\n",
      "    Crude F Blended  Inventory Available  Ullage  Profit                 Flag  \n",
      "70              0.0                860.1   319.9     0.0  Margin_Optimization  \n",
      "71              0.0                860.1   319.9     0.0  Margin_Optimization  \n",
      "\n",
      "[2 rows x 22 columns]\n",
      "          Date  Slot Final Product  Quantity Produced  Crude Base Available  \\\n",
      "72  2024-11-06     1            F5               95.0                  77.0   \n",
      "73  2024-11-06     2            F5               -0.0                  77.0   \n",
      "\n",
      "    Crude A Available  Crude B Available  Crude C Available  \\\n",
      "72                0.0                0.0              123.0   \n",
      "73                0.0                0.0              123.0   \n",
      "\n",
      "    Crude D Available  Crude E Available  ...  Crude A Blended  \\\n",
      "72              150.0              135.0  ...              0.0   \n",
      "73              150.0              135.0  ...             -0.0   \n",
      "\n",
      "    Crude B Blended  Crude C Blended  Crude D Blended  Crude E Blended  \\\n",
      "72              0.0             25.6              0.0              0.0   \n",
      "73             -0.0             -0.0             -0.0             -0.0   \n",
      "\n",
      "    Crude F Blended  Inventory Available  Ullage     Profit  \\\n",
      "72              0.0                765.1   414.9  1592703.5   \n",
      "73             -0.0                765.1   414.9        0.0   \n",
      "\n",
      "                   Flag  \n",
      "72  Margin_Optimization  \n",
      "73  Margin_Optimization  \n",
      "\n",
      "[2 rows x 22 columns]\n",
      "yes ['2024-11-06', '2024-11-06']\n",
      "          Date  Slot Final Product  Quantity Produced  Crude Base Available  \\\n",
      "74  2024-11-07     1            F7               95.0                  77.0   \n",
      "75  2024-11-07     2            F7               -0.0                  77.0   \n",
      "\n",
      "    Crude A Available  Crude B Available  Crude C Available  \\\n",
      "74                0.0               -0.0              123.0   \n",
      "75                0.0               -0.0              123.0   \n",
      "\n",
      "    Crude D Available  Crude E Available  ...  Crude A Blended  \\\n",
      "74              150.0              135.0  ...              0.0   \n",
      "75              150.0              135.0  ...             -0.0   \n",
      "\n",
      "    Crude B Blended  Crude C Blended  Crude D Blended  Crude E Blended  \\\n",
      "74              0.0              0.0              0.0              0.0   \n",
      "75             -0.0             -0.0             -0.0             -0.0   \n",
      "\n",
      "    Crude F Blended  Inventory Available  Ullage    Profit  \\\n",
      "74             95.0                670.1   509.9  947150.0   \n",
      "75             -0.0                670.1   509.9       0.0   \n",
      "\n",
      "                   Flag  \n",
      "74  Margin_Optimization  \n",
      "75  Margin_Optimization  \n",
      "\n",
      "[2 rows x 22 columns]\n",
      "yes ['2024-11-07', '2024-11-07']\n",
      "          Date  Slot Final Product  Quantity Produced  Crude Base Available  \\\n",
      "76  2024-11-08     1            F7                0.0                  77.0   \n",
      "77  2024-11-08     2            F7               90.0                  77.0   \n",
      "\n",
      "    Crude A Available  Crude B Available  Crude C Available  \\\n",
      "76                0.0                0.0              123.0   \n",
      "77                0.0                0.0              123.0   \n",
      "\n",
      "    Crude D Available  Crude E Available  ...  Crude A Blended  \\\n",
      "76              150.0              135.0  ...              0.0   \n",
      "77              150.0              135.0  ...              0.0   \n",
      "\n",
      "    Crude B Blended  Crude C Blended  Crude D Blended  Crude E Blended  \\\n",
      "76              0.0              0.0              0.0              0.0   \n",
      "77              0.0              0.0              0.0              0.0   \n",
      "\n",
      "    Crude F Blended  Inventory Available  Ullage    Profit  \\\n",
      "76              0.0                580.1   599.9       0.0   \n",
      "77             90.0                580.1   599.9  897300.0   \n",
      "\n",
      "                   Flag  \n",
      "76  Margin_Optimization  \n",
      "77  Margin_Optimization  \n",
      "\n",
      "[2 rows x 22 columns]\n",
      "yes ['2024-11-08', '2024-11-08']\n",
      "          Date  Slot Final Product  Quantity Produced  Crude Base Available  \\\n",
      "78  2024-11-09     1            F7                0.0                  77.0   \n",
      "79  2024-11-09     2            F7               95.0                  77.0   \n",
      "\n",
      "    Crude A Available  Crude B Available  Crude C Available  \\\n",
      "78                0.0                0.0              123.0   \n",
      "79                0.0                0.0              123.0   \n",
      "\n",
      "    Crude D Available  Crude E Available  ...  Crude A Blended  \\\n",
      "78              150.0              135.0  ...              0.0   \n",
      "79              150.0              135.0  ...              0.0   \n",
      "\n",
      "    Crude B Blended  Crude C Blended  Crude D Blended  Crude E Blended  \\\n",
      "78              0.0              0.0              0.0              0.0   \n",
      "79              0.0              0.0              0.0              0.0   \n",
      "\n",
      "    Crude F Blended  Inventory Available  Ullage    Profit  \\\n",
      "78              0.0                485.1   694.9       0.0   \n",
      "79             95.0                485.1   694.9  947150.0   \n",
      "\n",
      "                   Flag  \n",
      "78  Margin_Optimization  \n",
      "79  Margin_Optimization  \n",
      "\n",
      "[2 rows x 22 columns]\n",
      "yes ['2024-11-09', '2024-11-09']\n"
     ]
    }
   ],
   "source": [
    "days=[]\n",
    "Final_Product=[]\n",
    "Quantity_produced=[]\n",
    "profit_each_slot=[]\n",
    "slots=[]\n",
    "inventory=[]\n",
    "ullage = []\n",
    "crude_blended = {c: [] for c in model.CRUDES}\n",
    "crude_available = {c: [] for c in model.CRUDES}\n",
    "\n",
    "\n",
    "for slot in model.SLOTS:\n",
    "    slots.append(slot)\n",
    "\n",
    "    if (slot+1)%2==0:\n",
    "        day=int((slot+1)/2)\n",
    "    days.append(day)\n",
    "    total_profit = 0\n",
    "\n",
    "    for blend in model.BLENDS:\n",
    "\n",
    "        if value(model.IsBlendConsumed[blend, slot]) > 0.5:\n",
    "\n",
    "            Final_Product.append(blend)\n",
    "            produced = value(model.BlendFraction[blend,slot])*value(model.BCb[blend])\n",
    "            Quantity_produced.append(produced)\n",
    "            inventory_total = 0\n",
    "           \n",
    "            for crude in model.CRUDES:\n",
    "\n",
    "                blended_amount = value(model.BCb[blend]) * value(model.BRcb[blend,crude]) * value(model.BlendFraction[blend , slot])\n",
    "                profit=model.MRc[crude]*blended_amount\n",
    "                crude_blended[crude].append(blended_amount)\n",
    "                inv = value(model.Inventory[crude, day])\n",
    "                crude_available[crude].append(inv)\n",
    "                inventory_total += inv\n",
    "                total_profit += profit\n",
    "                \n",
    "\n",
    "\n",
    "\n",
    "            inventory.append(inventory_total)\n",
    "    ullage.append(value(model.Ullage[day]))\n",
    "    profit_each_slot.append(total_profit)   \n",
    "    \n",
    "\n",
    "records=[]\n",
    "for i in range(len(slots)):\n",
    "    record = {\n",
    "        \"Date\": pd.to_datetime(\"2024-10-01\") + pd.Timedelta(days=days[i]-1), \n",
    "        \"Slot\": slots[i],\n",
    "        \"Final Product\": Final_Product[i],\n",
    "        \"Quantity Produced\": round(Quantity_produced[i]/1000, 1),\n",
    "        **{f\"Crude {c} Available\": round(crude_available[c][i]/1000, 1) for c in model.CRUDES},\n",
    "        **{f\"Crude {c} Blended\": round(crude_blended[c][i]/1000, 1) for c in model.CRUDES},\n",
    "        \"Inventory Available\": round(inventory[i]/1000, 1),\n",
    "        \"Ullage\": round(ullage[i]/1000, 1),\n",
    "        \"Profit\":profit_each_slot[i],\n",
    "        \"Flag\": \"Margin_Optimization\"\n",
    "    }\n",
    "    records.append(record)\n",
    "df = pd.DataFrame(records)\n",
    "\n",
    "slot=[]\n",
    "for i in df['Slot']:\n",
    "    if i %2==0:\n",
    "        slot.append(2)\n",
    "    else:\n",
    "        slot.append(1)\n",
    "df['Slot']=slot\n",
    "df['Date'] = df['Date'].dt.strftime('%Y-%m-%d')\n",
    "def reduce_rows(group):\n",
    "    print(group)\n",
    "    if (group[\"Quantity Produced\"] == 0).sum() == 1:\n",
    "        # Keep the non-zero row, force slot = 1\n",
    "        print(\"yes\", group['Date'].to_list())\n",
    "        row = group[group[\"Quantity Produced\"] != 0].copy()\n",
    "        row.loc[:, \"Slot\"] = 1\n",
    "        return row\n",
    "    else:\n",
    "        return group\n",
    "\n",
    "combined_df_reduced = df.groupby([\"Date\",\"Flag\"], group_keys=False).apply(reduce_rows).reset_index(drop=True) "
   ]
  },
  {
   "cell_type": "code",
   "execution_count": 40,
   "id": "28fda97f",
   "metadata": {
    "microsoft": {
     "language": "python",
     "language_group": "jupyter_python"
    }
   },
   "outputs": [
    {
     "data": {
      "application/vnd.jupyter.statement-meta+json": {
       "execution_finish_time": "2025-07-22T09:30:42.7323988Z",
       "execution_start_time": "2025-07-22T09:30:42.2361519Z",
       "normalized_state": "finished",
       "parent_msg_id": "e62a4832-d1da-448e-a476-3b49d2728e4c",
       "queued_time": "2025-07-22T09:24:48.1597804Z",
       "session_id": "f4c9b725-e93b-42ed-a44f-72e20c985c4a",
       "session_start_time": null
      }
     },
     "metadata": {},
     "output_type": "display_data"
    },
    {
     "data": {
      "text/plain": [
       "1064864.0888888887"
      ]
     },
     "execution_count": 100,
     "metadata": {},
     "output_type": "execute_result"
    }
   ],
   "source": [
    "sum(df['Profit']) / config[\"DAYS\"][\"end\"]"
   ]
  },
  {
   "cell_type": "code",
   "execution_count": 41,
   "id": "398f884d",
   "metadata": {
    "microsoft": {
     "language": "python",
     "language_group": "jupyter_python"
    }
   },
   "outputs": [
    {
     "data": {
      "application/vnd.jupyter.statement-meta+json": {
       "execution_finish_time": "2025-07-22T09:30:43.1526936Z",
       "execution_start_time": "2025-07-22T09:30:42.7342247Z",
       "normalized_state": "finished",
       "parent_msg_id": "c5739f6b-0097-4472-9abd-ff5ecef6cfb7",
       "queued_time": "2025-07-22T09:24:48.3698284Z",
       "session_id": "f4c9b725-e93b-42ed-a44f-72e20c985c4a",
       "session_start_time": null
      }
     },
     "metadata": {},
     "output_type": "display_data"
    }
   ],
   "source": [
    "# df.to_csv(\"margin_crude_blending.csv\", index=False)"
   ]
  },
  {
   "cell_type": "code",
   "execution_count": 42,
   "id": "fec16bac",
   "metadata": {
    "microsoft": {
     "language": "python",
     "language_group": "jupyter_python"
    }
   },
   "outputs": [
    {
     "data": {
      "application/vnd.jupyter.statement-meta+json": {
       "execution_finish_time": "2025-07-22T09:30:43.5942135Z",
       "execution_start_time": "2025-07-22T09:30:43.1542719Z",
       "normalized_state": "finished",
       "parent_msg_id": "438c5d7d-5ffd-47b4-bd70-8d51d8c47019",
       "queued_time": "2025-07-22T09:24:48.571762Z",
       "session_id": "f4c9b725-e93b-42ed-a44f-72e20c985c4a",
       "session_start_time": null
      }
     },
     "metadata": {},
     "output_type": "display_data"
    },
    {
     "data": {
      "text/plain": [
       "80.625"
      ]
     },
     "execution_count": 102,
     "metadata": {},
     "output_type": "execute_result"
    }
   ],
   "source": [
    "sum(df['Quantity Produced']) / config[\"DAYS\"][\"end\"]"
   ]
  },
  {
   "cell_type": "code",
   "execution_count": 43,
   "id": "156341cc-4f8b-4745-930b-0f697a78bb65",
   "metadata": {
    "microsoft": {
     "language": "python",
     "language_group": "jupyter_python"
    }
   },
   "outputs": [
    {
     "data": {
      "application/vnd.jupyter.statement-meta+json": {
       "execution_finish_time": "2025-07-22T09:30:44.4208032Z",
       "execution_start_time": "2025-07-22T09:30:43.5960112Z",
       "normalized_state": "finished",
       "parent_msg_id": "a8c17bb3-6c39-491e-8dac-bf3dd63d6b18",
       "queued_time": "2025-07-22T09:24:48.7727119Z",
       "session_id": "f4c9b725-e93b-42ed-a44f-72e20c985c4a",
       "session_start_time": null
      }
     },
     "metadata": {},
     "output_type": "display_data"
    },
    {
     "data": {
      "text/html": [
       "<div>\n",
       "<style scoped>\n",
       "    .dataframe tbody tr th:only-of-type {\n",
       "        vertical-align: middle;\n",
       "    }\n",
       "\n",
       "    .dataframe tbody tr th {\n",
       "        vertical-align: top;\n",
       "    }\n",
       "\n",
       "    .dataframe thead th {\n",
       "        text-align: right;\n",
       "    }\n",
       "</style>\n",
       "<table border=\"1\" class=\"dataframe\">\n",
       "  <thead>\n",
       "    <tr style=\"text-align: right;\">\n",
       "      <th></th>\n",
       "      <th>Date</th>\n",
       "      <th>Slot</th>\n",
       "      <th>Final Product</th>\n",
       "      <th>Quantity Produced</th>\n",
       "      <th>Crude Base Available</th>\n",
       "      <th>Crude A Available</th>\n",
       "      <th>Crude B Available</th>\n",
       "      <th>Crude C Available</th>\n",
       "      <th>Crude D Available</th>\n",
       "      <th>Crude E Available</th>\n",
       "      <th>...</th>\n",
       "      <th>Crude A Blended</th>\n",
       "      <th>Crude B Blended</th>\n",
       "      <th>Crude C Blended</th>\n",
       "      <th>Crude D Blended</th>\n",
       "      <th>Crude E Blended</th>\n",
       "      <th>Crude F Blended</th>\n",
       "      <th>Inventory Available</th>\n",
       "      <th>Ullage</th>\n",
       "      <th>Profit</th>\n",
       "      <th>Flag</th>\n",
       "    </tr>\n",
       "  </thead>\n",
       "  <tbody>\n",
       "    <tr>\n",
       "      <th>0</th>\n",
       "      <td>2024-10-01</td>\n",
       "      <td>1</td>\n",
       "      <td>F1</td>\n",
       "      <td>13.8</td>\n",
       "      <td>277.9</td>\n",
       "      <td>0.0</td>\n",
       "      <td>150.0</td>\n",
       "      <td>128.4</td>\n",
       "      <td>100.0</td>\n",
       "      <td>0.0</td>\n",
       "      <td>...</td>\n",
       "      <td>0.0</td>\n",
       "      <td>0.0</td>\n",
       "      <td>0.0</td>\n",
       "      <td>0.0</td>\n",
       "      <td>0.0</td>\n",
       "      <td>0.0</td>\n",
       "      <td>956.3</td>\n",
       "      <td>223.7</td>\n",
       "      <td>2.186419e+05</td>\n",
       "      <td>Margin_Optimization</td>\n",
       "    </tr>\n",
       "    <tr>\n",
       "      <th>1</th>\n",
       "      <td>2024-10-01</td>\n",
       "      <td>2</td>\n",
       "      <td>F5</td>\n",
       "      <td>79.9</td>\n",
       "      <td>277.9</td>\n",
       "      <td>0.0</td>\n",
       "      <td>150.0</td>\n",
       "      <td>128.4</td>\n",
       "      <td>100.0</td>\n",
       "      <td>0.0</td>\n",
       "      <td>...</td>\n",
       "      <td>0.0</td>\n",
       "      <td>0.0</td>\n",
       "      <td>21.6</td>\n",
       "      <td>0.0</td>\n",
       "      <td>0.0</td>\n",
       "      <td>0.0</td>\n",
       "      <td>956.3</td>\n",
       "      <td>223.7</td>\n",
       "      <td>1.340169e+06</td>\n",
       "      <td>Margin_Optimization</td>\n",
       "    </tr>\n",
       "    <tr>\n",
       "      <th>2</th>\n",
       "      <td>2024-10-02</td>\n",
       "      <td>1</td>\n",
       "      <td>F5</td>\n",
       "      <td>95.0</td>\n",
       "      <td>208.5</td>\n",
       "      <td>0.0</td>\n",
       "      <td>150.0</td>\n",
       "      <td>102.8</td>\n",
       "      <td>100.0</td>\n",
       "      <td>0.0</td>\n",
       "      <td>...</td>\n",
       "      <td>0.0</td>\n",
       "      <td>0.0</td>\n",
       "      <td>25.6</td>\n",
       "      <td>0.0</td>\n",
       "      <td>0.0</td>\n",
       "      <td>0.0</td>\n",
       "      <td>861.3</td>\n",
       "      <td>318.7</td>\n",
       "      <td>1.592704e+06</td>\n",
       "      <td>Margin_Optimization</td>\n",
       "    </tr>\n",
       "    <tr>\n",
       "      <th>3</th>\n",
       "      <td>2024-10-03</td>\n",
       "      <td>1</td>\n",
       "      <td>F5</td>\n",
       "      <td>15.6</td>\n",
       "      <td>197.1</td>\n",
       "      <td>0.0</td>\n",
       "      <td>150.0</td>\n",
       "      <td>98.5</td>\n",
       "      <td>100.0</td>\n",
       "      <td>0.0</td>\n",
       "      <td>...</td>\n",
       "      <td>0.0</td>\n",
       "      <td>0.0</td>\n",
       "      <td>4.2</td>\n",
       "      <td>0.0</td>\n",
       "      <td>0.0</td>\n",
       "      <td>0.0</td>\n",
       "      <td>845.6</td>\n",
       "      <td>334.4</td>\n",
       "      <td>2.618481e+05</td>\n",
       "      <td>Margin_Optimization</td>\n",
       "    </tr>\n",
       "    <tr>\n",
       "      <th>4</th>\n",
       "      <td>2024-10-04</td>\n",
       "      <td>1</td>\n",
       "      <td>F5</td>\n",
       "      <td>95.0</td>\n",
       "      <td>127.7</td>\n",
       "      <td>0.0</td>\n",
       "      <td>150.0</td>\n",
       "      <td>72.9</td>\n",
       "      <td>100.0</td>\n",
       "      <td>0.0</td>\n",
       "      <td>...</td>\n",
       "      <td>0.0</td>\n",
       "      <td>0.0</td>\n",
       "      <td>25.6</td>\n",
       "      <td>0.0</td>\n",
       "      <td>0.0</td>\n",
       "      <td>0.0</td>\n",
       "      <td>750.6</td>\n",
       "      <td>429.4</td>\n",
       "      <td>1.592704e+06</td>\n",
       "      <td>Margin_Optimization</td>\n",
       "    </tr>\n",
       "    <tr>\n",
       "      <th>5</th>\n",
       "      <td>2024-10-05</td>\n",
       "      <td>1</td>\n",
       "      <td>F5</td>\n",
       "      <td>95.0</td>\n",
       "      <td>58.4</td>\n",
       "      <td>0.0</td>\n",
       "      <td>150.0</td>\n",
       "      <td>47.2</td>\n",
       "      <td>100.0</td>\n",
       "      <td>0.0</td>\n",
       "      <td>...</td>\n",
       "      <td>0.0</td>\n",
       "      <td>0.0</td>\n",
       "      <td>25.6</td>\n",
       "      <td>0.0</td>\n",
       "      <td>0.0</td>\n",
       "      <td>0.0</td>\n",
       "      <td>655.6</td>\n",
       "      <td>524.4</td>\n",
       "      <td>1.592704e+06</td>\n",
       "      <td>Margin_Optimization</td>\n",
       "    </tr>\n",
       "    <tr>\n",
       "      <th>6</th>\n",
       "      <td>2024-10-06</td>\n",
       "      <td>1</td>\n",
       "      <td>F5</td>\n",
       "      <td>80.0</td>\n",
       "      <td>0.0</td>\n",
       "      <td>0.0</td>\n",
       "      <td>150.0</td>\n",
       "      <td>25.6</td>\n",
       "      <td>100.0</td>\n",
       "      <td>0.0</td>\n",
       "      <td>...</td>\n",
       "      <td>0.0</td>\n",
       "      <td>0.0</td>\n",
       "      <td>21.6</td>\n",
       "      <td>0.0</td>\n",
       "      <td>0.0</td>\n",
       "      <td>0.0</td>\n",
       "      <td>560.6</td>\n",
       "      <td>619.4</td>\n",
       "      <td>1.341224e+06</td>\n",
       "      <td>Margin_Optimization</td>\n",
       "    </tr>\n",
       "    <tr>\n",
       "      <th>7</th>\n",
       "      <td>2024-10-06</td>\n",
       "      <td>2</td>\n",
       "      <td>F7</td>\n",
       "      <td>15.0</td>\n",
       "      <td>0.0</td>\n",
       "      <td>0.0</td>\n",
       "      <td>150.0</td>\n",
       "      <td>25.6</td>\n",
       "      <td>100.0</td>\n",
       "      <td>0.0</td>\n",
       "      <td>...</td>\n",
       "      <td>0.0</td>\n",
       "      <td>0.0</td>\n",
       "      <td>0.0</td>\n",
       "      <td>0.0</td>\n",
       "      <td>0.0</td>\n",
       "      <td>15.0</td>\n",
       "      <td>560.6</td>\n",
       "      <td>619.4</td>\n",
       "      <td>1.495500e+05</td>\n",
       "      <td>Margin_Optimization</td>\n",
       "    </tr>\n",
       "    <tr>\n",
       "      <th>8</th>\n",
       "      <td>2024-10-07</td>\n",
       "      <td>1</td>\n",
       "      <td>F7</td>\n",
       "      <td>95.0</td>\n",
       "      <td>0.0</td>\n",
       "      <td>0.0</td>\n",
       "      <td>150.0</td>\n",
       "      <td>25.6</td>\n",
       "      <td>100.0</td>\n",
       "      <td>0.0</td>\n",
       "      <td>...</td>\n",
       "      <td>0.0</td>\n",
       "      <td>0.0</td>\n",
       "      <td>0.0</td>\n",
       "      <td>0.0</td>\n",
       "      <td>0.0</td>\n",
       "      <td>95.0</td>\n",
       "      <td>465.6</td>\n",
       "      <td>714.4</td>\n",
       "      <td>9.471500e+05</td>\n",
       "      <td>Margin_Optimization</td>\n",
       "    </tr>\n",
       "    <tr>\n",
       "      <th>9</th>\n",
       "      <td>2024-10-08</td>\n",
       "      <td>1</td>\n",
       "      <td>F7</td>\n",
       "      <td>95.0</td>\n",
       "      <td>0.0</td>\n",
       "      <td>0.0</td>\n",
       "      <td>150.0</td>\n",
       "      <td>25.6</td>\n",
       "      <td>100.0</td>\n",
       "      <td>0.0</td>\n",
       "      <td>...</td>\n",
       "      <td>0.0</td>\n",
       "      <td>0.0</td>\n",
       "      <td>0.0</td>\n",
       "      <td>0.0</td>\n",
       "      <td>0.0</td>\n",
       "      <td>95.0</td>\n",
       "      <td>370.6</td>\n",
       "      <td>809.4</td>\n",
       "      <td>9.471500e+05</td>\n",
       "      <td>Margin_Optimization</td>\n",
       "    </tr>\n",
       "    <tr>\n",
       "      <th>10</th>\n",
       "      <td>2024-10-09</td>\n",
       "      <td>1</td>\n",
       "      <td>F7</td>\n",
       "      <td>95.0</td>\n",
       "      <td>-0.0</td>\n",
       "      <td>-0.0</td>\n",
       "      <td>150.0</td>\n",
       "      <td>25.6</td>\n",
       "      <td>100.0</td>\n",
       "      <td>0.0</td>\n",
       "      <td>...</td>\n",
       "      <td>0.0</td>\n",
       "      <td>0.0</td>\n",
       "      <td>0.0</td>\n",
       "      <td>0.0</td>\n",
       "      <td>0.0</td>\n",
       "      <td>95.0</td>\n",
       "      <td>275.6</td>\n",
       "      <td>354.4</td>\n",
       "      <td>9.471500e+05</td>\n",
       "      <td>Margin_Optimization</td>\n",
       "    </tr>\n",
       "    <tr>\n",
       "      <th>11</th>\n",
       "      <td>2024-10-10</td>\n",
       "      <td>1</td>\n",
       "      <td>F4</td>\n",
       "      <td>96.0</td>\n",
       "      <td>0.0</td>\n",
       "      <td>0.0</td>\n",
       "      <td>92.4</td>\n",
       "      <td>25.6</td>\n",
       "      <td>61.6</td>\n",
       "      <td>0.0</td>\n",
       "      <td>...</td>\n",
       "      <td>0.0</td>\n",
       "      <td>57.6</td>\n",
       "      <td>0.0</td>\n",
       "      <td>38.4</td>\n",
       "      <td>0.0</td>\n",
       "      <td>0.0</td>\n",
       "      <td>179.7</td>\n",
       "      <td>450.4</td>\n",
       "      <td>1.334592e+06</td>\n",
       "      <td>Margin_Optimization</td>\n",
       "    </tr>\n",
       "    <tr>\n",
       "      <th>12</th>\n",
       "      <td>2024-10-11</td>\n",
       "      <td>1</td>\n",
       "      <td>F4</td>\n",
       "      <td>96.0</td>\n",
       "      <td>0.0</td>\n",
       "      <td>0.0</td>\n",
       "      <td>34.8</td>\n",
       "      <td>25.6</td>\n",
       "      <td>23.2</td>\n",
       "      <td>0.0</td>\n",
       "      <td>...</td>\n",
       "      <td>0.0</td>\n",
       "      <td>57.6</td>\n",
       "      <td>0.0</td>\n",
       "      <td>38.4</td>\n",
       "      <td>0.0</td>\n",
       "      <td>0.0</td>\n",
       "      <td>83.7</td>\n",
       "      <td>546.4</td>\n",
       "      <td>1.334592e+06</td>\n",
       "      <td>Margin_Optimization</td>\n",
       "    </tr>\n",
       "    <tr>\n",
       "      <th>13</th>\n",
       "      <td>2024-10-12</td>\n",
       "      <td>1</td>\n",
       "      <td>F2</td>\n",
       "      <td>96.0</td>\n",
       "      <td>329.9</td>\n",
       "      <td>124.1</td>\n",
       "      <td>34.8</td>\n",
       "      <td>25.6</td>\n",
       "      <td>23.2</td>\n",
       "      <td>0.0</td>\n",
       "      <td>...</td>\n",
       "      <td>25.9</td>\n",
       "      <td>0.0</td>\n",
       "      <td>0.0</td>\n",
       "      <td>0.0</td>\n",
       "      <td>0.0</td>\n",
       "      <td>0.0</td>\n",
       "      <td>537.6</td>\n",
       "      <td>642.4</td>\n",
       "      <td>1.589510e+06</td>\n",
       "      <td>Margin_Optimization</td>\n",
       "    </tr>\n",
       "    <tr>\n",
       "      <th>14</th>\n",
       "      <td>2024-10-13</td>\n",
       "      <td>1</td>\n",
       "      <td>F2</td>\n",
       "      <td>96.0</td>\n",
       "      <td>259.8</td>\n",
       "      <td>98.2</td>\n",
       "      <td>34.8</td>\n",
       "      <td>25.6</td>\n",
       "      <td>23.2</td>\n",
       "      <td>0.0</td>\n",
       "      <td>...</td>\n",
       "      <td>25.9</td>\n",
       "      <td>0.0</td>\n",
       "      <td>0.0</td>\n",
       "      <td>0.0</td>\n",
       "      <td>0.0</td>\n",
       "      <td>0.0</td>\n",
       "      <td>441.7</td>\n",
       "      <td>168.3</td>\n",
       "      <td>1.589510e+06</td>\n",
       "      <td>Margin_Optimization</td>\n",
       "    </tr>\n",
       "    <tr>\n",
       "      <th>15</th>\n",
       "      <td>2024-10-14</td>\n",
       "      <td>1</td>\n",
       "      <td>F2</td>\n",
       "      <td>96.0</td>\n",
       "      <td>189.8</td>\n",
       "      <td>72.2</td>\n",
       "      <td>34.8</td>\n",
       "      <td>25.6</td>\n",
       "      <td>23.2</td>\n",
       "      <td>0.0</td>\n",
       "      <td>...</td>\n",
       "      <td>25.9</td>\n",
       "      <td>0.0</td>\n",
       "      <td>0.0</td>\n",
       "      <td>0.0</td>\n",
       "      <td>0.0</td>\n",
       "      <td>0.0</td>\n",
       "      <td>345.7</td>\n",
       "      <td>264.4</td>\n",
       "      <td>1.589510e+06</td>\n",
       "      <td>Margin_Optimization</td>\n",
       "    </tr>\n",
       "    <tr>\n",
       "      <th>16</th>\n",
       "      <td>2024-10-15</td>\n",
       "      <td>1</td>\n",
       "      <td>F2</td>\n",
       "      <td>96.0</td>\n",
       "      <td>119.7</td>\n",
       "      <td>46.3</td>\n",
       "      <td>34.8</td>\n",
       "      <td>25.6</td>\n",
       "      <td>23.2</td>\n",
       "      <td>0.0</td>\n",
       "      <td>...</td>\n",
       "      <td>25.9</td>\n",
       "      <td>0.0</td>\n",
       "      <td>0.0</td>\n",
       "      <td>0.0</td>\n",
       "      <td>0.0</td>\n",
       "      <td>0.0</td>\n",
       "      <td>249.7</td>\n",
       "      <td>360.4</td>\n",
       "      <td>1.589510e+06</td>\n",
       "      <td>Margin_Optimization</td>\n",
       "    </tr>\n",
       "    <tr>\n",
       "      <th>17</th>\n",
       "      <td>2024-10-16</td>\n",
       "      <td>1</td>\n",
       "      <td>F2</td>\n",
       "      <td>96.0</td>\n",
       "      <td>49.6</td>\n",
       "      <td>20.4</td>\n",
       "      <td>34.8</td>\n",
       "      <td>25.6</td>\n",
       "      <td>23.2</td>\n",
       "      <td>250.0</td>\n",
       "      <td>...</td>\n",
       "      <td>25.9</td>\n",
       "      <td>0.0</td>\n",
       "      <td>0.0</td>\n",
       "      <td>0.0</td>\n",
       "      <td>0.0</td>\n",
       "      <td>0.0</td>\n",
       "      <td>723.7</td>\n",
       "      <td>456.3</td>\n",
       "      <td>1.589510e+06</td>\n",
       "      <td>Margin_Optimization</td>\n",
       "    </tr>\n",
       "    <tr>\n",
       "      <th>18</th>\n",
       "      <td>2024-10-17</td>\n",
       "      <td>1</td>\n",
       "      <td>F7</td>\n",
       "      <td>93.7</td>\n",
       "      <td>49.6</td>\n",
       "      <td>20.4</td>\n",
       "      <td>34.8</td>\n",
       "      <td>25.6</td>\n",
       "      <td>23.2</td>\n",
       "      <td>250.0</td>\n",
       "      <td>...</td>\n",
       "      <td>0.0</td>\n",
       "      <td>0.0</td>\n",
       "      <td>0.0</td>\n",
       "      <td>0.0</td>\n",
       "      <td>0.0</td>\n",
       "      <td>93.7</td>\n",
       "      <td>630.0</td>\n",
       "      <td>0.0</td>\n",
       "      <td>9.336905e+05</td>\n",
       "      <td>Margin_Optimization</td>\n",
       "    </tr>\n",
       "    <tr>\n",
       "      <th>19</th>\n",
       "      <td>2024-10-18</td>\n",
       "      <td>1</td>\n",
       "      <td>F7</td>\n",
       "      <td>95.0</td>\n",
       "      <td>49.6</td>\n",
       "      <td>20.4</td>\n",
       "      <td>34.8</td>\n",
       "      <td>25.6</td>\n",
       "      <td>23.2</td>\n",
       "      <td>250.0</td>\n",
       "      <td>...</td>\n",
       "      <td>0.0</td>\n",
       "      <td>0.0</td>\n",
       "      <td>0.0</td>\n",
       "      <td>0.0</td>\n",
       "      <td>0.0</td>\n",
       "      <td>95.0</td>\n",
       "      <td>535.0</td>\n",
       "      <td>95.0</td>\n",
       "      <td>9.471500e+05</td>\n",
       "      <td>Margin_Optimization</td>\n",
       "    </tr>\n",
       "    <tr>\n",
       "      <th>20</th>\n",
       "      <td>2024-10-19</td>\n",
       "      <td>1</td>\n",
       "      <td>F7</td>\n",
       "      <td>36.4</td>\n",
       "      <td>49.6</td>\n",
       "      <td>20.4</td>\n",
       "      <td>34.8</td>\n",
       "      <td>25.6</td>\n",
       "      <td>23.2</td>\n",
       "      <td>250.0</td>\n",
       "      <td>...</td>\n",
       "      <td>0.0</td>\n",
       "      <td>0.0</td>\n",
       "      <td>0.0</td>\n",
       "      <td>0.0</td>\n",
       "      <td>0.0</td>\n",
       "      <td>36.4</td>\n",
       "      <td>498.7</td>\n",
       "      <td>131.4</td>\n",
       "      <td>3.624095e+05</td>\n",
       "      <td>Margin_Optimization</td>\n",
       "    </tr>\n",
       "    <tr>\n",
       "      <th>21</th>\n",
       "      <td>2024-10-20</td>\n",
       "      <td>1</td>\n",
       "      <td>F7</td>\n",
       "      <td>95.0</td>\n",
       "      <td>49.6</td>\n",
       "      <td>20.4</td>\n",
       "      <td>34.8</td>\n",
       "      <td>25.6</td>\n",
       "      <td>23.2</td>\n",
       "      <td>800.0</td>\n",
       "      <td>...</td>\n",
       "      <td>0.0</td>\n",
       "      <td>0.0</td>\n",
       "      <td>0.0</td>\n",
       "      <td>0.0</td>\n",
       "      <td>0.0</td>\n",
       "      <td>95.0</td>\n",
       "      <td>953.7</td>\n",
       "      <td>226.4</td>\n",
       "      <td>9.471500e+05</td>\n",
       "      <td>Margin_Optimization</td>\n",
       "    </tr>\n",
       "    <tr>\n",
       "      <th>22</th>\n",
       "      <td>2024-10-21</td>\n",
       "      <td>1</td>\n",
       "      <td>F6</td>\n",
       "      <td>95.0</td>\n",
       "      <td>49.6</td>\n",
       "      <td>20.4</td>\n",
       "      <td>34.8</td>\n",
       "      <td>25.6</td>\n",
       "      <td>23.2</td>\n",
       "      <td>705.0</td>\n",
       "      <td>...</td>\n",
       "      <td>0.0</td>\n",
       "      <td>0.0</td>\n",
       "      <td>0.0</td>\n",
       "      <td>0.0</td>\n",
       "      <td>95.0</td>\n",
       "      <td>0.0</td>\n",
       "      <td>858.7</td>\n",
       "      <td>321.4</td>\n",
       "      <td>9.481000e+05</td>\n",
       "      <td>Margin_Optimization</td>\n",
       "    </tr>\n",
       "    <tr>\n",
       "      <th>23</th>\n",
       "      <td>2024-10-22</td>\n",
       "      <td>1</td>\n",
       "      <td>F6</td>\n",
       "      <td>95.0</td>\n",
       "      <td>49.6</td>\n",
       "      <td>20.4</td>\n",
       "      <td>34.8</td>\n",
       "      <td>25.6</td>\n",
       "      <td>23.2</td>\n",
       "      <td>610.0</td>\n",
       "      <td>...</td>\n",
       "      <td>0.0</td>\n",
       "      <td>0.0</td>\n",
       "      <td>0.0</td>\n",
       "      <td>0.0</td>\n",
       "      <td>95.0</td>\n",
       "      <td>0.0</td>\n",
       "      <td>763.7</td>\n",
       "      <td>416.4</td>\n",
       "      <td>9.481000e+05</td>\n",
       "      <td>Margin_Optimization</td>\n",
       "    </tr>\n",
       "    <tr>\n",
       "      <th>24</th>\n",
       "      <td>2024-10-23</td>\n",
       "      <td>1</td>\n",
       "      <td>F6</td>\n",
       "      <td>95.0</td>\n",
       "      <td>49.6</td>\n",
       "      <td>20.4</td>\n",
       "      <td>34.8</td>\n",
       "      <td>25.6</td>\n",
       "      <td>23.2</td>\n",
       "      <td>515.0</td>\n",
       "      <td>...</td>\n",
       "      <td>0.0</td>\n",
       "      <td>0.0</td>\n",
       "      <td>0.0</td>\n",
       "      <td>0.0</td>\n",
       "      <td>95.0</td>\n",
       "      <td>0.0</td>\n",
       "      <td>668.7</td>\n",
       "      <td>511.4</td>\n",
       "      <td>9.481000e+05</td>\n",
       "      <td>Margin_Optimization</td>\n",
       "    </tr>\n",
       "    <tr>\n",
       "      <th>25</th>\n",
       "      <td>2024-10-24</td>\n",
       "      <td>1</td>\n",
       "      <td>F6</td>\n",
       "      <td>95.0</td>\n",
       "      <td>49.6</td>\n",
       "      <td>20.4</td>\n",
       "      <td>34.8</td>\n",
       "      <td>25.6</td>\n",
       "      <td>23.2</td>\n",
       "      <td>420.0</td>\n",
       "      <td>...</td>\n",
       "      <td>0.0</td>\n",
       "      <td>0.0</td>\n",
       "      <td>0.0</td>\n",
       "      <td>0.0</td>\n",
       "      <td>95.0</td>\n",
       "      <td>0.0</td>\n",
       "      <td>573.7</td>\n",
       "      <td>246.4</td>\n",
       "      <td>9.481000e+05</td>\n",
       "      <td>Margin_Optimization</td>\n",
       "    </tr>\n",
       "    <tr>\n",
       "      <th>26</th>\n",
       "      <td>2024-10-25</td>\n",
       "      <td>1</td>\n",
       "      <td>F6</td>\n",
       "      <td>95.0</td>\n",
       "      <td>49.6</td>\n",
       "      <td>20.4</td>\n",
       "      <td>34.8</td>\n",
       "      <td>25.6</td>\n",
       "      <td>23.2</td>\n",
       "      <td>325.0</td>\n",
       "      <td>...</td>\n",
       "      <td>0.0</td>\n",
       "      <td>0.0</td>\n",
       "      <td>0.0</td>\n",
       "      <td>0.0</td>\n",
       "      <td>95.0</td>\n",
       "      <td>0.0</td>\n",
       "      <td>478.7</td>\n",
       "      <td>341.4</td>\n",
       "      <td>9.481000e+05</td>\n",
       "      <td>Margin_Optimization</td>\n",
       "    </tr>\n",
       "    <tr>\n",
       "      <th>27</th>\n",
       "      <td>2024-10-26</td>\n",
       "      <td>1</td>\n",
       "      <td>F6</td>\n",
       "      <td>95.0</td>\n",
       "      <td>49.6</td>\n",
       "      <td>20.4</td>\n",
       "      <td>34.8</td>\n",
       "      <td>25.6</td>\n",
       "      <td>23.2</td>\n",
       "      <td>230.0</td>\n",
       "      <td>...</td>\n",
       "      <td>0.0</td>\n",
       "      <td>0.0</td>\n",
       "      <td>0.0</td>\n",
       "      <td>0.0</td>\n",
       "      <td>95.0</td>\n",
       "      <td>0.0</td>\n",
       "      <td>383.7</td>\n",
       "      <td>436.4</td>\n",
       "      <td>9.481000e+05</td>\n",
       "      <td>Margin_Optimization</td>\n",
       "    </tr>\n",
       "    <tr>\n",
       "      <th>28</th>\n",
       "      <td>2024-10-27</td>\n",
       "      <td>1</td>\n",
       "      <td>F6</td>\n",
       "      <td>95.0</td>\n",
       "      <td>409.6</td>\n",
       "      <td>20.4</td>\n",
       "      <td>34.8</td>\n",
       "      <td>25.6</td>\n",
       "      <td>23.2</td>\n",
       "      <td>135.0</td>\n",
       "      <td>...</td>\n",
       "      <td>0.0</td>\n",
       "      <td>0.0</td>\n",
       "      <td>0.0</td>\n",
       "      <td>0.0</td>\n",
       "      <td>95.0</td>\n",
       "      <td>0.0</td>\n",
       "      <td>648.7</td>\n",
       "      <td>531.4</td>\n",
       "      <td>9.481000e+05</td>\n",
       "      <td>Margin_Optimization</td>\n",
       "    </tr>\n",
       "    <tr>\n",
       "      <th>29</th>\n",
       "      <td>2024-10-28</td>\n",
       "      <td>1</td>\n",
       "      <td>F2</td>\n",
       "      <td>0.0</td>\n",
       "      <td>409.6</td>\n",
       "      <td>20.4</td>\n",
       "      <td>34.8</td>\n",
       "      <td>25.6</td>\n",
       "      <td>23.2</td>\n",
       "      <td>135.0</td>\n",
       "      <td>...</td>\n",
       "      <td>0.0</td>\n",
       "      <td>0.0</td>\n",
       "      <td>0.0</td>\n",
       "      <td>0.0</td>\n",
       "      <td>0.0</td>\n",
       "      <td>0.0</td>\n",
       "      <td>648.7</td>\n",
       "      <td>531.4</td>\n",
       "      <td>0.000000e+00</td>\n",
       "      <td>Margin_Optimization</td>\n",
       "    </tr>\n",
       "    <tr>\n",
       "      <th>30</th>\n",
       "      <td>2024-10-28</td>\n",
       "      <td>2</td>\n",
       "      <td>F2</td>\n",
       "      <td>0.0</td>\n",
       "      <td>409.6</td>\n",
       "      <td>20.4</td>\n",
       "      <td>34.8</td>\n",
       "      <td>25.6</td>\n",
       "      <td>23.2</td>\n",
       "      <td>135.0</td>\n",
       "      <td>...</td>\n",
       "      <td>0.0</td>\n",
       "      <td>0.0</td>\n",
       "      <td>0.0</td>\n",
       "      <td>0.0</td>\n",
       "      <td>0.0</td>\n",
       "      <td>0.0</td>\n",
       "      <td>648.7</td>\n",
       "      <td>531.4</td>\n",
       "      <td>0.000000e+00</td>\n",
       "      <td>Margin_Optimization</td>\n",
       "    </tr>\n",
       "    <tr>\n",
       "      <th>31</th>\n",
       "      <td>2024-10-29</td>\n",
       "      <td>1</td>\n",
       "      <td>F2</td>\n",
       "      <td>0.0</td>\n",
       "      <td>409.6</td>\n",
       "      <td>20.4</td>\n",
       "      <td>34.8</td>\n",
       "      <td>25.6</td>\n",
       "      <td>23.2</td>\n",
       "      <td>135.0</td>\n",
       "      <td>...</td>\n",
       "      <td>0.0</td>\n",
       "      <td>0.0</td>\n",
       "      <td>0.0</td>\n",
       "      <td>0.0</td>\n",
       "      <td>0.0</td>\n",
       "      <td>0.0</td>\n",
       "      <td>648.7</td>\n",
       "      <td>331.4</td>\n",
       "      <td>0.000000e+00</td>\n",
       "      <td>Margin_Optimization</td>\n",
       "    </tr>\n",
       "    <tr>\n",
       "      <th>32</th>\n",
       "      <td>2024-10-29</td>\n",
       "      <td>2</td>\n",
       "      <td>F2</td>\n",
       "      <td>0.0</td>\n",
       "      <td>409.6</td>\n",
       "      <td>20.4</td>\n",
       "      <td>34.8</td>\n",
       "      <td>25.6</td>\n",
       "      <td>23.2</td>\n",
       "      <td>135.0</td>\n",
       "      <td>...</td>\n",
       "      <td>0.0</td>\n",
       "      <td>0.0</td>\n",
       "      <td>0.0</td>\n",
       "      <td>0.0</td>\n",
       "      <td>0.0</td>\n",
       "      <td>0.0</td>\n",
       "      <td>648.7</td>\n",
       "      <td>331.4</td>\n",
       "      <td>0.000000e+00</td>\n",
       "      <td>Margin_Optimization</td>\n",
       "    </tr>\n",
       "    <tr>\n",
       "      <th>33</th>\n",
       "      <td>2024-10-30</td>\n",
       "      <td>1</td>\n",
       "      <td>F2</td>\n",
       "      <td>75.6</td>\n",
       "      <td>354.4</td>\n",
       "      <td>0.0</td>\n",
       "      <td>34.8</td>\n",
       "      <td>25.6</td>\n",
       "      <td>23.2</td>\n",
       "      <td>135.0</td>\n",
       "      <td>...</td>\n",
       "      <td>20.4</td>\n",
       "      <td>0.0</td>\n",
       "      <td>0.0</td>\n",
       "      <td>0.0</td>\n",
       "      <td>0.0</td>\n",
       "      <td>0.0</td>\n",
       "      <td>573.1</td>\n",
       "      <td>406.9</td>\n",
       "      <td>1.251004e+06</td>\n",
       "      <td>Margin_Optimization</td>\n",
       "    </tr>\n",
       "    <tr>\n",
       "      <th>34</th>\n",
       "      <td>2024-10-31</td>\n",
       "      <td>1</td>\n",
       "      <td>F5</td>\n",
       "      <td>95.0</td>\n",
       "      <td>285.1</td>\n",
       "      <td>0.0</td>\n",
       "      <td>34.8</td>\n",
       "      <td>0.0</td>\n",
       "      <td>23.2</td>\n",
       "      <td>135.0</td>\n",
       "      <td>...</td>\n",
       "      <td>0.0</td>\n",
       "      <td>0.0</td>\n",
       "      <td>25.6</td>\n",
       "      <td>0.0</td>\n",
       "      <td>0.0</td>\n",
       "      <td>0.0</td>\n",
       "      <td>478.1</td>\n",
       "      <td>501.9</td>\n",
       "      <td>1.592704e+06</td>\n",
       "      <td>Margin_Optimization</td>\n",
       "    </tr>\n",
       "    <tr>\n",
       "      <th>35</th>\n",
       "      <td>2024-11-01</td>\n",
       "      <td>1</td>\n",
       "      <td>F5</td>\n",
       "      <td>95.0</td>\n",
       "      <td>215.7</td>\n",
       "      <td>0.0</td>\n",
       "      <td>34.8</td>\n",
       "      <td>174.3</td>\n",
       "      <td>23.2</td>\n",
       "      <td>135.0</td>\n",
       "      <td>...</td>\n",
       "      <td>0.0</td>\n",
       "      <td>0.0</td>\n",
       "      <td>25.6</td>\n",
       "      <td>0.0</td>\n",
       "      <td>0.0</td>\n",
       "      <td>0.0</td>\n",
       "      <td>583.1</td>\n",
       "      <td>166.9</td>\n",
       "      <td>1.592704e+06</td>\n",
       "      <td>Margin_Optimization</td>\n",
       "    </tr>\n",
       "    <tr>\n",
       "      <th>36</th>\n",
       "      <td>2024-11-02</td>\n",
       "      <td>1</td>\n",
       "      <td>F5</td>\n",
       "      <td>95.0</td>\n",
       "      <td>146.4</td>\n",
       "      <td>-0.0</td>\n",
       "      <td>34.8</td>\n",
       "      <td>148.7</td>\n",
       "      <td>23.2</td>\n",
       "      <td>135.0</td>\n",
       "      <td>...</td>\n",
       "      <td>0.0</td>\n",
       "      <td>0.0</td>\n",
       "      <td>25.6</td>\n",
       "      <td>0.0</td>\n",
       "      <td>0.0</td>\n",
       "      <td>0.0</td>\n",
       "      <td>488.1</td>\n",
       "      <td>261.9</td>\n",
       "      <td>1.592704e+06</td>\n",
       "      <td>Margin_Optimization</td>\n",
       "    </tr>\n",
       "    <tr>\n",
       "      <th>37</th>\n",
       "      <td>2024-11-03</td>\n",
       "      <td>1</td>\n",
       "      <td>F4</td>\n",
       "      <td>58.0</td>\n",
       "      <td>146.4</td>\n",
       "      <td>0.0</td>\n",
       "      <td>-0.0</td>\n",
       "      <td>148.7</td>\n",
       "      <td>-0.0</td>\n",
       "      <td>135.0</td>\n",
       "      <td>...</td>\n",
       "      <td>0.0</td>\n",
       "      <td>34.8</td>\n",
       "      <td>0.0</td>\n",
       "      <td>23.2</td>\n",
       "      <td>0.0</td>\n",
       "      <td>0.0</td>\n",
       "      <td>430.1</td>\n",
       "      <td>319.9</td>\n",
       "      <td>8.063160e+05</td>\n",
       "      <td>Margin_Optimization</td>\n",
       "    </tr>\n",
       "    <tr>\n",
       "      <th>38</th>\n",
       "      <td>2024-11-04</td>\n",
       "      <td>1</td>\n",
       "      <td>F4</td>\n",
       "      <td>0.0</td>\n",
       "      <td>146.4</td>\n",
       "      <td>0.0</td>\n",
       "      <td>-0.0</td>\n",
       "      <td>148.7</td>\n",
       "      <td>150.0</td>\n",
       "      <td>135.0</td>\n",
       "      <td>...</td>\n",
       "      <td>0.0</td>\n",
       "      <td>0.0</td>\n",
       "      <td>0.0</td>\n",
       "      <td>0.0</td>\n",
       "      <td>0.0</td>\n",
       "      <td>0.0</td>\n",
       "      <td>860.1</td>\n",
       "      <td>319.9</td>\n",
       "      <td>0.000000e+00</td>\n",
       "      <td>Margin_Optimization</td>\n",
       "    </tr>\n",
       "    <tr>\n",
       "      <th>39</th>\n",
       "      <td>2024-11-04</td>\n",
       "      <td>2</td>\n",
       "      <td>F4</td>\n",
       "      <td>0.0</td>\n",
       "      <td>146.4</td>\n",
       "      <td>0.0</td>\n",
       "      <td>-0.0</td>\n",
       "      <td>148.7</td>\n",
       "      <td>150.0</td>\n",
       "      <td>135.0</td>\n",
       "      <td>...</td>\n",
       "      <td>0.0</td>\n",
       "      <td>0.0</td>\n",
       "      <td>0.0</td>\n",
       "      <td>0.0</td>\n",
       "      <td>0.0</td>\n",
       "      <td>0.0</td>\n",
       "      <td>860.1</td>\n",
       "      <td>319.9</td>\n",
       "      <td>0.000000e+00</td>\n",
       "      <td>Margin_Optimization</td>\n",
       "    </tr>\n",
       "    <tr>\n",
       "      <th>40</th>\n",
       "      <td>2024-11-05</td>\n",
       "      <td>1</td>\n",
       "      <td>F4</td>\n",
       "      <td>0.0</td>\n",
       "      <td>146.4</td>\n",
       "      <td>0.0</td>\n",
       "      <td>-0.0</td>\n",
       "      <td>148.7</td>\n",
       "      <td>150.0</td>\n",
       "      <td>135.0</td>\n",
       "      <td>...</td>\n",
       "      <td>0.0</td>\n",
       "      <td>0.0</td>\n",
       "      <td>0.0</td>\n",
       "      <td>0.0</td>\n",
       "      <td>0.0</td>\n",
       "      <td>0.0</td>\n",
       "      <td>860.1</td>\n",
       "      <td>319.9</td>\n",
       "      <td>0.000000e+00</td>\n",
       "      <td>Margin_Optimization</td>\n",
       "    </tr>\n",
       "    <tr>\n",
       "      <th>41</th>\n",
       "      <td>2024-11-05</td>\n",
       "      <td>2</td>\n",
       "      <td>F4</td>\n",
       "      <td>0.0</td>\n",
       "      <td>146.4</td>\n",
       "      <td>0.0</td>\n",
       "      <td>-0.0</td>\n",
       "      <td>148.7</td>\n",
       "      <td>150.0</td>\n",
       "      <td>135.0</td>\n",
       "      <td>...</td>\n",
       "      <td>0.0</td>\n",
       "      <td>0.0</td>\n",
       "      <td>0.0</td>\n",
       "      <td>0.0</td>\n",
       "      <td>0.0</td>\n",
       "      <td>0.0</td>\n",
       "      <td>860.1</td>\n",
       "      <td>319.9</td>\n",
       "      <td>0.000000e+00</td>\n",
       "      <td>Margin_Optimization</td>\n",
       "    </tr>\n",
       "    <tr>\n",
       "      <th>42</th>\n",
       "      <td>2024-11-06</td>\n",
       "      <td>1</td>\n",
       "      <td>F5</td>\n",
       "      <td>95.0</td>\n",
       "      <td>77.0</td>\n",
       "      <td>0.0</td>\n",
       "      <td>0.0</td>\n",
       "      <td>123.0</td>\n",
       "      <td>150.0</td>\n",
       "      <td>135.0</td>\n",
       "      <td>...</td>\n",
       "      <td>0.0</td>\n",
       "      <td>0.0</td>\n",
       "      <td>25.6</td>\n",
       "      <td>0.0</td>\n",
       "      <td>0.0</td>\n",
       "      <td>0.0</td>\n",
       "      <td>765.1</td>\n",
       "      <td>414.9</td>\n",
       "      <td>1.592704e+06</td>\n",
       "      <td>Margin_Optimization</td>\n",
       "    </tr>\n",
       "    <tr>\n",
       "      <th>43</th>\n",
       "      <td>2024-11-07</td>\n",
       "      <td>1</td>\n",
       "      <td>F7</td>\n",
       "      <td>95.0</td>\n",
       "      <td>77.0</td>\n",
       "      <td>0.0</td>\n",
       "      <td>-0.0</td>\n",
       "      <td>123.0</td>\n",
       "      <td>150.0</td>\n",
       "      <td>135.0</td>\n",
       "      <td>...</td>\n",
       "      <td>0.0</td>\n",
       "      <td>0.0</td>\n",
       "      <td>0.0</td>\n",
       "      <td>0.0</td>\n",
       "      <td>0.0</td>\n",
       "      <td>95.0</td>\n",
       "      <td>670.1</td>\n",
       "      <td>509.9</td>\n",
       "      <td>9.471500e+05</td>\n",
       "      <td>Margin_Optimization</td>\n",
       "    </tr>\n",
       "    <tr>\n",
       "      <th>44</th>\n",
       "      <td>2024-11-08</td>\n",
       "      <td>1</td>\n",
       "      <td>F7</td>\n",
       "      <td>90.0</td>\n",
       "      <td>77.0</td>\n",
       "      <td>0.0</td>\n",
       "      <td>0.0</td>\n",
       "      <td>123.0</td>\n",
       "      <td>150.0</td>\n",
       "      <td>135.0</td>\n",
       "      <td>...</td>\n",
       "      <td>0.0</td>\n",
       "      <td>0.0</td>\n",
       "      <td>0.0</td>\n",
       "      <td>0.0</td>\n",
       "      <td>0.0</td>\n",
       "      <td>90.0</td>\n",
       "      <td>580.1</td>\n",
       "      <td>599.9</td>\n",
       "      <td>8.973000e+05</td>\n",
       "      <td>Margin_Optimization</td>\n",
       "    </tr>\n",
       "    <tr>\n",
       "      <th>45</th>\n",
       "      <td>2024-11-09</td>\n",
       "      <td>1</td>\n",
       "      <td>F7</td>\n",
       "      <td>95.0</td>\n",
       "      <td>77.0</td>\n",
       "      <td>0.0</td>\n",
       "      <td>0.0</td>\n",
       "      <td>123.0</td>\n",
       "      <td>150.0</td>\n",
       "      <td>135.0</td>\n",
       "      <td>...</td>\n",
       "      <td>0.0</td>\n",
       "      <td>0.0</td>\n",
       "      <td>0.0</td>\n",
       "      <td>0.0</td>\n",
       "      <td>0.0</td>\n",
       "      <td>95.0</td>\n",
       "      <td>485.1</td>\n",
       "      <td>694.9</td>\n",
       "      <td>9.471500e+05</td>\n",
       "      <td>Margin_Optimization</td>\n",
       "    </tr>\n",
       "  </tbody>\n",
       "</table>\n",
       "<p>46 rows × 22 columns</p>\n",
       "</div>"
      ],
      "text/plain": [
       "          Date  Slot Final Product  Quantity Produced  Crude Base Available  \\\n",
       "0   2024-10-01     1            F1               13.8                 277.9   \n",
       "1   2024-10-01     2            F5               79.9                 277.9   \n",
       "2   2024-10-02     1            F5               95.0                 208.5   \n",
       "3   2024-10-03     1            F5               15.6                 197.1   \n",
       "4   2024-10-04     1            F5               95.0                 127.7   \n",
       "5   2024-10-05     1            F5               95.0                  58.4   \n",
       "6   2024-10-06     1            F5               80.0                   0.0   \n",
       "7   2024-10-06     2            F7               15.0                   0.0   \n",
       "8   2024-10-07     1            F7               95.0                   0.0   \n",
       "9   2024-10-08     1            F7               95.0                   0.0   \n",
       "10  2024-10-09     1            F7               95.0                  -0.0   \n",
       "11  2024-10-10     1            F4               96.0                   0.0   \n",
       "12  2024-10-11     1            F4               96.0                   0.0   \n",
       "13  2024-10-12     1            F2               96.0                 329.9   \n",
       "14  2024-10-13     1            F2               96.0                 259.8   \n",
       "15  2024-10-14     1            F2               96.0                 189.8   \n",
       "16  2024-10-15     1            F2               96.0                 119.7   \n",
       "17  2024-10-16     1            F2               96.0                  49.6   \n",
       "18  2024-10-17     1            F7               93.7                  49.6   \n",
       "19  2024-10-18     1            F7               95.0                  49.6   \n",
       "20  2024-10-19     1            F7               36.4                  49.6   \n",
       "21  2024-10-20     1            F7               95.0                  49.6   \n",
       "22  2024-10-21     1            F6               95.0                  49.6   \n",
       "23  2024-10-22     1            F6               95.0                  49.6   \n",
       "24  2024-10-23     1            F6               95.0                  49.6   \n",
       "25  2024-10-24     1            F6               95.0                  49.6   \n",
       "26  2024-10-25     1            F6               95.0                  49.6   \n",
       "27  2024-10-26     1            F6               95.0                  49.6   \n",
       "28  2024-10-27     1            F6               95.0                 409.6   \n",
       "29  2024-10-28     1            F2                0.0                 409.6   \n",
       "30  2024-10-28     2            F2                0.0                 409.6   \n",
       "31  2024-10-29     1            F2                0.0                 409.6   \n",
       "32  2024-10-29     2            F2                0.0                 409.6   \n",
       "33  2024-10-30     1            F2               75.6                 354.4   \n",
       "34  2024-10-31     1            F5               95.0                 285.1   \n",
       "35  2024-11-01     1            F5               95.0                 215.7   \n",
       "36  2024-11-02     1            F5               95.0                 146.4   \n",
       "37  2024-11-03     1            F4               58.0                 146.4   \n",
       "38  2024-11-04     1            F4                0.0                 146.4   \n",
       "39  2024-11-04     2            F4                0.0                 146.4   \n",
       "40  2024-11-05     1            F4                0.0                 146.4   \n",
       "41  2024-11-05     2            F4                0.0                 146.4   \n",
       "42  2024-11-06     1            F5               95.0                  77.0   \n",
       "43  2024-11-07     1            F7               95.0                  77.0   \n",
       "44  2024-11-08     1            F7               90.0                  77.0   \n",
       "45  2024-11-09     1            F7               95.0                  77.0   \n",
       "\n",
       "    Crude A Available  Crude B Available  Crude C Available  \\\n",
       "0                 0.0              150.0              128.4   \n",
       "1                 0.0              150.0              128.4   \n",
       "2                 0.0              150.0              102.8   \n",
       "3                 0.0              150.0               98.5   \n",
       "4                 0.0              150.0               72.9   \n",
       "5                 0.0              150.0               47.2   \n",
       "6                 0.0              150.0               25.6   \n",
       "7                 0.0              150.0               25.6   \n",
       "8                 0.0              150.0               25.6   \n",
       "9                 0.0              150.0               25.6   \n",
       "10               -0.0              150.0               25.6   \n",
       "11                0.0               92.4               25.6   \n",
       "12                0.0               34.8               25.6   \n",
       "13              124.1               34.8               25.6   \n",
       "14               98.2               34.8               25.6   \n",
       "15               72.2               34.8               25.6   \n",
       "16               46.3               34.8               25.6   \n",
       "17               20.4               34.8               25.6   \n",
       "18               20.4               34.8               25.6   \n",
       "19               20.4               34.8               25.6   \n",
       "20               20.4               34.8               25.6   \n",
       "21               20.4               34.8               25.6   \n",
       "22               20.4               34.8               25.6   \n",
       "23               20.4               34.8               25.6   \n",
       "24               20.4               34.8               25.6   \n",
       "25               20.4               34.8               25.6   \n",
       "26               20.4               34.8               25.6   \n",
       "27               20.4               34.8               25.6   \n",
       "28               20.4               34.8               25.6   \n",
       "29               20.4               34.8               25.6   \n",
       "30               20.4               34.8               25.6   \n",
       "31               20.4               34.8               25.6   \n",
       "32               20.4               34.8               25.6   \n",
       "33                0.0               34.8               25.6   \n",
       "34                0.0               34.8                0.0   \n",
       "35                0.0               34.8              174.3   \n",
       "36               -0.0               34.8              148.7   \n",
       "37                0.0               -0.0              148.7   \n",
       "38                0.0               -0.0              148.7   \n",
       "39                0.0               -0.0              148.7   \n",
       "40                0.0               -0.0              148.7   \n",
       "41                0.0               -0.0              148.7   \n",
       "42                0.0                0.0              123.0   \n",
       "43                0.0               -0.0              123.0   \n",
       "44                0.0                0.0              123.0   \n",
       "45                0.0                0.0              123.0   \n",
       "\n",
       "    Crude D Available  Crude E Available  ...  Crude A Blended  \\\n",
       "0               100.0                0.0  ...              0.0   \n",
       "1               100.0                0.0  ...              0.0   \n",
       "2               100.0                0.0  ...              0.0   \n",
       "3               100.0                0.0  ...              0.0   \n",
       "4               100.0                0.0  ...              0.0   \n",
       "5               100.0                0.0  ...              0.0   \n",
       "6               100.0                0.0  ...              0.0   \n",
       "7               100.0                0.0  ...              0.0   \n",
       "8               100.0                0.0  ...              0.0   \n",
       "9               100.0                0.0  ...              0.0   \n",
       "10              100.0                0.0  ...              0.0   \n",
       "11               61.6                0.0  ...              0.0   \n",
       "12               23.2                0.0  ...              0.0   \n",
       "13               23.2                0.0  ...             25.9   \n",
       "14               23.2                0.0  ...             25.9   \n",
       "15               23.2                0.0  ...             25.9   \n",
       "16               23.2                0.0  ...             25.9   \n",
       "17               23.2              250.0  ...             25.9   \n",
       "18               23.2              250.0  ...              0.0   \n",
       "19               23.2              250.0  ...              0.0   \n",
       "20               23.2              250.0  ...              0.0   \n",
       "21               23.2              800.0  ...              0.0   \n",
       "22               23.2              705.0  ...              0.0   \n",
       "23               23.2              610.0  ...              0.0   \n",
       "24               23.2              515.0  ...              0.0   \n",
       "25               23.2              420.0  ...              0.0   \n",
       "26               23.2              325.0  ...              0.0   \n",
       "27               23.2              230.0  ...              0.0   \n",
       "28               23.2              135.0  ...              0.0   \n",
       "29               23.2              135.0  ...              0.0   \n",
       "30               23.2              135.0  ...              0.0   \n",
       "31               23.2              135.0  ...              0.0   \n",
       "32               23.2              135.0  ...              0.0   \n",
       "33               23.2              135.0  ...             20.4   \n",
       "34               23.2              135.0  ...              0.0   \n",
       "35               23.2              135.0  ...              0.0   \n",
       "36               23.2              135.0  ...              0.0   \n",
       "37               -0.0              135.0  ...              0.0   \n",
       "38              150.0              135.0  ...              0.0   \n",
       "39              150.0              135.0  ...              0.0   \n",
       "40              150.0              135.0  ...              0.0   \n",
       "41              150.0              135.0  ...              0.0   \n",
       "42              150.0              135.0  ...              0.0   \n",
       "43              150.0              135.0  ...              0.0   \n",
       "44              150.0              135.0  ...              0.0   \n",
       "45              150.0              135.0  ...              0.0   \n",
       "\n",
       "    Crude B Blended  Crude C Blended  Crude D Blended  Crude E Blended  \\\n",
       "0               0.0              0.0              0.0              0.0   \n",
       "1               0.0             21.6              0.0              0.0   \n",
       "2               0.0             25.6              0.0              0.0   \n",
       "3               0.0              4.2              0.0              0.0   \n",
       "4               0.0             25.6              0.0              0.0   \n",
       "5               0.0             25.6              0.0              0.0   \n",
       "6               0.0             21.6              0.0              0.0   \n",
       "7               0.0              0.0              0.0              0.0   \n",
       "8               0.0              0.0              0.0              0.0   \n",
       "9               0.0              0.0              0.0              0.0   \n",
       "10              0.0              0.0              0.0              0.0   \n",
       "11             57.6              0.0             38.4              0.0   \n",
       "12             57.6              0.0             38.4              0.0   \n",
       "13              0.0              0.0              0.0              0.0   \n",
       "14              0.0              0.0              0.0              0.0   \n",
       "15              0.0              0.0              0.0              0.0   \n",
       "16              0.0              0.0              0.0              0.0   \n",
       "17              0.0              0.0              0.0              0.0   \n",
       "18              0.0              0.0              0.0              0.0   \n",
       "19              0.0              0.0              0.0              0.0   \n",
       "20              0.0              0.0              0.0              0.0   \n",
       "21              0.0              0.0              0.0              0.0   \n",
       "22              0.0              0.0              0.0             95.0   \n",
       "23              0.0              0.0              0.0             95.0   \n",
       "24              0.0              0.0              0.0             95.0   \n",
       "25              0.0              0.0              0.0             95.0   \n",
       "26              0.0              0.0              0.0             95.0   \n",
       "27              0.0              0.0              0.0             95.0   \n",
       "28              0.0              0.0              0.0             95.0   \n",
       "29              0.0              0.0              0.0              0.0   \n",
       "30              0.0              0.0              0.0              0.0   \n",
       "31              0.0              0.0              0.0              0.0   \n",
       "32              0.0              0.0              0.0              0.0   \n",
       "33              0.0              0.0              0.0              0.0   \n",
       "34              0.0             25.6              0.0              0.0   \n",
       "35              0.0             25.6              0.0              0.0   \n",
       "36              0.0             25.6              0.0              0.0   \n",
       "37             34.8              0.0             23.2              0.0   \n",
       "38              0.0              0.0              0.0              0.0   \n",
       "39              0.0              0.0              0.0              0.0   \n",
       "40              0.0              0.0              0.0              0.0   \n",
       "41              0.0              0.0              0.0              0.0   \n",
       "42              0.0             25.6              0.0              0.0   \n",
       "43              0.0              0.0              0.0              0.0   \n",
       "44              0.0              0.0              0.0              0.0   \n",
       "45              0.0              0.0              0.0              0.0   \n",
       "\n",
       "    Crude F Blended  Inventory Available  Ullage        Profit  \\\n",
       "0               0.0                956.3   223.7  2.186419e+05   \n",
       "1               0.0                956.3   223.7  1.340169e+06   \n",
       "2               0.0                861.3   318.7  1.592704e+06   \n",
       "3               0.0                845.6   334.4  2.618481e+05   \n",
       "4               0.0                750.6   429.4  1.592704e+06   \n",
       "5               0.0                655.6   524.4  1.592704e+06   \n",
       "6               0.0                560.6   619.4  1.341224e+06   \n",
       "7              15.0                560.6   619.4  1.495500e+05   \n",
       "8              95.0                465.6   714.4  9.471500e+05   \n",
       "9              95.0                370.6   809.4  9.471500e+05   \n",
       "10             95.0                275.6   354.4  9.471500e+05   \n",
       "11              0.0                179.7   450.4  1.334592e+06   \n",
       "12              0.0                 83.7   546.4  1.334592e+06   \n",
       "13              0.0                537.6   642.4  1.589510e+06   \n",
       "14              0.0                441.7   168.3  1.589510e+06   \n",
       "15              0.0                345.7   264.4  1.589510e+06   \n",
       "16              0.0                249.7   360.4  1.589510e+06   \n",
       "17              0.0                723.7   456.3  1.589510e+06   \n",
       "18             93.7                630.0     0.0  9.336905e+05   \n",
       "19             95.0                535.0    95.0  9.471500e+05   \n",
       "20             36.4                498.7   131.4  3.624095e+05   \n",
       "21             95.0                953.7   226.4  9.471500e+05   \n",
       "22              0.0                858.7   321.4  9.481000e+05   \n",
       "23              0.0                763.7   416.4  9.481000e+05   \n",
       "24              0.0                668.7   511.4  9.481000e+05   \n",
       "25              0.0                573.7   246.4  9.481000e+05   \n",
       "26              0.0                478.7   341.4  9.481000e+05   \n",
       "27              0.0                383.7   436.4  9.481000e+05   \n",
       "28              0.0                648.7   531.4  9.481000e+05   \n",
       "29              0.0                648.7   531.4  0.000000e+00   \n",
       "30              0.0                648.7   531.4  0.000000e+00   \n",
       "31              0.0                648.7   331.4  0.000000e+00   \n",
       "32              0.0                648.7   331.4  0.000000e+00   \n",
       "33              0.0                573.1   406.9  1.251004e+06   \n",
       "34              0.0                478.1   501.9  1.592704e+06   \n",
       "35              0.0                583.1   166.9  1.592704e+06   \n",
       "36              0.0                488.1   261.9  1.592704e+06   \n",
       "37              0.0                430.1   319.9  8.063160e+05   \n",
       "38              0.0                860.1   319.9  0.000000e+00   \n",
       "39              0.0                860.1   319.9  0.000000e+00   \n",
       "40              0.0                860.1   319.9  0.000000e+00   \n",
       "41              0.0                860.1   319.9  0.000000e+00   \n",
       "42              0.0                765.1   414.9  1.592704e+06   \n",
       "43             95.0                670.1   509.9  9.471500e+05   \n",
       "44             90.0                580.1   599.9  8.973000e+05   \n",
       "45             95.0                485.1   694.9  9.471500e+05   \n",
       "\n",
       "                   Flag  \n",
       "0   Margin_Optimization  \n",
       "1   Margin_Optimization  \n",
       "2   Margin_Optimization  \n",
       "3   Margin_Optimization  \n",
       "4   Margin_Optimization  \n",
       "5   Margin_Optimization  \n",
       "6   Margin_Optimization  \n",
       "7   Margin_Optimization  \n",
       "8   Margin_Optimization  \n",
       "9   Margin_Optimization  \n",
       "10  Margin_Optimization  \n",
       "11  Margin_Optimization  \n",
       "12  Margin_Optimization  \n",
       "13  Margin_Optimization  \n",
       "14  Margin_Optimization  \n",
       "15  Margin_Optimization  \n",
       "16  Margin_Optimization  \n",
       "17  Margin_Optimization  \n",
       "18  Margin_Optimization  \n",
       "19  Margin_Optimization  \n",
       "20  Margin_Optimization  \n",
       "21  Margin_Optimization  \n",
       "22  Margin_Optimization  \n",
       "23  Margin_Optimization  \n",
       "24  Margin_Optimization  \n",
       "25  Margin_Optimization  \n",
       "26  Margin_Optimization  \n",
       "27  Margin_Optimization  \n",
       "28  Margin_Optimization  \n",
       "29  Margin_Optimization  \n",
       "30  Margin_Optimization  \n",
       "31  Margin_Optimization  \n",
       "32  Margin_Optimization  \n",
       "33  Margin_Optimization  \n",
       "34  Margin_Optimization  \n",
       "35  Margin_Optimization  \n",
       "36  Margin_Optimization  \n",
       "37  Margin_Optimization  \n",
       "38  Margin_Optimization  \n",
       "39  Margin_Optimization  \n",
       "40  Margin_Optimization  \n",
       "41  Margin_Optimization  \n",
       "42  Margin_Optimization  \n",
       "43  Margin_Optimization  \n",
       "44  Margin_Optimization  \n",
       "45  Margin_Optimization  \n",
       "\n",
       "[46 rows x 22 columns]"
      ]
     },
     "execution_count": 103,
     "metadata": {},
     "output_type": "execute_result"
    }
   ],
   "source": [
    "combined_df_reduced"
   ]
  },
  {
   "cell_type": "code",
   "execution_count": 44,
   "id": "059068b7-180b-4c0f-8204-1da18956f931",
   "metadata": {
    "microsoft": {
     "language": "python",
     "language_group": "jupyter_python"
    }
   },
   "outputs": [
    {
     "data": {
      "application/vnd.jupyter.statement-meta+json": {
       "execution_finish_time": "2025-07-22T09:30:44.840968Z",
       "execution_start_time": "2025-07-22T09:30:44.422926Z",
       "normalized_state": "finished",
       "parent_msg_id": "4c16f908-753a-49a2-bd06-93fa225ed881",
       "queued_time": "2025-07-22T09:24:49.0022132Z",
       "session_id": "f4c9b725-e93b-42ed-a44f-72e20c985c4a",
       "session_start_time": null
      }
     },
     "metadata": {},
     "output_type": "display_data"
    }
   ],
   "source": [
    "total_throughput = combined_df_reduced['Quantity Produced'].sum()\n",
    "total_margin = combined_df_reduced['Profit'].sum()\n",
    "average_throughput = total_throughput/config[\"DAYS\"][\"end\"]\n",
    "average_margin = total_margin/config[\"DAYS\"][\"end\"]"
   ]
  },
  {
   "cell_type": "code",
   "execution_count": 45,
   "id": "46d9e990-cc41-4c70-ae2a-37b4100d4fa3",
   "metadata": {
    "microsoft": {
     "language": "python",
     "language_group": "jupyter_python"
    }
   },
   "outputs": [
    {
     "data": {
      "application/vnd.jupyter.statement-meta+json": {
       "execution_finish_time": "2025-07-22T09:30:45.2750367Z",
       "execution_start_time": "2025-07-22T09:30:44.8429221Z",
       "normalized_state": "finished",
       "parent_msg_id": "a6e330f1-08d6-4aba-b147-d7ec9b38ab5a",
       "queued_time": "2025-07-22T09:24:49.1757459Z",
       "session_id": "f4c9b725-e93b-42ed-a44f-72e20c985c4a",
       "session_start_time": null
      }
     },
     "metadata": {},
     "output_type": "display_data"
    },
    {
     "name": "stdout",
     "output_type": "stream",
     "text": [
      "total_throughput: 3225.0\n",
      "total_margin: 42594563.55555555\n",
      "average_throughput: 80.625\n",
      "average_margin: 1064864.0888888887\n"
     ]
    }
   ],
   "source": [
    "print(\"total_throughput:\", total_throughput)\n",
    "print(\"total_margin:\", total_margin)\n",
    "print(\"average_throughput:\", average_throughput)\n",
    "print(\"average_margin:\", average_margin)"
   ]
  },
  {
   "cell_type": "code",
   "execution_count": 46,
   "id": "19f9e848",
   "metadata": {
    "microsoft": {
     "language": "python",
     "language_group": "jupyter_python"
    }
   },
   "outputs": [
    {
     "data": {
      "application/vnd.jupyter.statement-meta+json": {
       "execution_finish_time": "2025-07-22T09:30:45.7601765Z",
       "execution_start_time": "2025-07-22T09:30:45.2770751Z",
       "normalized_state": "finished",
       "parent_msg_id": "4ff833a8-819f-4c69-a590-277c04bab393",
       "queued_time": "2025-07-22T09:24:49.3840419Z",
       "session_id": "f4c9b725-e93b-42ed-a44f-72e20c985c4a",
       "session_start_time": null
      }
     },
     "metadata": {},
     "output_type": "display_data"
    }
   ],
   "source": [
    "records = []\n",
    "\n",
    "for v in model.VESSELS:\n",
    "    is_vessel_started = False\n",
    "    is_vessel_terminated = False\n",
    "    is_at_melaka = 0\n",
    "    last_port_location = None\n",
    "    pending_sailing_records = []\n",
    "    crude_loaded = {}\n",
    "\n",
    "    for d in model.DAYS:\n",
    "        at_location = False\n",
    "        activity_name_list = []\n",
    "        location_visited = None\n",
    "        is_loading = 0\n",
    "        is_unloading = 0\n",
    "\n",
    "        for l in model.LOCATIONS:\n",
    "            if value(model.AtLocation[v, l, d]) > 0.5:\n",
    "                at_location = True\n",
    "                location_visited = l\n",
    "\n",
    "                # Update last_port_location when vessel is at port\n",
    "                last_port_location = l\n",
    "\n",
    "                if not is_vessel_started:\n",
    "                    activity_name_list.append(\"Arrival T\")\n",
    "                    is_vessel_started = True\n",
    "\n",
    "                for p in model.PARCELS:\n",
    "                    if value(model.Pickup[v, p, d]) > 0.5:\n",
    "                        crude_type = p[1]\n",
    "                        crude_volume_carried = parcel_size[p]\n",
    "                        crude_loaded[f\"{crude_type} Volume\"] = crude_volume_carried\n",
    "                        activity_name_list.append(\"Loading\")\n",
    "                        is_loading = 1\n",
    "                        break\n",
    "                # if any(value(model.Pickup[v, p, d]) > 0.5 for p in model.PARCELS):\n",
    "                #     activity_name_list.append(\"Loading\")\n",
    "                #     is_loading = 1\n",
    "\n",
    "                if l == \"Melaka\" and is_at_melaka == 0:\n",
    "                    activity_name_list.append(\"Arrival M\")\n",
    "                    is_at_melaka = 1\n",
    "\n",
    "                if value(model.Discharge[v, d]) > 0.5:\n",
    "                    activity_name_list.append(\"Discharge\")\n",
    "                    is_unloading = 1\n",
    "            \n",
    "                if (d > 1) and value(model.Discharge[v, d-1]) > 0.5:\n",
    "                    activity_name_list.append(\"Discharge\")\n",
    "                    is_vessel_terminated = True\n",
    "                    is_unloading = 1\n",
    "\n",
    "                if 'Loading' not in activity_name_list and \"Discharge\" not in activity_name_list:\n",
    "                    activity_name_list.append(\"Demurrage\")\n",
    "\n",
    "        if is_vessel_started and not is_vessel_terminated and not at_location:\n",
    "            activity_name_list.append(\"Sailing\")\n",
    "\n",
    "        # Find next port when sailing\n",
    "        next_port_location = None\n",
    "        if not at_location:\n",
    "            # Look ahead to find first future location\n",
    "            for future_d in range(d + 1, max(model.DAYS) + 1):\n",
    "                for l_future in model.LOCATIONS:\n",
    "                    if value(model.AtLocation[v, l_future, future_d]) > 0.5:\n",
    "                        next_port_location = l_future\n",
    "                        break\n",
    "                if next_port_location:\n",
    "                    break\n",
    "\n",
    "        # Decide Last Port display\n",
    "        if at_location:\n",
    "            last_port_display = location_visited\n",
    "            # Update any pending sailing records now that we know next port\n",
    "            for rec in pending_sailing_records:\n",
    "                rec[\"Last Port\"] = f\"{rec['Last Port'].split('--')[0]}--{location_visited}\"\n",
    "                records.append(rec)\n",
    "            pending_sailing_records.clear()\n",
    "        elif not at_location and last_port_location and next_port_location:\n",
    "            last_port_display = f\"{last_port_location}--{next_port_location}\"\n",
    "        else:\n",
    "            last_port_display = \"Unknown\"\n",
    "\n",
    "        # volumes = {f\"{c} Volume\": value(model.VolumeOnboard[v, c]) for c in model.CRUDES}\n",
    "\n",
    "        for activity_name in activity_name_list:\n",
    "            if activity_name == \"Demurrage\":\n",
    "                demurrage_activity = 1\n",
    "            else:\n",
    "                demurrage_activity = 0\n",
    "            record = {\n",
    "                \"Activity Date\": pd.to_datetime(\"2024-10-01\") + pd.Timedelta(days=d - 1),\n",
    "                \"Activity Name\": activity_name,\n",
    "                \"Activity End Date\": pd.to_datetime(\"2024-10-01\") + pd.Timedelta(days=d),\n",
    "                \"Vessel ID\": v,\n",
    "                \"Last Port\": last_port_display,\n",
    "                **crude_loaded,\n",
    "                \"is_at_Melaka\": is_at_melaka,\n",
    "                \"is Demurrage Day\": demurrage_activity,\n",
    "                \"is_crude_unloading_day\": is_unloading,\n",
    "                \"is_loading\": is_loading,\n",
    "                \"Scenario Id\": scenario\n",
    "            }\n",
    "\n",
    "            if activity_name == \"Sailing\":\n",
    "                # Store temporarily to update once we know next port\n",
    "                pending_sailing_records.append(record)\n",
    "            else:\n",
    "                records.append(record)\n",
    "\n",
    "# Finally, convert to DataFrame\n",
    "vessel_df = pd.DataFrame(records)"
   ]
  },
  {
   "cell_type": "code",
   "execution_count": 47,
   "id": "8303f0cc",
   "metadata": {
    "microsoft": {
     "language": "python",
     "language_group": "jupyter_python"
    }
   },
   "outputs": [
    {
     "data": {
      "application/vnd.jupyter.statement-meta+json": {
       "execution_finish_time": "2025-07-22T09:30:46.2429349Z",
       "execution_start_time": "2025-07-22T09:30:45.761778Z",
       "normalized_state": "finished",
       "parent_msg_id": "8cca260d-f37c-4dd2-a2ea-30ab6fb5bd1e",
       "queued_time": "2025-07-22T09:24:49.7408514Z",
       "session_id": "f4c9b725-e93b-42ed-a44f-72e20c985c4a",
       "session_start_time": null
      }
     },
     "metadata": {},
     "output_type": "display_data"
    },
    {
     "data": {
      "text/html": [
       "<div>\n",
       "<style scoped>\n",
       "    .dataframe tbody tr th:only-of-type {\n",
       "        vertical-align: middle;\n",
       "    }\n",
       "\n",
       "    .dataframe tbody tr th {\n",
       "        vertical-align: top;\n",
       "    }\n",
       "\n",
       "    .dataframe thead th {\n",
       "        text-align: right;\n",
       "    }\n",
       "</style>\n",
       "<table border=\"1\" class=\"dataframe\">\n",
       "  <thead>\n",
       "    <tr style=\"text-align: right;\">\n",
       "      <th></th>\n",
       "      <th>Activity Date</th>\n",
       "      <th>Activity Name</th>\n",
       "      <th>Activity End Date</th>\n",
       "      <th>Vessel ID</th>\n",
       "      <th>Last Port</th>\n",
       "      <th>is_at_Melaka</th>\n",
       "      <th>is Demurrage Day</th>\n",
       "      <th>is_crude_unloading_day</th>\n",
       "      <th>is_loading</th>\n",
       "      <th>Scenario Id</th>\n",
       "      <th>A Volume</th>\n",
       "      <th>Base Volume</th>\n",
       "      <th>E Volume</th>\n",
       "      <th>F Volume</th>\n",
       "      <th>C Volume</th>\n",
       "      <th>D Volume</th>\n",
       "    </tr>\n",
       "  </thead>\n",
       "  <tbody>\n",
       "    <tr>\n",
       "      <th>0</th>\n",
       "      <td>2024-10-01</td>\n",
       "      <td>Arrival T</td>\n",
       "      <td>2024-10-02</td>\n",
       "      <td>1</td>\n",
       "      <td>PM</td>\n",
       "      <td>0</td>\n",
       "      <td>0</td>\n",
       "      <td>0</td>\n",
       "      <td>0</td>\n",
       "      <td>Scenario 8</td>\n",
       "      <td>NaN</td>\n",
       "      <td>NaN</td>\n",
       "      <td>NaN</td>\n",
       "      <td>NaN</td>\n",
       "      <td>NaN</td>\n",
       "      <td>NaN</td>\n",
       "    </tr>\n",
       "    <tr>\n",
       "      <th>1</th>\n",
       "      <td>2024-10-01</td>\n",
       "      <td>Demurrage</td>\n",
       "      <td>2024-10-02</td>\n",
       "      <td>1</td>\n",
       "      <td>PM</td>\n",
       "      <td>0</td>\n",
       "      <td>1</td>\n",
       "      <td>0</td>\n",
       "      <td>0</td>\n",
       "      <td>Scenario 8</td>\n",
       "      <td>NaN</td>\n",
       "      <td>NaN</td>\n",
       "      <td>NaN</td>\n",
       "      <td>NaN</td>\n",
       "      <td>NaN</td>\n",
       "      <td>NaN</td>\n",
       "    </tr>\n",
       "    <tr>\n",
       "      <th>2</th>\n",
       "      <td>2024-10-02</td>\n",
       "      <td>Loading</td>\n",
       "      <td>2024-10-03</td>\n",
       "      <td>1</td>\n",
       "      <td>PM</td>\n",
       "      <td>0</td>\n",
       "      <td>0</td>\n",
       "      <td>0</td>\n",
       "      <td>1</td>\n",
       "      <td>Scenario 8</td>\n",
       "      <td>150000.0</td>\n",
       "      <td>NaN</td>\n",
       "      <td>NaN</td>\n",
       "      <td>NaN</td>\n",
       "      <td>NaN</td>\n",
       "      <td>NaN</td>\n",
       "    </tr>\n",
       "    <tr>\n",
       "      <th>3</th>\n",
       "      <td>2024-10-02</td>\n",
       "      <td>Loading</td>\n",
       "      <td>2024-10-03</td>\n",
       "      <td>1</td>\n",
       "      <td>PM</td>\n",
       "      <td>0</td>\n",
       "      <td>0</td>\n",
       "      <td>0</td>\n",
       "      <td>1</td>\n",
       "      <td>Scenario 8</td>\n",
       "      <td>150000.0</td>\n",
       "      <td>NaN</td>\n",
       "      <td>NaN</td>\n",
       "      <td>NaN</td>\n",
       "      <td>NaN</td>\n",
       "      <td>NaN</td>\n",
       "    </tr>\n",
       "    <tr>\n",
       "      <th>4</th>\n",
       "      <td>2024-10-03</td>\n",
       "      <td>Loading</td>\n",
       "      <td>2024-10-04</td>\n",
       "      <td>1</td>\n",
       "      <td>PM</td>\n",
       "      <td>0</td>\n",
       "      <td>0</td>\n",
       "      <td>0</td>\n",
       "      <td>1</td>\n",
       "      <td>Scenario 8</td>\n",
       "      <td>150000.0</td>\n",
       "      <td>400000.0</td>\n",
       "      <td>NaN</td>\n",
       "      <td>NaN</td>\n",
       "      <td>NaN</td>\n",
       "      <td>NaN</td>\n",
       "    </tr>\n",
       "    <tr>\n",
       "      <th>...</th>\n",
       "      <td>...</td>\n",
       "      <td>...</td>\n",
       "      <td>...</td>\n",
       "      <td>...</td>\n",
       "      <td>...</td>\n",
       "      <td>...</td>\n",
       "      <td>...</td>\n",
       "      <td>...</td>\n",
       "      <td>...</td>\n",
       "      <td>...</td>\n",
       "      <td>...</td>\n",
       "      <td>...</td>\n",
       "      <td>...</td>\n",
       "      <td>...</td>\n",
       "      <td>...</td>\n",
       "      <td>...</td>\n",
       "    </tr>\n",
       "    <tr>\n",
       "      <th>64</th>\n",
       "      <td>2024-10-28</td>\n",
       "      <td>Sailing</td>\n",
       "      <td>2024-10-29</td>\n",
       "      <td>6</td>\n",
       "      <td>Sabah--Melaka</td>\n",
       "      <td>0</td>\n",
       "      <td>0</td>\n",
       "      <td>0</td>\n",
       "      <td>0</td>\n",
       "      <td>Scenario 8</td>\n",
       "      <td>NaN</td>\n",
       "      <td>NaN</td>\n",
       "      <td>NaN</td>\n",
       "      <td>280000.0</td>\n",
       "      <td>NaN</td>\n",
       "      <td>150000.0</td>\n",
       "    </tr>\n",
       "    <tr>\n",
       "      <th>65</th>\n",
       "      <td>2024-10-29</td>\n",
       "      <td>Arrival M</td>\n",
       "      <td>2024-10-30</td>\n",
       "      <td>6</td>\n",
       "      <td>Melaka</td>\n",
       "      <td>1</td>\n",
       "      <td>0</td>\n",
       "      <td>0</td>\n",
       "      <td>0</td>\n",
       "      <td>Scenario 8</td>\n",
       "      <td>NaN</td>\n",
       "      <td>NaN</td>\n",
       "      <td>NaN</td>\n",
       "      <td>280000.0</td>\n",
       "      <td>NaN</td>\n",
       "      <td>150000.0</td>\n",
       "    </tr>\n",
       "    <tr>\n",
       "      <th>66</th>\n",
       "      <td>2024-10-29</td>\n",
       "      <td>Demurrage</td>\n",
       "      <td>2024-10-30</td>\n",
       "      <td>6</td>\n",
       "      <td>Melaka</td>\n",
       "      <td>1</td>\n",
       "      <td>1</td>\n",
       "      <td>0</td>\n",
       "      <td>0</td>\n",
       "      <td>Scenario 8</td>\n",
       "      <td>NaN</td>\n",
       "      <td>NaN</td>\n",
       "      <td>NaN</td>\n",
       "      <td>280000.0</td>\n",
       "      <td>NaN</td>\n",
       "      <td>150000.0</td>\n",
       "    </tr>\n",
       "    <tr>\n",
       "      <th>67</th>\n",
       "      <td>2024-10-30</td>\n",
       "      <td>Discharge</td>\n",
       "      <td>2024-10-31</td>\n",
       "      <td>6</td>\n",
       "      <td>Melaka</td>\n",
       "      <td>1</td>\n",
       "      <td>0</td>\n",
       "      <td>1</td>\n",
       "      <td>0</td>\n",
       "      <td>Scenario 8</td>\n",
       "      <td>NaN</td>\n",
       "      <td>NaN</td>\n",
       "      <td>NaN</td>\n",
       "      <td>280000.0</td>\n",
       "      <td>NaN</td>\n",
       "      <td>150000.0</td>\n",
       "    </tr>\n",
       "    <tr>\n",
       "      <th>68</th>\n",
       "      <td>2024-10-31</td>\n",
       "      <td>Discharge</td>\n",
       "      <td>2024-11-01</td>\n",
       "      <td>6</td>\n",
       "      <td>Melaka</td>\n",
       "      <td>1</td>\n",
       "      <td>0</td>\n",
       "      <td>1</td>\n",
       "      <td>0</td>\n",
       "      <td>Scenario 8</td>\n",
       "      <td>NaN</td>\n",
       "      <td>NaN</td>\n",
       "      <td>NaN</td>\n",
       "      <td>280000.0</td>\n",
       "      <td>NaN</td>\n",
       "      <td>150000.0</td>\n",
       "    </tr>\n",
       "  </tbody>\n",
       "</table>\n",
       "<p>69 rows × 16 columns</p>\n",
       "</div>"
      ],
      "text/plain": [
       "   Activity Date Activity Name Activity End Date  Vessel ID      Last Port  \\\n",
       "0     2024-10-01     Arrival T        2024-10-02          1             PM   \n",
       "1     2024-10-01     Demurrage        2024-10-02          1             PM   \n",
       "2     2024-10-02       Loading        2024-10-03          1             PM   \n",
       "3     2024-10-02       Loading        2024-10-03          1             PM   \n",
       "4     2024-10-03       Loading        2024-10-04          1             PM   \n",
       "..           ...           ...               ...        ...            ...   \n",
       "64    2024-10-28       Sailing        2024-10-29          6  Sabah--Melaka   \n",
       "65    2024-10-29     Arrival M        2024-10-30          6         Melaka   \n",
       "66    2024-10-29     Demurrage        2024-10-30          6         Melaka   \n",
       "67    2024-10-30     Discharge        2024-10-31          6         Melaka   \n",
       "68    2024-10-31     Discharge        2024-11-01          6         Melaka   \n",
       "\n",
       "    is_at_Melaka  is Demurrage Day  is_crude_unloading_day  is_loading  \\\n",
       "0              0                 0                       0           0   \n",
       "1              0                 1                       0           0   \n",
       "2              0                 0                       0           1   \n",
       "3              0                 0                       0           1   \n",
       "4              0                 0                       0           1   \n",
       "..           ...               ...                     ...         ...   \n",
       "64             0                 0                       0           0   \n",
       "65             1                 0                       0           0   \n",
       "66             1                 1                       0           0   \n",
       "67             1                 0                       1           0   \n",
       "68             1                 0                       1           0   \n",
       "\n",
       "   Scenario Id  A Volume  Base Volume  E Volume  F Volume  C Volume  D Volume  \n",
       "0   Scenario 8       NaN          NaN       NaN       NaN       NaN       NaN  \n",
       "1   Scenario 8       NaN          NaN       NaN       NaN       NaN       NaN  \n",
       "2   Scenario 8  150000.0          NaN       NaN       NaN       NaN       NaN  \n",
       "3   Scenario 8  150000.0          NaN       NaN       NaN       NaN       NaN  \n",
       "4   Scenario 8  150000.0     400000.0       NaN       NaN       NaN       NaN  \n",
       "..         ...       ...          ...       ...       ...       ...       ...  \n",
       "64  Scenario 8       NaN          NaN       NaN  280000.0       NaN  150000.0  \n",
       "65  Scenario 8       NaN          NaN       NaN  280000.0       NaN  150000.0  \n",
       "66  Scenario 8       NaN          NaN       NaN  280000.0       NaN  150000.0  \n",
       "67  Scenario 8       NaN          NaN       NaN  280000.0       NaN  150000.0  \n",
       "68  Scenario 8       NaN          NaN       NaN  280000.0       NaN  150000.0  \n",
       "\n",
       "[69 rows x 16 columns]"
      ]
     },
     "execution_count": 107,
     "metadata": {},
     "output_type": "execute_result"
    }
   ],
   "source": [
    "vessel_df"
   ]
  },
  {
   "cell_type": "code",
   "execution_count": 48,
   "id": "da5ade13-97c9-4b4d-8eb9-c50b9546e8e3",
   "metadata": {
    "microsoft": {
     "language": "python",
     "language_group": "jupyter_python"
    }
   },
   "outputs": [
    {
     "data": {
      "application/vnd.jupyter.statement-meta+json": {
       "execution_finish_time": "2025-07-22T09:30:46.6690513Z",
       "execution_start_time": "2025-07-22T09:30:46.24451Z",
       "normalized_state": "finished",
       "parent_msg_id": "bc61684e-d4cf-4103-8de1-0f3cf7c01962",
       "queued_time": "2025-07-22T09:24:49.9338697Z",
       "session_id": "f4c9b725-e93b-42ed-a44f-72e20c985c4a",
       "session_start_time": null
      }
     },
     "metadata": {},
     "output_type": "display_data"
    }
   ],
   "source": [
    "base_path = f\"/lakehouse/default/Files/Dev/{scenario}/\"\n",
    "os.makedirs(base_path, exist_ok=True)\n",
    "if optimization_type == 'throughput':\n",
    "    crude_blending_filename = f'crude_blending_{optimization_type}_optimization_{vessel_count}_vessels_{config[\"DAYS\"][\"end\"]}_days_{MaxTransitions}_transitions_{max_demurrage_limit}_demurrages.csv'\n",
    "    vessel_routing_filename = f'vessel_routing_{optimization_type}_optimization_{vessel_count}_vessels_{config[\"DAYS\"][\"end\"]}_days_{MaxTransitions}_transitions_{max_demurrage_limit}_demurrages.csv'\n",
    "else:\n",
    "    crude_blending_filename = f'crude_blending_{optimization_type}_optimization_{vessel_count}_vessels_{config[\"DAYS\"][\"end\"]}_days_{MaxTransitions}_transitions.csv'\n",
    "    vessel_routing_filename = f'vessel_routing_{optimization_type}_optimization_{vessel_count}_vessels_{config[\"DAYS\"][\"end\"]}_days_{MaxTransitions}_transitions.csv'\n",
    "combined_df_reduced.to_csv(base_path+crude_blending_filename)\n",
    "vessel_df.to_csv(base_path+vessel_routing_filename)"
   ]
  },
  {
   "cell_type": "markdown",
   "id": "fe8f47d9-0158-484b-b5d4-64b4708f3617",
   "metadata": {
    "microsoft": {
     "language": "python",
     "language_group": "jupyter_python"
    },
    "nteract": {
     "transient": {
      "deleting": false
     }
    }
   },
   "source": [
    "## Loading Model to Pickle File"
   ]
  },
  {
   "cell_type": "code",
   "execution_count": 49,
   "id": "154d46b6-87bd-4638-83c4-674d9f55e44a",
   "metadata": {
    "microsoft": {
     "language": "python",
     "language_group": "jupyter_python"
    }
   },
   "outputs": [
    {
     "data": {
      "application/vnd.jupyter.statement-meta+json": {
       "execution_finish_time": "2025-07-22T09:30:47.6029917Z",
       "execution_start_time": "2025-07-22T09:30:46.6708636Z",
       "normalized_state": "finished",
       "parent_msg_id": "d29a6e86-e048-4001-8fe2-7be1b7576e1f",
       "queued_time": "2025-07-22T09:24:50.1349344Z",
       "session_id": "f4c9b725-e93b-42ed-a44f-72e20c985c4a",
       "session_start_time": null
      }
     },
     "metadata": {},
     "output_type": "display_data"
    }
   ],
   "source": [
    "import pickle\n",
    "if optimization_type == 'throughput':\n",
    "    model_file_name = f'/lakehouse/default/Files/Dev/{scenario}/{optimization_type}_optimization_{vessel_count}_vessels_{config[\"DAYS\"][\"end\"]}_days_{MaxTransitions}_transitions_{max_demurrage_limit}_demurrages.pkl'\n",
    "else:\n",
    "    model_file_name = f'/lakehouse/default/Files/Dev/{scenario}/{optimization_type}_optimization_{vessel_count}_vessels_{config[\"DAYS\"][\"end\"]}_days_{MaxTransitions}_transitions.pkl'\n",
    "with open(model_file_name,'wb') as fp:\n",
    "    pickle.dump(model, fp)"
   ]
  },
  {
   "cell_type": "code",
   "execution_count": 50,
   "id": "3710b64b-1f3a-4b44-ad59-47a9e226367f",
   "metadata": {
    "microsoft": {
     "language": "python",
     "language_group": "jupyter_python"
    }
   },
   "outputs": [
    {
     "data": {
      "application/vnd.jupyter.statement-meta+json": {
       "execution_finish_time": "2025-07-22T09:30:52.049901Z",
       "execution_start_time": "2025-07-22T09:30:47.6047863Z",
       "normalized_state": "finished",
       "parent_msg_id": "845e44a6-9239-4341-bdf4-aa7d79fa5863",
       "queued_time": "2025-07-22T09:24:50.3514628Z",
       "session_id": "f4c9b725-e93b-42ed-a44f-72e20c985c4a",
       "session_start_time": null
      }
     },
     "metadata": {},
     "output_type": "display_data"
    },
    {
     "data": {
      "text/plain": [
       "1064864.0888888887"
      ]
     },
     "execution_count": 110,
     "metadata": {},
     "output_type": "execute_result"
    }
   ],
   "source": [
    "# mlflow.log(df1)\n",
    "mlflow.log_artifact(base_path+crude_blending_filename, artifact_path=\"tables\")\n",
    "mlflow.log_artifact(base_path+vessel_routing_filename, artifact_path=\"tables\")\n",
    "mlflow.log_param(\"vessel_count\", vessel_count)\n",
    "mlflow.log_param(\"optimization_type\", optimization_type)\n",
    "mlflow.log_param(\"total_throughput\", total_throughput)\n",
    "mlflow.log_param(\"total_margin\", total_margin)\n",
    "mlflow.log_param(\"average_throughput\", average_throughput)\n",
    "mlflow.log_param(\"average_margin\", average_margin)\n"
   ]
  },
  {
   "cell_type": "code",
   "execution_count": 51,
   "id": "e8ddfa6c-18b1-46ef-ac31-0a632ff6e236",
   "metadata": {
    "microsoft": {
     "language": "python",
     "language_group": "jupyter_python"
    }
   },
   "outputs": [
    {
     "data": {
      "application/vnd.jupyter.statement-meta+json": {
       "execution_finish_time": "2025-07-22T09:30:54.4270574Z",
       "execution_start_time": "2025-07-22T09:30:52.0517462Z",
       "normalized_state": "finished",
       "parent_msg_id": "6e389b95-00e0-49c5-b460-de0dbd0bee12",
       "queued_time": "2025-07-22T09:24:50.5511191Z",
       "session_id": "f4c9b725-e93b-42ed-a44f-72e20c985c4a",
       "session_start_time": null
      }
     },
     "metadata": {},
     "output_type": "display_data"
    },
    {
     "name": "stdout",
     "output_type": "stream",
     "text": [
      "🏃 View run patient_sprout_8302mn7t at: https://b89f3c860388471fbb039a044125011a.pbidedicated.windows.net/webapi/capacities/b89f3c86-0388-471f-bb03-9a044125011a/workloads/ML/ML/Automatic/workspaceid/80412da6-7d25-49aa-b54e-18a62380b477/#/experiments/c06fc8c1-2006-4cb5-a7d1-3bfd322df7a9/runs/82442d44-bebf-4941-8b38-ca52c477919d\n",
      "🧪 View experiment at: https://b89f3c860388471fbb039a044125011a.pbidedicated.windows.net/webapi/capacities/b89f3c86-0388-471f-bb03-9a044125011a/workloads/ML/ML/Automatic/workspaceid/80412da6-7d25-49aa-b54e-18a62380b477/#/experiments/c06fc8c1-2006-4cb5-a7d1-3bfd322df7a9\n"
     ]
    },
    {
     "data": {
      "application/vnd.mlflow.run-widget+json": {
       "data": {
        "metrics": {},
        "params": {
         "average_margin": "1064864.0888888887",
         "average_throughput": "80.625",
         "optimization_type": "throughput",
         "total_margin": "42594563.55555555",
         "total_throughput": "3225.0",
         "vessel_count": "6"
        },
        "tags": {
         "mlflow.rootRunId": "82442d44-bebf-4941-8b38-ca52c477919d",
         "mlflow.runName": "patient_sprout_8302mn7t",
         "mlflow.user": "fab90520-04b4-4f26-b38f-9fe791a83a2d",
         "synapseml.experiment.artifactId": "490599aa-dcec-48ce-899d-b6869f6a3956",
         "synapseml.experimentName": "vessel_routing_crude_blending_optimization_scenario_Scenario8_experiment",
         "synapseml.livy.id": "f4c9b725-e93b-42ed-a44f-72e20c985c4a",
         "synapseml.notebook.artifactId": "93c536e1-0f97-46c6-ac03-df5d06e20b61",
         "synapseml.run.artifactJobId": "7c61a53a-3172-4616-b438-56001588d021",
         "synapseml.user.id": "c4ece0d9-4558-436c-99c7-b188470aee8c",
         "synapseml.user.name": "Vishwas Patel (EXT/DIGITAL)"
        }
       },
       "info": {
        "artifact_uri": "sds://onelakesoutheastasia.pbidedicated.windows.net/80412da6-7d25-49aa-b54e-18a62380b477/490599aa-dcec-48ce-899d-b6869f6a3956/82442d44-bebf-4941-8b38-ca52c477919d/artifacts",
        "end_time": 1753176653,
        "experiment_id": "c06fc8c1-2006-4cb5-a7d1-3bfd322df7a9",
        "lifecycle_stage": "active",
        "run_id": "82442d44-bebf-4941-8b38-ca52c477919d",
        "run_name": "patient_sprout_8302mn7t",
        "start_time": 1753176308,
        "status": "FINISHED",
        "user_id": "20bfdac6-202e-41cd-aa3a-d284e0a7f953"
       },
       "inputs": {
        "dataset_inputs": [],
        "model_inputs": []
       },
       "outputs": {
        "model_outputs": []
       }
      }
     },
     "metadata": {},
     "output_type": "display_data"
    }
   ],
   "source": [
    "mlflow.end_run()"
   ]
  },
  {
   "cell_type": "markdown",
   "id": "3b5c1c5b-8c7d-413c-a617-d69dd4261cc3",
   "metadata": {
    "microsoft": {
     "language": "python",
     "language_group": "jupyter_python"
    },
    "nteract": {
     "transient": {
      "deleting": false
     }
    }
   },
   "source": [
    "## Load Pickle Model"
   ]
  },
  {
   "cell_type": "code",
   "execution_count": 52,
   "id": "c8a8e7c6-bb57-4fa0-96d4-71d22dd3fb11",
   "metadata": {
    "microsoft": {
     "language": "python",
     "language_group": "jupyter_python"
    }
   },
   "outputs": [
    {
     "data": {
      "application/vnd.jupyter.statement-meta+json": {
       "execution_finish_time": "2025-07-22T09:30:54.8718489Z",
       "execution_start_time": "2025-07-22T09:30:54.4289925Z",
       "normalized_state": "finished",
       "parent_msg_id": "33c058b2-ad59-4223-be36-38982ee92691",
       "queued_time": "2025-07-22T09:24:50.7818312Z",
       "session_id": "f4c9b725-e93b-42ed-a44f-72e20c985c4a",
       "session_start_time": null
      }
     },
     "metadata": {},
     "output_type": "display_data"
    }
   ],
   "source": [
    "# model = None"
   ]
  },
  {
   "cell_type": "code",
   "execution_count": 53,
   "id": "7770f604-a6c1-47d7-81d9-4e524344cc00",
   "metadata": {
    "microsoft": {
     "language": "python",
     "language_group": "jupyter_python"
    }
   },
   "outputs": [
    {
     "data": {
      "application/vnd.jupyter.statement-meta+json": {
       "execution_finish_time": "2025-07-22T09:30:55.3148304Z",
       "execution_start_time": "2025-07-22T09:30:54.8737128Z",
       "normalized_state": "finished",
       "parent_msg_id": "5e23626e-50cf-4ed9-8a1b-33187cb28dbb",
       "queued_time": "2025-07-22T09:24:51.0083629Z",
       "session_id": "f4c9b725-e93b-42ed-a44f-72e20c985c4a",
       "session_start_time": null
      }
     },
     "metadata": {},
     "output_type": "display_data"
    }
   ],
   "source": [
    "# import pickle\n",
    "# file_path = f\"/lakehouse/default/Files/Dev/{scenario}/{optimization_type}_optimization_{vessel_count}_vessels.pkl\"\n",
    "\n",
    "# with open(file_path, 'rb') as file:\n",
    "#     model = pickle.load(file)"
   ]
  },
  {
   "cell_type": "code",
   "execution_count": 54,
   "id": "0a474d13-86a0-4c9c-87a0-560c95dd4bac",
   "metadata": {
    "microsoft": {
     "language": "python",
     "language_group": "jupyter_python"
    }
   },
   "outputs": [
    {
     "data": {
      "application/vnd.jupyter.statement-meta+json": {
       "execution_finish_time": "2025-07-22T09:30:55.7496139Z",
       "execution_start_time": "2025-07-22T09:30:55.3167536Z",
       "normalized_state": "finished",
       "parent_msg_id": "5e906e35-9b39-437d-a185-6e6eabb62e2e",
       "queued_time": "2025-07-22T09:24:51.230341Z",
       "session_id": "f4c9b725-e93b-42ed-a44f-72e20c985c4a",
       "session_start_time": null
      }
     },
     "metadata": {},
     "output_type": "display_data"
    }
   ],
   "source": [
    "# file_path"
   ]
  },
  {
   "cell_type": "code",
   "execution_count": null,
   "id": "c97105a0-9791-402f-9cc9-6f742a1d5a9b",
   "metadata": {
    "microsoft": {
     "language": "python",
     "language_group": "jupyter_python"
    }
   },
   "outputs": [],
   "source": []
  },
  {
   "cell_type": "code",
   "execution_count": 55,
   "id": "e6445007-d9df-4e5f-9ea1-8eea3f9fee1c",
   "metadata": {
    "microsoft": {
     "language": "python",
     "language_group": "jupyter_python"
    }
   },
   "outputs": [
    {
     "data": {
      "application/vnd.jupyter.statement-meta+json": {
       "execution_finish_time": "2025-07-22T09:30:56.1835451Z",
       "execution_start_time": "2025-07-22T09:30:55.751145Z",
       "normalized_state": "finished",
       "parent_msg_id": "9f79c344-0a98-467f-9bbb-dfa685feba1f",
       "queued_time": "2025-07-22T09:24:51.5730987Z",
       "session_id": "f4c9b725-e93b-42ed-a44f-72e20c985c4a",
       "session_start_time": null
      }
     },
     "metadata": {},
     "output_type": "display_data"
    }
   ],
   "source": [
    "# vessel_df"
   ]
  },
  {
   "cell_type": "code",
   "execution_count": 56,
   "id": "7e51d583-186f-4bd5-b5d7-cbf73a397141",
   "metadata": {
    "microsoft": {
     "language": "python",
     "language_group": "jupyter_python"
    }
   },
   "outputs": [
    {
     "data": {
      "application/vnd.jupyter.statement-meta+json": {
       "execution_finish_time": "2025-07-22T09:30:56.6209071Z",
       "execution_start_time": "2025-07-22T09:30:56.1851295Z",
       "normalized_state": "finished",
       "parent_msg_id": "bfe75ccd-0e98-48f4-a9fb-cde503317bfb",
       "queued_time": "2025-07-22T09:24:51.7676842Z",
       "session_id": "f4c9b725-e93b-42ed-a44f-72e20c985c4a",
       "session_start_time": null
      }
     },
     "metadata": {},
     "output_type": "display_data"
    }
   ],
   "source": [
    "# base_path = f\"/lakehouse/default/Files/Dev/{scenario}/\"\n",
    "# vessel_routing_filename = f\"vessel_routing_{optimization_type}_optimization_{vessel_count}_vessels.csv\"\n",
    "# vessel_df.to_csv(base_path+vessel_routing_filename)"
   ]
  },
  {
   "cell_type": "code",
   "execution_count": null,
   "id": "8e003f1f-1c8f-473e-a20b-c2a4df166e3f",
   "metadata": {
    "microsoft": {
     "language": "python",
     "language_group": "jupyter_python"
    }
   },
   "outputs": [],
   "source": []
  }
 ],
 "metadata": {
  "dependencies": {
   "lakehouse": {
    "default_lakehouse": "0cdb73ed-8fb9-4c80-9fb6-a092a5166db1",
    "default_lakehouse_name": "OASIS_DEV",
    "default_lakehouse_workspace_id": "80412da6-7d25-49aa-b54e-18a62380b477",
    "known_lakehouses": [
     {
      "id": "0cdb73ed-8fb9-4c80-9fb6-a092a5166db1"
     }
    ]
   }
  },
  "kernel_info": {
   "jupyter_kernel_name": "python3.10",
   "name": "jupyter"
  },
  "kernelspec": {
   "display_name": "Python 3",
   "language": "python",
   "name": "python3"
  },
  "language_info": {
   "name": "python",
   "version": "3.12.9"
  },
  "microsoft": {
   "language": "python",
   "language_group": "jupyter_python",
   "ms_spell_check": {
    "ms_spell_check_language": "en"
   }
  },
  "nteract": {
   "version": "nteract-front-end@1.0.0"
  },
  "spark_compute": {
   "compute_id": "/trident/default",
   "session_options": {
    "conf": {
     "spark.synapse.nbs.session.timeout": "1200000"
    }
   }
  }
 },
 "nbformat": 4,
 "nbformat_minor": 5
}
